{
  "nbformat": 4,
  "nbformat_minor": 0,
  "metadata": {
    "colab": {
      "provenance": [],
      "authorship_tag": "ABX9TyOddnD4MyS53ptT9+yj9awv",
      "include_colab_link": true
    },
    "kernelspec": {
      "name": "python3",
      "display_name": "Python 3"
    },
    "language_info": {
      "name": "python"
    }
  },
  "cells": [
    {
      "cell_type": "markdown",
      "metadata": {
        "id": "view-in-github",
        "colab_type": "text"
      },
      "source": [
        "<a href=\"https://colab.research.google.com/github/yesung05/2024-intro-DA-code/blob/main/w04_3_python_numpy_function2.ipynb\" target=\"_parent\"><img src=\"https://colab.research.google.com/assets/colab-badge.svg\" alt=\"Open In Colab\"/></a>"
      ]
    },
    {
      "cell_type": "markdown",
      "source": [
        "# SECTION 3 내장함수 zeros()와 ones(), empty()"
      ],
      "metadata": {
        "id": "RUOLTgUhSTdx"
      }
    },
    {
      "cell_type": "markdown",
      "source": [
        "## 원소가 모두 0인 배열을 생성하는 zeros()"
      ],
      "metadata": {
        "id": "2cPgi3pDS33h"
      }
    },
    {
      "cell_type": "code",
      "source": [
        "import numpy as np\n",
        "help(np.zeros)"
      ],
      "metadata": {
        "colab": {
          "base_uri": "https://localhost:8080/"
        },
        "id": "RE_ni2x-S6a8",
        "outputId": "94af7096-6a4e-42ce-f651-a5f8a927a4d1"
      },
      "execution_count": null,
      "outputs": [
        {
          "output_type": "stream",
          "name": "stdout",
          "text": [
            "Help on built-in function zeros in module numpy:\n",
            "\n",
            "zeros(...)\n",
            "    zeros(shape, dtype=float, order='C', *, like=None)\n",
            "    \n",
            "    Return a new array of given shape and type, filled with zeros.\n",
            "    \n",
            "    Parameters\n",
            "    ----------\n",
            "    shape : int or tuple of ints\n",
            "        Shape of the new array, e.g., ``(2, 3)`` or ``2``.\n",
            "    dtype : data-type, optional\n",
            "        The desired data-type for the array, e.g., `numpy.int8`.  Default is\n",
            "        `numpy.float64`.\n",
            "    order : {'C', 'F'}, optional, default: 'C'\n",
            "        Whether to store multi-dimensional data in row-major\n",
            "        (C-style) or column-major (Fortran-style) order in\n",
            "        memory.\n",
            "    like : array_like, optional\n",
            "        Reference object to allow the creation of arrays which are not\n",
            "        NumPy arrays. If an array-like passed in as ``like`` supports\n",
            "        the ``__array_function__`` protocol, the result will be defined\n",
            "        by it. In this case, it ensures the creation of an array object\n",
            "        compatible with that passed in via this argument.\n",
            "    \n",
            "        .. versionadded:: 1.20.0\n",
            "    \n",
            "    Returns\n",
            "    -------\n",
            "    out : ndarray\n",
            "        Array of zeros with the given shape, dtype, and order.\n",
            "    \n",
            "    See Also\n",
            "    --------\n",
            "    zeros_like : Return an array of zeros with shape and type of input.\n",
            "    empty : Return a new uninitialized array.\n",
            "    ones : Return a new array setting values to one.\n",
            "    full : Return a new array of given shape filled with value.\n",
            "    \n",
            "    Examples\n",
            "    --------\n",
            "    >>> np.zeros(5)\n",
            "    array([ 0.,  0.,  0.,  0.,  0.])\n",
            "    \n",
            "    >>> np.zeros((5,), dtype=int)\n",
            "    array([0, 0, 0, 0, 0])\n",
            "    \n",
            "    >>> np.zeros((2, 1))\n",
            "    array([[ 0.],\n",
            "           [ 0.]])\n",
            "    \n",
            "    >>> s = (2,2)\n",
            "    >>> np.zeros(s)\n",
            "    array([[ 0.,  0.],\n",
            "           [ 0.,  0.]])\n",
            "    \n",
            "    >>> np.zeros((2,), dtype=[('x', 'i4'), ('y', 'i4')]) # custom dtype\n",
            "    array([(0, 0), (0, 0)],\n",
            "          dtype=[('x', '<i4'), ('y', '<i4')])\n",
            "\n"
          ]
        }
      ]
    },
    {
      "cell_type": "code",
      "source": [
        "import numpy as np\n",
        "\n",
        "a = np.zeros(5)\n",
        "a"
      ],
      "metadata": {
        "colab": {
          "base_uri": "https://localhost:8080/"
        },
        "id": "KlMJcPQsS95T",
        "outputId": "179a39e4-ae10-4617-921d-dbaa67c6becd"
      },
      "execution_count": 2,
      "outputs": [
        {
          "output_type": "execute_result",
          "data": {
            "text/plain": [
              "array([0., 0., 0., 0., 0.])"
            ]
          },
          "metadata": {},
          "execution_count": 2
        }
      ]
    },
    {
      "cell_type": "code",
      "source": [
        "a.dtype #datatype\n"
      ],
      "metadata": {
        "colab": {
          "base_uri": "https://localhost:8080/"
        },
        "id": "bJeYSCJ1WHuY",
        "outputId": "a876be15-e0aa-4f1f-eb79-3cdb9eb2fe23"
      },
      "execution_count": 3,
      "outputs": [
        {
          "output_type": "execute_result",
          "data": {
            "text/plain": [
              "dtype('float64')"
            ]
          },
          "metadata": {},
          "execution_count": 3
        }
      ]
    },
    {
      "cell_type": "code",
      "source": [
        "np.zeros((5,),dtype=int) #그냥 (5,)는 열이 5개짜리 생성"
      ],
      "metadata": {
        "id": "01azvpJvWI6u",
        "colab": {
          "base_uri": "https://localhost:8080/"
        },
        "outputId": "b72781f0-bfdd-4548-f793-9190656ea721"
      },
      "execution_count": 4,
      "outputs": [
        {
          "output_type": "execute_result",
          "data": {
            "text/plain": [
              "array([0, 0, 0, 0, 0])"
            ]
          },
          "metadata": {},
          "execution_count": 4
        }
      ]
    },
    {
      "cell_type": "code",
      "source": [
        "b = np.zeros((2,1))\n",
        "b"
      ],
      "metadata": {
        "colab": {
          "base_uri": "https://localhost:8080/"
        },
        "id": "1STheFmg4OXK",
        "outputId": "5fb808db-1654-45fc-addc-b26d700e0328"
      },
      "execution_count": 5,
      "outputs": [
        {
          "output_type": "execute_result",
          "data": {
            "text/plain": [
              "array([[0.],\n",
              "       [0.]])"
            ]
          },
          "metadata": {},
          "execution_count": 5
        }
      ]
    },
    {
      "cell_type": "code",
      "source": [
        "b.shape"
      ],
      "metadata": {
        "colab": {
          "base_uri": "https://localhost:8080/"
        },
        "id": "y8lsWF4F4sgM",
        "outputId": "f77a6b06-25bf-4a4f-f513-6341e473e874"
      },
      "execution_count": 6,
      "outputs": [
        {
          "output_type": "execute_result",
          "data": {
            "text/plain": [
              "(2, 1)"
            ]
          },
          "metadata": {},
          "execution_count": 6
        }
      ]
    },
    {
      "cell_type": "markdown",
      "source": [
        "## 원소가 모두 1인 배열을 생성하는 ones()"
      ],
      "metadata": {
        "id": "USQTSsbT4s_t"
      }
    },
    {
      "cell_type": "code",
      "source": [
        "import numpy as np\n",
        "\n",
        "np.ones((2, 4))"
      ],
      "metadata": {
        "colab": {
          "base_uri": "https://localhost:8080/"
        },
        "id": "wCR9mWDC46j_",
        "outputId": "9489e1c9-b103-4451-f62d-f9ef8ad16ffb"
      },
      "execution_count": 7,
      "outputs": [
        {
          "output_type": "execute_result",
          "data": {
            "text/plain": [
              "array([[1., 1., 1., 1.],\n",
              "       [1., 1., 1., 1.]])"
            ]
          },
          "metadata": {},
          "execution_count": 7
        }
      ]
    },
    {
      "cell_type": "code",
      "source": [
        "import numpy as np\n",
        "\n",
        "np.ones((2,4), dtype=int) # 기본은 실수형임 #이것도 뭔가 O,X 느낌? np.ones로 생성한 배열의 기본 자료형은 int이다 (O, X)"
      ],
      "metadata": {
        "colab": {
          "base_uri": "https://localhost:8080/"
        },
        "id": "yr1Uiv6x4-oo",
        "outputId": "ca237ce9-5787-4ecc-b8d4-952cc45e6f19"
      },
      "execution_count": 8,
      "outputs": [
        {
          "output_type": "execute_result",
          "data": {
            "text/plain": [
              "array([[1, 1, 1, 1],\n",
              "       [1, 1, 1, 1]])"
            ]
          },
          "metadata": {},
          "execution_count": 8
        }
      ]
    },
    {
      "cell_type": "markdown",
      "source": [
        "## 대각선 원소가 모두 1인 2차원 배열을 생성하는 eye()"
      ],
      "metadata": {
        "id": "QuN0ad3W5GrK"
      }
    },
    {
      "cell_type": "code",
      "source": [
        "help(np.eye)"
      ],
      "metadata": {
        "colab": {
          "base_uri": "https://localhost:8080/"
        },
        "id": "BSsUB6H95N_Y",
        "outputId": "3c3fa8be-8192-4ba2-b292-a3f3cc438eb1"
      },
      "execution_count": 9,
      "outputs": [
        {
          "output_type": "stream",
          "name": "stdout",
          "text": [
            "Help on function eye in module numpy:\n",
            "\n",
            "eye(N, M=None, k=0, dtype=<class 'float'>, order='C', *, like=None)\n",
            "    Return a 2-D array with ones on the diagonal and zeros elsewhere.\n",
            "    \n",
            "    Parameters\n",
            "    ----------\n",
            "    N : int\n",
            "      Number of rows in the output.\n",
            "    M : int, optional\n",
            "      Number of columns in the output. If None, defaults to `N`.\n",
            "    k : int, optional\n",
            "      Index of the diagonal: 0 (the default) refers to the main diagonal,\n",
            "      a positive value refers to an upper diagonal, and a negative value\n",
            "      to a lower diagonal.\n",
            "    dtype : data-type, optional\n",
            "      Data-type of the returned array.\n",
            "    order : {'C', 'F'}, optional\n",
            "        Whether the output should be stored in row-major (C-style) or\n",
            "        column-major (Fortran-style) order in memory.\n",
            "    \n",
            "        .. versionadded:: 1.14.0\n",
            "    like : array_like, optional\n",
            "        Reference object to allow the creation of arrays which are not\n",
            "        NumPy arrays. If an array-like passed in as ``like`` supports\n",
            "        the ``__array_function__`` protocol, the result will be defined\n",
            "        by it. In this case, it ensures the creation of an array object\n",
            "        compatible with that passed in via this argument.\n",
            "    \n",
            "        .. versionadded:: 1.20.0\n",
            "    \n",
            "    Returns\n",
            "    -------\n",
            "    I : ndarray of shape (N,M)\n",
            "      An array where all elements are equal to zero, except for the `k`-th\n",
            "      diagonal, whose values are equal to one.\n",
            "    \n",
            "    See Also\n",
            "    --------\n",
            "    identity : (almost) equivalent function\n",
            "    diag : diagonal 2-D array from a 1-D array specified by the user.\n",
            "    \n",
            "    Examples\n",
            "    --------\n",
            "    >>> np.eye(2, dtype=int)\n",
            "    array([[1, 0],\n",
            "           [0, 1]])\n",
            "    >>> np.eye(3, k=1)\n",
            "    array([[0.,  1.,  0.],\n",
            "           [0.,  0.,  1.],\n",
            "           [0.,  0.,  0.]])\n",
            "\n"
          ]
        }
      ]
    },
    {
      "cell_type": "code",
      "source": [
        "import numpy as np\n",
        "\n",
        "np.eye(3) #단위행렬? 예도 기본 float"
      ],
      "metadata": {
        "colab": {
          "base_uri": "https://localhost:8080/"
        },
        "id": "__bHG_Bn5QG3",
        "outputId": "1b28c168-8faa-46e1-b538-c71bbc69d927"
      },
      "execution_count": 10,
      "outputs": [
        {
          "output_type": "execute_result",
          "data": {
            "text/plain": [
              "array([[1., 0., 0.],\n",
              "       [0., 1., 0.],\n",
              "       [0., 0., 1.]])"
            ]
          },
          "metadata": {},
          "execution_count": 10
        }
      ]
    },
    {
      "cell_type": "code",
      "source": [
        "np.eye(2, dtype=int)"
      ],
      "metadata": {
        "colab": {
          "base_uri": "https://localhost:8080/"
        },
        "id": "3dP57UU45sSm",
        "outputId": "aae9338d-6144-40ef-8b13-e3b9962c92b8"
      },
      "execution_count": 11,
      "outputs": [
        {
          "output_type": "execute_result",
          "data": {
            "text/plain": [
              "array([[1, 0],\n",
              "       [0, 1]])"
            ]
          },
          "metadata": {},
          "execution_count": 11
        }
      ]
    },
    {
      "cell_type": "code",
      "source": [
        "np.eye(3,4) #가로 새로가 다르면 왼쪽 위 고정"
      ],
      "metadata": {
        "colab": {
          "base_uri": "https://localhost:8080/"
        },
        "id": "rDzpCCoz6BNC",
        "outputId": "73d29057-6ab4-4ede-d2ad-d35fef55ccba"
      },
      "execution_count": 12,
      "outputs": [
        {
          "output_type": "execute_result",
          "data": {
            "text/plain": [
              "array([[1., 0., 0., 0.],\n",
              "       [0., 1., 0., 0.],\n",
              "       [0., 0., 1., 0.]])"
            ]
          },
          "metadata": {},
          "execution_count": 12
        }
      ]
    },
    {
      "cell_type": "code",
      "source": [
        "a = np.eye(3,4,1) #행, 열, 1시작 지점"
      ],
      "metadata": {
        "id": "RxYUNtO66EGa"
      },
      "execution_count": 13,
      "outputs": []
    },
    {
      "cell_type": "code",
      "source": [
        "a = np.eye(3,4,-1)"
      ],
      "metadata": {
        "id": "FP8kOKmj6OJa"
      },
      "execution_count": 14,
      "outputs": []
    },
    {
      "cell_type": "markdown",
      "source": [
        "## 원소가 모두 1인 배열을 생성하는 full()"
      ],
      "metadata": {
        "id": "_knX7Ncl6RzC"
      }
    },
    {
      "cell_type": "code",
      "source": [
        "help(np.full)"
      ],
      "metadata": {
        "colab": {
          "base_uri": "https://localhost:8080/"
        },
        "id": "Kvv3EBeY6ksX",
        "outputId": "293e5e3f-785a-42e3-a7f0-e8818022aebd"
      },
      "execution_count": 15,
      "outputs": [
        {
          "output_type": "stream",
          "name": "stdout",
          "text": [
            "Help on function full in module numpy:\n",
            "\n",
            "full(shape, fill_value, dtype=None, order='C', *, like=None)\n",
            "    Return a new array of given shape and type, filled with `fill_value`.\n",
            "    \n",
            "    Parameters\n",
            "    ----------\n",
            "    shape : int or sequence of ints\n",
            "        Shape of the new array, e.g., ``(2, 3)`` or ``2``.\n",
            "    fill_value : scalar or array_like\n",
            "        Fill value.\n",
            "    dtype : data-type, optional\n",
            "        The desired data-type for the array  The default, None, means\n",
            "         ``np.array(fill_value).dtype``.\n",
            "    order : {'C', 'F'}, optional\n",
            "        Whether to store multidimensional data in C- or Fortran-contiguous\n",
            "        (row- or column-wise) order in memory.\n",
            "    like : array_like, optional\n",
            "        Reference object to allow the creation of arrays which are not\n",
            "        NumPy arrays. If an array-like passed in as ``like`` supports\n",
            "        the ``__array_function__`` protocol, the result will be defined\n",
            "        by it. In this case, it ensures the creation of an array object\n",
            "        compatible with that passed in via this argument.\n",
            "    \n",
            "        .. versionadded:: 1.20.0\n",
            "    \n",
            "    Returns\n",
            "    -------\n",
            "    out : ndarray\n",
            "        Array of `fill_value` with the given shape, dtype, and order.\n",
            "    \n",
            "    See Also\n",
            "    --------\n",
            "    full_like : Return a new array with shape of input filled with value.\n",
            "    empty : Return a new uninitialized array.\n",
            "    ones : Return a new array setting values to one.\n",
            "    zeros : Return a new array setting values to zero.\n",
            "    \n",
            "    Examples\n",
            "    --------\n",
            "    >>> np.full((2, 2), np.inf)\n",
            "    array([[inf, inf],\n",
            "           [inf, inf]])\n",
            "    >>> np.full((2, 2), 10)\n",
            "    array([[10, 10],\n",
            "           [10, 10]])\n",
            "    \n",
            "    >>> np.full((2, 2), [1, 2])\n",
            "    array([[1, 2],\n",
            "           [1, 2]])\n",
            "\n"
          ]
        }
      ]
    },
    {
      "cell_type": "code",
      "source": [
        "import numpy as np\n",
        "\n",
        "np.full([2,3],10) #(행, 열)을 10으로 채워라"
      ],
      "metadata": {
        "colab": {
          "base_uri": "https://localhost:8080/"
        },
        "id": "Qk5b-NsY6mlS",
        "outputId": "025e2464-0189-4819-e4c1-286393eddc51"
      },
      "execution_count": 18,
      "outputs": [
        {
          "output_type": "execute_result",
          "data": {
            "text/plain": [
              "array([[10, 10, 10],\n",
              "       [10, 10, 10]])"
            ]
          },
          "metadata": {},
          "execution_count": 18
        }
      ]
    },
    {
      "cell_type": "code",
      "source": [
        "np.full([2,3],(1,2,3)) #1,2,3 이 들어간 2x3 배열"
      ],
      "metadata": {
        "colab": {
          "base_uri": "https://localhost:8080/"
        },
        "id": "n4ysNnBF6qdQ",
        "outputId": "da1085f9-f37d-4971-84e6-babf9c4780c8"
      },
      "execution_count": 19,
      "outputs": [
        {
          "output_type": "execute_result",
          "data": {
            "text/plain": [
              "array([[1, 2, 3],\n",
              "       [1, 2, 3]])"
            ]
          },
          "metadata": {},
          "execution_count": 19
        }
      ]
    },
    {
      "cell_type": "code",
      "source": [
        "np.full([3,4], range(4))"
      ],
      "metadata": {
        "colab": {
          "base_uri": "https://localhost:8080/"
        },
        "id": "jK-P_L968D2h",
        "outputId": "7c03d6dd-9d85-47d9-b032-da4b4a50272d"
      },
      "execution_count": 28,
      "outputs": [
        {
          "output_type": "execute_result",
          "data": {
            "text/plain": [
              "array([[0, 1, 2, 3],\n",
              "       [0, 1, 2, 3],\n",
              "       [0, 1, 2, 3]])"
            ]
          },
          "metadata": {},
          "execution_count": 28
        }
      ]
    },
    {
      "cell_type": "code",
      "source": [
        "np.full([4,3],fill_value=np.arange(4).reshape(4,1))\n",
        "# full로 4x3배열 만들기, fill_value= 는 여기서는 필요 없을수도? 변수는 아님. 1x2 배열 생성[[0][1][2][3]] -> reshape 없으면 오류 발생 왜? => 3열인데 4개의 데이터 넣으려 함. arange(3) 이면 오류는 없음 다만 012 012 이런싟\n",
        "#뭔가 리스트 컨프리헨션처럼 햇갈리는게 있을듯."
      ],
      "metadata": {
        "colab": {
          "base_uri": "https://localhost:8080/"
        },
        "id": "H0XYiYuY69Xe",
        "outputId": "77ca5714-7fc7-4226-ed33-76571f5564b5"
      },
      "execution_count": 29,
      "outputs": [
        {
          "output_type": "execute_result",
          "data": {
            "text/plain": [
              "array([[0, 0, 0],\n",
              "       [1, 1, 1],\n",
              "       [2, 2, 2],\n",
              "       [3, 3, 3]])"
            ]
          },
          "metadata": {},
          "execution_count": 29
        }
      ]
    },
    {
      "cell_type": "markdown",
      "source": [
        "## 원소가 모두 1인 배열을 생성하는 empty()"
      ],
      "metadata": {
        "id": "jPJHz2Kj7a41"
      }
    },
    {
      "cell_type": "code",
      "source": [
        "import numpy as np\n",
        "\n",
        "np.empty([2,2])"
      ],
      "metadata": {
        "colab": {
          "base_uri": "https://localhost:8080/"
        },
        "id": "-czvduYB8QVA",
        "outputId": "1cf13b84-3520-4030-8bed-34d84bb62763"
      },
      "execution_count": 30,
      "outputs": [
        {
          "output_type": "execute_result",
          "data": {
            "text/plain": [
              "array([[0.0e+000, 4.9e-324],\n",
              "       [9.9e-324, 1.5e-323]])"
            ]
          },
          "metadata": {},
          "execution_count": 30
        }
      ]
    },
    {
      "cell_type": "code",
      "source": [
        "np.empty(3)"
      ],
      "metadata": {
        "colab": {
          "base_uri": "https://localhost:8080/"
        },
        "id": "XZO2zvHn8p0-",
        "outputId": "1797eab8-c1bd-40e2-967d-a7b63010937c"
      },
      "execution_count": 31,
      "outputs": [
        {
          "output_type": "execute_result",
          "data": {
            "text/plain": [
              "array([4.9e-324, 9.9e-324, 1.5e-323])"
            ]
          },
          "metadata": {},
          "execution_count": 31
        }
      ]
    },
    {
      "cell_type": "code",
      "source": [
        "np.empty([2,3], dtype=int)"
      ],
      "metadata": {
        "colab": {
          "base_uri": "https://localhost:8080/"
        },
        "id": "tzxDJKug8sfb",
        "outputId": "5abe136d-ea16-47cf-ee8a-b2973f785a8e"
      },
      "execution_count": 33,
      "outputs": [
        {
          "output_type": "execute_result",
          "data": {
            "text/plain": [
              "array([[135465536657692,               0, 135458974486848],\n",
              "       [135458974487040, 135458974487168, 135458974487296]])"
            ]
          },
          "metadata": {},
          "execution_count": 33
        }
      ]
    },
    {
      "cell_type": "markdown",
      "source": [
        "## 원소값이 0인 주어진 형태의 배열을 생성하는 zeros_like()"
      ],
      "metadata": {
        "id": "zcMGd5Eb80Js"
      }
    },
    {
      "cell_type": "code",
      "source": [
        "import numpy as np\n",
        "\n",
        "a = np.arange(8).reshape(2,4)\n",
        "a"
      ],
      "metadata": {
        "colab": {
          "base_uri": "https://localhost:8080/"
        },
        "id": "qPXOl8UV85XQ",
        "outputId": "28d0fbb2-d2c2-44b4-cf82-b14911b1283a"
      },
      "execution_count": 34,
      "outputs": [
        {
          "output_type": "execute_result",
          "data": {
            "text/plain": [
              "array([[0, 1, 2, 3],\n",
              "       [4, 5, 6, 7]])"
            ]
          },
          "metadata": {},
          "execution_count": 34
        }
      ]
    },
    {
      "cell_type": "code",
      "source": [
        "np.zeros_like(a) # 기존 행렬과 같은 형태이지만 내용물이 0임"
      ],
      "metadata": {
        "colab": {
          "base_uri": "https://localhost:8080/"
        },
        "id": "xEyrYs3889wT",
        "outputId": "c248d4bd-0e3b-47dd-9565-d7ac6a2a342c"
      },
      "execution_count": 36,
      "outputs": [
        {
          "output_type": "execute_result",
          "data": {
            "text/plain": [
              "array([[0, 0, 0, 0],\n",
              "       [0, 0, 0, 0]])"
            ]
          },
          "metadata": {},
          "execution_count": 36
        }
      ]
    },
    {
      "cell_type": "markdown",
      "source": [
        "## 원소값이 1인 주어진 형태의 배열을 생성하는 ones_like()"
      ],
      "metadata": {
        "id": "GNH7Wieb8_7R"
      }
    },
    {
      "cell_type": "code",
      "source": [
        "np.ones_like(a) #책에선 실수인데 여기선 정수? 책이 오류인가 내가 실수했나."
      ],
      "metadata": {
        "colab": {
          "base_uri": "https://localhost:8080/"
        },
        "id": "98gWBPdW9QpQ",
        "outputId": "69bc4219-89a3-48ca-8890-0afe89232a5b"
      },
      "execution_count": 38,
      "outputs": [
        {
          "output_type": "execute_result",
          "data": {
            "text/plain": [
              "array([[1, 1, 1, 1],\n",
              "       [1, 1, 1, 1]])"
            ]
          },
          "metadata": {},
          "execution_count": 38
        }
      ]
    },
    {
      "cell_type": "markdown",
      "source": [
        "## 원소값이 주어진 값이며 주어진 형태의 배열을 생성하는 full_like()"
      ],
      "metadata": {
        "id": "Rlv5XAqO9UoH"
      }
    },
    {
      "cell_type": "code",
      "source": [
        "np.full_like(a,5)"
      ],
      "metadata": {
        "colab": {
          "base_uri": "https://localhost:8080/"
        },
        "id": "tysvX95l9oDK",
        "outputId": "c27afc1b-ae9d-4b5c-da92-6444fea191a3"
      },
      "execution_count": 39,
      "outputs": [
        {
          "output_type": "execute_result",
          "data": {
            "text/plain": [
              "array([[5, 5, 5, 5],\n",
              "       [5, 5, 5, 5]])"
            ]
          },
          "metadata": {},
          "execution_count": 39
        }
      ]
    },
    {
      "cell_type": "code",
      "source": [],
      "metadata": {
        "id": "aTOD_1nv9qA6"
      },
      "execution_count": null,
      "outputs": []
    }
  ]
}