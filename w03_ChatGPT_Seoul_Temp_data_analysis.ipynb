{
  "nbformat": 4,
  "nbformat_minor": 0,
  "metadata": {
    "colab": {
      "provenance": [],
      "authorship_tag": "ABX9TyNHwXnjWy0psIEdBJVeazsf",
      "include_colab_link": true
    },
    "kernelspec": {
      "name": "python3",
      "display_name": "Python 3"
    },
    "language_info": {
      "name": "python"
    }
  },
  "cells": [
    {
      "cell_type": "markdown",
      "metadata": {
        "id": "view-in-github",
        "colab_type": "text"
      },
      "source": [
        "<a href=\"https://colab.research.google.com/github/yesung05/2024-intro-DA-code/blob/main/w03_ChatGPT_Seoul_Temp_data_analysis.ipynb\" target=\"_parent\"><img src=\"https://colab.research.google.com/assets/colab-badge.svg\" alt=\"Open In Colab\"/></a>"
      ]
    },
    {
      "cell_type": "code",
      "source": [
        "import pandas as pd\n",
        "\n",
        "# CSV 파일 불러오기 (파일 경로를 첨부 파일 경로로 변경해야 합니다)\n",
        "file_path = 'Tempinfo.csv'  # 예: 'C:/Users/username/Desktop/Tempinfo.csv'\n",
        "data = pd.read_csv(file_path, encoding='utf-8')  # 필요시 인코딩을 cp949로 변경\n",
        "\n",
        "# 열 이름 확인 (파일에 맞게 수정 필요)\n",
        "print(\"열 이름:\", data.columns)\n",
        "\n",
        "# 데이터 타입 확인 및 변환 (온도 열이 숫자 타입인지 확인)\n",
        "# 예시로 온도 열이 '온도'라는 이름으로 저장되어 있다고 가정\n",
        "data['최고기온(℃)'] = pd.to_numeric(data['최고기온(℃)'], errors='coerce')\n",
        "\n",
        "# 결측값 처리 (온도가 숫자로 변환되지 않은 값 제거)\n",
        "data = data.dropna(subset=['최고기온(℃)'])\n",
        "\n",
        "# 가장 높은 온도를 기록한 날 찾기\n",
        "max_temp_row = data.loc[data['최고기온(℃)'] == data['최고기온(℃)'].max()]\n",
        "\n",
        "# 가장 높은 온도와 해당 일자 출력\n",
        "if not max_temp_row.empty:\n",
        "    print(\"가장 높은 온도:\", max_temp_row['최고기온(℃)'].values[0], \"도\")\n",
        "    print(\"해당 일자:\", max_temp_row['날짜'].values[0])\n",
        "else:\n",
        "    print(\"데이터가 없습니다.\")\n"
      ],
      "metadata": {
        "colab": {
          "base_uri": "https://localhost:8080/"
        },
        "id": "0iFex5zjTx-y",
        "outputId": "bb89f83a-8c61-475b-d228-b228849bcb09"
      },
      "execution_count": 17,
      "outputs": [
        {
          "output_type": "stream",
          "name": "stdout",
          "text": [
            "열 이름: Index(['날짜', '지점', '평균기온(℃)', '최저기온(℃)', '최고기온(℃)'], dtype='object')\n",
            "가장 높은 온도: 39.6 도\n",
            "해당 일자: \t2018-08-01\n"
          ]
        }
      ]
    }
  ]
}