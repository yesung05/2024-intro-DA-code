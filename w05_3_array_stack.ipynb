{
  "nbformat": 4,
  "nbformat_minor": 0,
  "metadata": {
    "colab": {
      "provenance": [],
      "authorship_tag": "ABX9TyOOBFSGsa1IA24/BgvVZurl",
      "include_colab_link": true
    },
    "kernelspec": {
      "name": "python3",
      "display_name": "Python 3"
    },
    "language_info": {
      "name": "python"
    }
  },
  "cells": [
    {
      "cell_type": "markdown",
      "metadata": {
        "id": "view-in-github",
        "colab_type": "text"
      },
      "source": [
        "<a href=\"https://colab.research.google.com/github/yesung05/2024-intro-DA-code/blob/main/w05_3_array_stack.ipynb\" target=\"_parent\"><img src=\"https://colab.research.google.com/assets/colab-badge.svg\" alt=\"Open In Colab\"/></a>"
      ]
    },
    {
      "cell_type": "markdown",
      "source": [
        "#SECTION 01 배열 결합"
      ],
      "metadata": {
        "id": "6m9Fj6eIwI4B"
      }
    },
    {
      "cell_type": "markdown",
      "source": [
        "## numpy.vstack()"
      ],
      "metadata": {
        "id": "vFjWvhZySUwK"
      }
    },
    {
      "cell_type": "code",
      "source": [
        "import numpy as np\n",
        "\n",
        "a = np.arange(6).reshape(3,2)\n",
        "a"
      ],
      "metadata": {
        "colab": {
          "base_uri": "https://localhost:8080/"
        },
        "id": "da6RONT4Ske1",
        "outputId": "4717f90d-f56b-4da3-95a7-86e4de696077"
      },
      "execution_count": null,
      "outputs": [
        {
          "output_type": "execute_result",
          "data": {
            "text/plain": [
              "array([[0, 1],\n",
              "       [2, 3],\n",
              "       [4, 5]])"
            ]
          },
          "metadata": {},
          "execution_count": 1
        }
      ]
    },
    {
      "cell_type": "code",
      "source": [
        "b = np.arange(6,12).reshape(3,2)\n",
        "b"
      ],
      "metadata": {
        "colab": {
          "base_uri": "https://localhost:8080/"
        },
        "id": "QRwq9c9mSorD",
        "outputId": "af61fab6-767f-44ca-f923-0ced33534d9b"
      },
      "execution_count": null,
      "outputs": [
        {
          "output_type": "execute_result",
          "data": {
            "text/plain": [
              "array([[ 6,  7],\n",
              "       [ 8,  9],\n",
              "       [10, 11]])"
            ]
          },
          "metadata": {},
          "execution_count": 2
        }
      ]
    },
    {
      "cell_type": "code",
      "source": [
        "np.vstack((a,b)) # 수직으로 쌓기"
      ],
      "metadata": {
        "colab": {
          "base_uri": "https://localhost:8080/"
        },
        "id": "onm6Ef0TSwPr",
        "outputId": "cee46948-e786-41a6-ce76-97c178af5a73"
      },
      "execution_count": null,
      "outputs": [
        {
          "output_type": "execute_result",
          "data": {
            "text/plain": [
              "array([[ 0,  1],\n",
              "       [ 2,  3],\n",
              "       [ 4,  5],\n",
              "       [ 6,  7],\n",
              "       [ 8,  9],\n",
              "       [10, 11]])"
            ]
          },
          "metadata": {},
          "execution_count": 11
        }
      ]
    },
    {
      "cell_type": "code",
      "source": [
        "c = np.arange(20,24).reshape(2,2)"
      ],
      "metadata": {
        "id": "BHRFNsxpSyCW"
      },
      "execution_count": null,
      "outputs": []
    },
    {
      "cell_type": "code",
      "source": [
        "np.vstack((a,c)) #수직으로 쌓기"
      ],
      "metadata": {
        "colab": {
          "base_uri": "https://localhost:8080/"
        },
        "id": "5xGEcW1-S0v1",
        "outputId": "3d7aac86-da11-44b1-f6ad-eaf380c82f21"
      },
      "execution_count": null,
      "outputs": [
        {
          "output_type": "execute_result",
          "data": {
            "text/plain": [
              "array([[ 0,  1],\n",
              "       [ 2,  3],\n",
              "       [ 4,  5],\n",
              "       [20, 21],\n",
              "       [22, 23]])"
            ]
          },
          "metadata": {},
          "execution_count": 12
        }
      ]
    },
    {
      "cell_type": "code",
      "source": [
        "np.vstack((a,b,c)) #3개 한번에 쌓기"
      ],
      "metadata": {
        "colab": {
          "base_uri": "https://localhost:8080/"
        },
        "id": "m1Teq3mwTEYx",
        "outputId": "a27ed4fe-7346-4095-9030-f82e8423babe"
      },
      "execution_count": null,
      "outputs": [
        {
          "output_type": "execute_result",
          "data": {
            "text/plain": [
              "array([[ 0,  1],\n",
              "       [ 2,  3],\n",
              "       [ 4,  5],\n",
              "       [ 6,  7],\n",
              "       [ 8,  9],\n",
              "       [10, 11],\n",
              "       [20, 21],\n",
              "       [22, 23]])"
            ]
          },
          "metadata": {},
          "execution_count": 13
        }
      ]
    },
    {
      "cell_type": "code",
      "source": [
        "d = np.array([100,200])\n",
        "np.vstack((a,d))"
      ],
      "metadata": {
        "colab": {
          "base_uri": "https://localhost:8080/"
        },
        "id": "7FzUk3A9TGA4",
        "outputId": "8cbc2102-606b-4fa6-8d28-4fe76c6c5704"
      },
      "execution_count": null,
      "outputs": [
        {
          "output_type": "execute_result",
          "data": {
            "text/plain": [
              "array([[  0,   1],\n",
              "       [  2,   3],\n",
              "       [  4,   5],\n",
              "       [100, 200]])"
            ]
          },
          "metadata": {},
          "execution_count": 8
        }
      ]
    },
    {
      "cell_type": "code",
      "source": [
        "d = np.array([100,200,300]) #모양 안 맞아서 오류\n",
        "np.vstack((a,d))"
      ],
      "metadata": {
        "colab": {
          "base_uri": "https://localhost:8080/",
          "height": 294
        },
        "id": "hBIVno9oTJw6",
        "outputId": "d5cfa045-713c-4d2d-9325-125056b7ba7b"
      },
      "execution_count": null,
      "outputs": [
        {
          "output_type": "error",
          "ename": "ValueError",
          "evalue": "all the input array dimensions except for the concatenation axis must match exactly, but along dimension 1, the array at index 0 has size 2 and the array at index 1 has size 3",
          "traceback": [
            "\u001b[0;31m---------------------------------------------------------------------------\u001b[0m",
            "\u001b[0;31mValueError\u001b[0m                                Traceback (most recent call last)",
            "\u001b[0;32m<ipython-input-9-1243d348dbdf>\u001b[0m in \u001b[0;36m<cell line: 2>\u001b[0;34m()\u001b[0m\n\u001b[1;32m      1\u001b[0m \u001b[0md\u001b[0m \u001b[0;34m=\u001b[0m \u001b[0mnp\u001b[0m\u001b[0;34m.\u001b[0m\u001b[0marray\u001b[0m\u001b[0;34m(\u001b[0m\u001b[0;34m[\u001b[0m\u001b[0;36m100\u001b[0m\u001b[0;34m,\u001b[0m\u001b[0;36m200\u001b[0m\u001b[0;34m,\u001b[0m\u001b[0;36m300\u001b[0m\u001b[0;34m]\u001b[0m\u001b[0;34m)\u001b[0m\u001b[0;34m\u001b[0m\u001b[0;34m\u001b[0m\u001b[0m\n\u001b[0;32m----> 2\u001b[0;31m \u001b[0mnp\u001b[0m\u001b[0;34m.\u001b[0m\u001b[0mvstack\u001b[0m\u001b[0;34m(\u001b[0m\u001b[0;34m(\u001b[0m\u001b[0ma\u001b[0m\u001b[0;34m,\u001b[0m\u001b[0md\u001b[0m\u001b[0;34m)\u001b[0m\u001b[0;34m)\u001b[0m\u001b[0;34m\u001b[0m\u001b[0;34m\u001b[0m\u001b[0m\n\u001b[0m",
            "\u001b[0;32m/usr/local/lib/python3.10/dist-packages/numpy/core/shape_base.py\u001b[0m in \u001b[0;36mvstack\u001b[0;34m(tup, dtype, casting)\u001b[0m\n\u001b[1;32m    287\u001b[0m     \u001b[0;32mif\u001b[0m \u001b[0;32mnot\u001b[0m \u001b[0misinstance\u001b[0m\u001b[0;34m(\u001b[0m\u001b[0marrs\u001b[0m\u001b[0;34m,\u001b[0m \u001b[0mlist\u001b[0m\u001b[0;34m)\u001b[0m\u001b[0;34m:\u001b[0m\u001b[0;34m\u001b[0m\u001b[0;34m\u001b[0m\u001b[0m\n\u001b[1;32m    288\u001b[0m         \u001b[0marrs\u001b[0m \u001b[0;34m=\u001b[0m \u001b[0;34m[\u001b[0m\u001b[0marrs\u001b[0m\u001b[0;34m]\u001b[0m\u001b[0;34m\u001b[0m\u001b[0;34m\u001b[0m\u001b[0m\n\u001b[0;32m--> 289\u001b[0;31m     \u001b[0;32mreturn\u001b[0m \u001b[0m_nx\u001b[0m\u001b[0;34m.\u001b[0m\u001b[0mconcatenate\u001b[0m\u001b[0;34m(\u001b[0m\u001b[0marrs\u001b[0m\u001b[0;34m,\u001b[0m \u001b[0;36m0\u001b[0m\u001b[0;34m,\u001b[0m \u001b[0mdtype\u001b[0m\u001b[0;34m=\u001b[0m\u001b[0mdtype\u001b[0m\u001b[0;34m,\u001b[0m \u001b[0mcasting\u001b[0m\u001b[0;34m=\u001b[0m\u001b[0mcasting\u001b[0m\u001b[0;34m)\u001b[0m\u001b[0;34m\u001b[0m\u001b[0;34m\u001b[0m\u001b[0m\n\u001b[0m\u001b[1;32m    290\u001b[0m \u001b[0;34m\u001b[0m\u001b[0m\n\u001b[1;32m    291\u001b[0m \u001b[0;34m\u001b[0m\u001b[0m\n",
            "\u001b[0;31mValueError\u001b[0m: all the input array dimensions except for the concatenation axis must match exactly, but along dimension 1, the array at index 0 has size 2 and the array at index 1 has size 3"
          ]
        }
      ]
    },
    {
      "cell_type": "code",
      "source": [
        "import numpy as np\n",
        "\n",
        "x = np.array([1,2,3])\n",
        "y = np.array([4,5,6])\n",
        "np.vstack((x,y))"
      ],
      "metadata": {
        "colab": {
          "base_uri": "https://localhost:8080/"
        },
        "id": "5jHbhdJsTRIt",
        "outputId": "f9e5c3a5-4714-427c-8b63-4a259717a988"
      },
      "execution_count": null,
      "outputs": [
        {
          "output_type": "execute_result",
          "data": {
            "text/plain": [
              "array([[1, 2, 3],\n",
              "       [4, 5, 6]])"
            ]
          },
          "metadata": {},
          "execution_count": 10
        }
      ]
    },
    {
      "cell_type": "markdown",
      "source": [
        "## numpy.hstack()"
      ],
      "metadata": {
        "id": "eD6Pj7c_TdrB"
      }
    },
    {
      "cell_type": "code",
      "source": [
        "import numpy as np\n",
        "\n",
        "a = np.arange(6).reshape(3,2)\n",
        "a"
      ],
      "metadata": {
        "colab": {
          "base_uri": "https://localhost:8080/"
        },
        "id": "QVGsQSSUTzqG",
        "outputId": "8182be37-0173-488f-8f0e-61814a37d4a7"
      },
      "execution_count": null,
      "outputs": [
        {
          "output_type": "execute_result",
          "data": {
            "text/plain": [
              "array([[0, 1],\n",
              "       [2, 3],\n",
              "       [4, 5]])"
            ]
          },
          "metadata": {},
          "execution_count": 16
        }
      ]
    },
    {
      "cell_type": "code",
      "source": [
        "b = np.arange(10,19).reshape(3,3)\n",
        "b"
      ],
      "metadata": {
        "colab": {
          "base_uri": "https://localhost:8080/"
        },
        "id": "ASl-bIRhT3cS",
        "outputId": "7409c4ac-2488-428e-a80f-57e884d8509f"
      },
      "execution_count": null,
      "outputs": [
        {
          "output_type": "execute_result",
          "data": {
            "text/plain": [
              "array([[10, 11, 12],\n",
              "       [13, 14, 15],\n",
              "       [16, 17, 18]])"
            ]
          },
          "metadata": {},
          "execution_count": 17
        }
      ]
    },
    {
      "cell_type": "code",
      "source": [
        "np.hstack(((a,b))) #두개를 옆으로 연장"
      ],
      "metadata": {
        "colab": {
          "base_uri": "https://localhost:8080/"
        },
        "id": "OphV-eYMT9-P",
        "outputId": "db98169f-dc6c-46bf-fa48-03e63a70fcb4"
      },
      "execution_count": null,
      "outputs": [
        {
          "output_type": "execute_result",
          "data": {
            "text/plain": [
              "array([[ 0,  1, 10, 11, 12],\n",
              "       [ 2,  3, 13, 14, 15],\n",
              "       [ 4,  5, 16, 17, 18]])"
            ]
          },
          "metadata": {},
          "execution_count": 18
        }
      ]
    },
    {
      "cell_type": "code",
      "source": [
        "c = np.array([[10,20],[30,40]])\n",
        "c"
      ],
      "metadata": {
        "colab": {
          "base_uri": "https://localhost:8080/"
        },
        "id": "Aan-BtR2UBdk",
        "outputId": "6a9479be-b0cc-476c-8a9c-6c4288c09066"
      },
      "execution_count": null,
      "outputs": [
        {
          "output_type": "execute_result",
          "data": {
            "text/plain": [
              "array([[10, 20],\n",
              "       [30, 40]])"
            ]
          },
          "metadata": {},
          "execution_count": 20
        }
      ]
    },
    {
      "cell_type": "code",
      "source": [
        "np.hstasck((a,c))"
      ],
      "metadata": {
        "colab": {
          "base_uri": "https://localhost:8080/",
          "height": 276
        },
        "id": "WEvPy5IyUK08",
        "outputId": "a4cd306c-1860-456f-9201-4ec70367988f"
      },
      "execution_count": null,
      "outputs": [
        {
          "output_type": "error",
          "ename": "AttributeError",
          "evalue": "module 'numpy' has no attribute 'hstasck'",
          "traceback": [
            "\u001b[0;31m---------------------------------------------------------------------------\u001b[0m",
            "\u001b[0;31mAttributeError\u001b[0m                            Traceback (most recent call last)",
            "\u001b[0;32m<ipython-input-21-9a8c40706baa>\u001b[0m in \u001b[0;36m<cell line: 1>\u001b[0;34m()\u001b[0m\n\u001b[0;32m----> 1\u001b[0;31m \u001b[0mnp\u001b[0m\u001b[0;34m.\u001b[0m\u001b[0mhstasck\u001b[0m\u001b[0;34m(\u001b[0m\u001b[0;34m(\u001b[0m\u001b[0ma\u001b[0m\u001b[0;34m,\u001b[0m\u001b[0mc\u001b[0m\u001b[0;34m)\u001b[0m\u001b[0;34m)\u001b[0m\u001b[0;34m\u001b[0m\u001b[0;34m\u001b[0m\u001b[0m\n\u001b[0m",
            "\u001b[0;32m/usr/local/lib/python3.10/dist-packages/numpy/__init__.py\u001b[0m in \u001b[0;36m__getattr__\u001b[0;34m(attr)\u001b[0m\n\u001b[1;32m    331\u001b[0m             \u001b[0;32mraise\u001b[0m \u001b[0mRuntimeError\u001b[0m\u001b[0;34m(\u001b[0m\u001b[0;34m\"Tester was removed in NumPy 1.25.\"\u001b[0m\u001b[0;34m)\u001b[0m\u001b[0;34m\u001b[0m\u001b[0;34m\u001b[0m\u001b[0m\n\u001b[1;32m    332\u001b[0m \u001b[0;34m\u001b[0m\u001b[0m\n\u001b[0;32m--> 333\u001b[0;31m         raise AttributeError(\"module {!r} has no attribute \"\n\u001b[0m\u001b[1;32m    334\u001b[0m                              \"{!r}\".format(__name__, attr))\n\u001b[1;32m    335\u001b[0m \u001b[0;34m\u001b[0m\u001b[0m\n",
            "\u001b[0;31mAttributeError\u001b[0m: module 'numpy' has no attribute 'hstasck'"
          ]
        }
      ]
    },
    {
      "cell_type": "code",
      "source": [
        "np.hstack((np.arange(3),np.arange(10,15)))"
      ],
      "metadata": {
        "colab": {
          "base_uri": "https://localhost:8080/"
        },
        "id": "lwzJDzjlV8cR",
        "outputId": "4fc6c2b2-3d92-457c-f975-9918cbf281b4"
      },
      "execution_count": null,
      "outputs": [
        {
          "output_type": "execute_result",
          "data": {
            "text/plain": [
              "array([ 0,  1,  2, 10, 11, 12, 13, 14])"
            ]
          },
          "metadata": {},
          "execution_count": 22
        }
      ]
    },
    {
      "cell_type": "markdown",
      "source": [
        "## numpy.column_stack"
      ],
      "metadata": {
        "id": "AQFLbRg8WJBk"
      }
    },
    {
      "cell_type": "code",
      "source": [
        "import numpy as np\n",
        "a = np.arange(6).reshape(3,2)\n",
        "a"
      ],
      "metadata": {
        "colab": {
          "base_uri": "https://localhost:8080/"
        },
        "id": "WLGqca-dWNRn",
        "outputId": "28732fe0-6c9a-4956-c596-805dd91280dc"
      },
      "execution_count": null,
      "outputs": [
        {
          "output_type": "execute_result",
          "data": {
            "text/plain": [
              "array([[0, 1],\n",
              "       [2, 3],\n",
              "       [4, 5]])"
            ]
          },
          "metadata": {},
          "execution_count": 23
        }
      ]
    },
    {
      "cell_type": "code",
      "source": [
        "b = np.arange(10,22).reshape(3,4)\n",
        "b"
      ],
      "metadata": {
        "colab": {
          "base_uri": "https://localhost:8080/"
        },
        "id": "QXVxuHOMWStm",
        "outputId": "505a909d-d36d-41e1-de07-b6f4522d4585"
      },
      "execution_count": null,
      "outputs": [
        {
          "output_type": "execute_result",
          "data": {
            "text/plain": [
              "array([[10, 11, 12, 13],\n",
              "       [14, 15, 16, 17],\n",
              "       [18, 19, 20, 21]])"
            ]
          },
          "metadata": {},
          "execution_count": 25
        }
      ]
    },
    {
      "cell_type": "code",
      "source": [
        "np.column_stack((a,b))"
      ],
      "metadata": {
        "colab": {
          "base_uri": "https://localhost:8080/"
        },
        "id": "5CrR3bEEWUWC",
        "outputId": "136655b1-ea84-44f5-f9bb-95e952fac5a7"
      },
      "execution_count": null,
      "outputs": [
        {
          "output_type": "execute_result",
          "data": {
            "text/plain": [
              "array([[ 0,  1, 10, 11, 12, 13],\n",
              "       [ 2,  3, 14, 15, 16, 17],\n",
              "       [ 4,  5, 18, 19, 20, 21]])"
            ]
          },
          "metadata": {},
          "execution_count": 26
        }
      ]
    },
    {
      "cell_type": "code",
      "source": [
        "np.hstack((a,b))"
      ],
      "metadata": {
        "colab": {
          "base_uri": "https://localhost:8080/"
        },
        "id": "w31y61YSWXfR",
        "outputId": "6f13d307-63f2-4a6f-c9ca-da9e599a8c83"
      },
      "execution_count": null,
      "outputs": [
        {
          "output_type": "execute_result",
          "data": {
            "text/plain": [
              "array([[ 0,  1, 10, 11, 12, 13],\n",
              "       [ 2,  3, 14, 15, 16, 17],\n",
              "       [ 4,  5, 18, 19, 20, 21]])"
            ]
          },
          "metadata": {},
          "execution_count": 27
        }
      ]
    },
    {
      "cell_type": "code",
      "source": [
        "x = np.array([1,2,3]) #세로로 돌린 후 옆으로 쌓기\n",
        "y = np.array([4,5,6])\n",
        "np.column_stack((x,y))"
      ],
      "metadata": {
        "colab": {
          "base_uri": "https://localhost:8080/"
        },
        "id": "cet_4GKSWY7C",
        "outputId": "ed96b942-85e0-4a9a-cf8d-6595ddd97737"
      },
      "execution_count": null,
      "outputs": [
        {
          "output_type": "execute_result",
          "data": {
            "text/plain": [
              "array([[1, 4],\n",
              "       [2, 5],\n",
              "       [3, 6]])"
            ]
          },
          "metadata": {},
          "execution_count": 29
        }
      ]
    },
    {
      "cell_type": "code",
      "source": [
        "x[:,np.newaxis] #column_stack 실행 과정 분해"
      ],
      "metadata": {
        "colab": {
          "base_uri": "https://localhost:8080/"
        },
        "id": "7T3_CXaWWgyA",
        "outputId": "2dc4ce2d-9ad5-4292-aee4-887ea1926d64"
      },
      "execution_count": null,
      "outputs": [
        {
          "output_type": "execute_result",
          "data": {
            "text/plain": [
              "array([[1],\n",
              "       [2],\n",
              "       [3]])"
            ]
          },
          "metadata": {},
          "execution_count": 32
        }
      ]
    },
    {
      "cell_type": "code",
      "source": [
        "y[:,np.newaxis]"
      ],
      "metadata": {
        "colab": {
          "base_uri": "https://localhost:8080/"
        },
        "id": "0HQb0UwJWsfM",
        "outputId": "25f0a5a7-538a-496e-934a-184670819ffd"
      },
      "execution_count": null,
      "outputs": [
        {
          "output_type": "execute_result",
          "data": {
            "text/plain": [
              "array([[4],\n",
              "       [5],\n",
              "       [6]])"
            ]
          },
          "metadata": {},
          "execution_count": 33
        }
      ]
    },
    {
      "cell_type": "code",
      "source": [
        "x = np.array([1,2,3])\n",
        "y = np.array([10,20,30])\n",
        "np.column_stack((x[:,np.newaxis],y[:,np.newaxis]))"
      ],
      "metadata": {
        "colab": {
          "base_uri": "https://localhost:8080/"
        },
        "id": "nt8hJfRpWwFy",
        "outputId": "d3cab323-a9a1-4f5e-9195-8d2efbaea467"
      },
      "execution_count": null,
      "outputs": [
        {
          "output_type": "execute_result",
          "data": {
            "text/plain": [
              "array([[ 1, 10],\n",
              "       [ 2, 20],\n",
              "       [ 3, 30]])"
            ]
          },
          "metadata": {},
          "execution_count": 35
        }
      ]
    },
    {
      "cell_type": "code",
      "source": [
        "np.hstack((x,y))"
      ],
      "metadata": {
        "colab": {
          "base_uri": "https://localhost:8080/"
        },
        "id": "RtHfofW4bXLJ",
        "outputId": "b53c5fca-2a85-4829-a0eb-66d2639ed24d"
      },
      "execution_count": null,
      "outputs": [
        {
          "output_type": "execute_result",
          "data": {
            "text/plain": [
              "array([ 1,  2,  3, 10, 20, 30])"
            ]
          },
          "metadata": {},
          "execution_count": 37
        }
      ]
    },
    {
      "cell_type": "code",
      "source": [
        "np.column_stack == np.hstack"
      ],
      "metadata": {
        "colab": {
          "base_uri": "https://localhost:8080/"
        },
        "id": "Zakyjvx0bbr2",
        "outputId": "276ccbdc-11f6-4e1e-ba3b-288e9990c4d3"
      },
      "execution_count": null,
      "outputs": [
        {
          "output_type": "execute_result",
          "data": {
            "text/plain": [
              "False"
            ]
          },
          "metadata": {},
          "execution_count": 38
        }
      ]
    },
    {
      "cell_type": "markdown",
      "source": [
        "## numpy.row_stack()"
      ],
      "metadata": {
        "id": "XOJmyTBfbio5"
      }
    },
    {
      "cell_type": "code",
      "source": [
        "import numpy as np\n",
        "a = np.arange(6).reshape(2,3)\n",
        "a"
      ],
      "metadata": {
        "colab": {
          "base_uri": "https://localhost:8080/"
        },
        "id": "l1xZ0mrkbmKb",
        "outputId": "51bf0177-251c-458f-8a0b-7d6a0ada5cb9"
      },
      "execution_count": null,
      "outputs": [
        {
          "output_type": "execute_result",
          "data": {
            "text/plain": [
              "array([[0, 1, 2],\n",
              "       [3, 4, 5]])"
            ]
          },
          "metadata": {},
          "execution_count": 39
        }
      ]
    },
    {
      "cell_type": "code",
      "source": [
        "b = np.arange(10,22).reshape(4,3)\n",
        "b"
      ],
      "metadata": {
        "colab": {
          "base_uri": "https://localhost:8080/"
        },
        "id": "mhVsmdy9bp01",
        "outputId": "958e31e5-6e92-4c4f-8cae-eb2f37f18af0"
      },
      "execution_count": null,
      "outputs": [
        {
          "output_type": "execute_result",
          "data": {
            "text/plain": [
              "array([[10, 11, 12],\n",
              "       [13, 14, 15],\n",
              "       [16, 17, 18],\n",
              "       [19, 20, 21]])"
            ]
          },
          "metadata": {},
          "execution_count": 40
        }
      ]
    },
    {
      "cell_type": "code",
      "source": [
        "np.row_stack((a,b))"
      ],
      "metadata": {
        "colab": {
          "base_uri": "https://localhost:8080/"
        },
        "id": "1_VbsAUybsnf",
        "outputId": "b8d77886-44f6-4e7a-ada4-9864147a3c4b"
      },
      "execution_count": null,
      "outputs": [
        {
          "output_type": "execute_result",
          "data": {
            "text/plain": [
              "array([[ 0,  1,  2],\n",
              "       [ 3,  4,  5],\n",
              "       [10, 11, 12],\n",
              "       [13, 14, 15],\n",
              "       [16, 17, 18],\n",
              "       [19, 20, 21]])"
            ]
          },
          "metadata": {},
          "execution_count": 41
        }
      ]
    },
    {
      "cell_type": "code",
      "source": [
        "np.vstack((a,b))"
      ],
      "metadata": {
        "colab": {
          "base_uri": "https://localhost:8080/"
        },
        "id": "bHtfcqn2bt88",
        "outputId": "bc5d0d4d-fad6-4d0f-9852-8588391b1202"
      },
      "execution_count": null,
      "outputs": [
        {
          "output_type": "execute_result",
          "data": {
            "text/plain": [
              "array([[ 0,  1,  2],\n",
              "       [ 3,  4,  5],\n",
              "       [10, 11, 12],\n",
              "       [13, 14, 15],\n",
              "       [16, 17, 18],\n",
              "       [19, 20, 21]])"
            ]
          },
          "metadata": {},
          "execution_count": 42
        }
      ]
    },
    {
      "cell_type": "code",
      "source": [
        "a = np.array([4.,2.,1.])\n",
        "b = np.array([3.,8.,7.])\n",
        "print(np.row_stack((a,b)))"
      ],
      "metadata": {
        "colab": {
          "base_uri": "https://localhost:8080/"
        },
        "id": "B7PLChWmbvwa",
        "outputId": "eb84d77a-46c0-4b74-af48-2c8e329ad81e"
      },
      "execution_count": null,
      "outputs": [
        {
          "output_type": "stream",
          "name": "stdout",
          "text": [
            "[[4. 2. 1.]\n",
            " [3. 8. 7.]]\n"
          ]
        }
      ]
    },
    {
      "cell_type": "code",
      "source": [
        "print(np.vstack((a,b)))"
      ],
      "metadata": {
        "colab": {
          "base_uri": "https://localhost:8080/"
        },
        "id": "cIIXyk9Yb466",
        "outputId": "c694f604-7ad3-49c9-b727-2721216faf77"
      },
      "execution_count": null,
      "outputs": [
        {
          "output_type": "stream",
          "name": "stdout",
          "text": [
            "[[4. 2. 1.]\n",
            " [3. 8. 7.]]\n"
          ]
        }
      ]
    },
    {
      "cell_type": "code",
      "source": [
        "np.row_stack == np.vstack"
      ],
      "metadata": {
        "colab": {
          "base_uri": "https://localhost:8080/"
        },
        "id": "6K-ooHyQb7zj",
        "outputId": "826e8c03-ad90-448c-edd5-2dc0af8a51c2"
      },
      "execution_count": null,
      "outputs": [
        {
          "output_type": "execute_result",
          "data": {
            "text/plain": [
              "True"
            ]
          },
          "metadata": {},
          "execution_count": 46
        }
      ]
    },
    {
      "cell_type": "markdown",
      "source": [
        "## numpy.concatenate()"
      ],
      "metadata": {
        "id": "2mWaayntb-ja"
      }
    },
    {
      "cell_type": "code",
      "source": [
        "help(np.concatenate)"
      ],
      "metadata": {
        "colab": {
          "base_uri": "https://localhost:8080/"
        },
        "id": "Ld3Y7kJ0cYQK",
        "outputId": "f2e07d39-57d1-451d-ec02-a9537e95ce6d"
      },
      "execution_count": null,
      "outputs": [
        {
          "output_type": "stream",
          "name": "stdout",
          "text": [
            "Help on _ArrayFunctionDispatcher in module numpy:\n",
            "\n",
            "concatenate(...)\n",
            "    concatenate((a1, a2, ...), axis=0, out=None, dtype=None, casting=\"same_kind\")\n",
            "    \n",
            "    Join a sequence of arrays along an existing axis.\n",
            "    \n",
            "    Parameters\n",
            "    ----------\n",
            "    a1, a2, ... : sequence of array_like\n",
            "        The arrays must have the same shape, except in the dimension\n",
            "        corresponding to `axis` (the first, by default).\n",
            "    axis : int, optional\n",
            "        The axis along which the arrays will be joined.  If axis is None,\n",
            "        arrays are flattened before use.  Default is 0.\n",
            "    out : ndarray, optional\n",
            "        If provided, the destination to place the result. The shape must be\n",
            "        correct, matching that of what concatenate would have returned if no\n",
            "        out argument were specified.\n",
            "    dtype : str or dtype\n",
            "        If provided, the destination array will have this dtype. Cannot be\n",
            "        provided together with `out`.\n",
            "    \n",
            "        .. versionadded:: 1.20.0\n",
            "    \n",
            "    casting : {'no', 'equiv', 'safe', 'same_kind', 'unsafe'}, optional\n",
            "        Controls what kind of data casting may occur. Defaults to 'same_kind'.\n",
            "    \n",
            "        .. versionadded:: 1.20.0\n",
            "    \n",
            "    Returns\n",
            "    -------\n",
            "    res : ndarray\n",
            "        The concatenated array.\n",
            "    \n",
            "    See Also\n",
            "    --------\n",
            "    ma.concatenate : Concatenate function that preserves input masks.\n",
            "    array_split : Split an array into multiple sub-arrays of equal or\n",
            "                  near-equal size.\n",
            "    split : Split array into a list of multiple sub-arrays of equal size.\n",
            "    hsplit : Split array into multiple sub-arrays horizontally (column wise).\n",
            "    vsplit : Split array into multiple sub-arrays vertically (row wise).\n",
            "    dsplit : Split array into multiple sub-arrays along the 3rd axis (depth).\n",
            "    stack : Stack a sequence of arrays along a new axis.\n",
            "    block : Assemble arrays from blocks.\n",
            "    hstack : Stack arrays in sequence horizontally (column wise).\n",
            "    vstack : Stack arrays in sequence vertically (row wise).\n",
            "    dstack : Stack arrays in sequence depth wise (along third dimension).\n",
            "    column_stack : Stack 1-D arrays as columns into a 2-D array.\n",
            "    \n",
            "    Notes\n",
            "    -----\n",
            "    When one or more of the arrays to be concatenated is a MaskedArray,\n",
            "    this function will return a MaskedArray object instead of an ndarray,\n",
            "    but the input masks are *not* preserved. In cases where a MaskedArray\n",
            "    is expected as input, use the ma.concatenate function from the masked\n",
            "    array module instead.\n",
            "    \n",
            "    Examples\n",
            "    --------\n",
            "    >>> a = np.array([[1, 2], [3, 4]])\n",
            "    >>> b = np.array([[5, 6]])\n",
            "    >>> np.concatenate((a, b), axis=0)\n",
            "    array([[1, 2],\n",
            "           [3, 4],\n",
            "           [5, 6]])\n",
            "    >>> np.concatenate((a, b.T), axis=1)\n",
            "    array([[1, 2, 5],\n",
            "           [3, 4, 6]])\n",
            "    >>> np.concatenate((a, b), axis=None)\n",
            "    array([1, 2, 3, 4, 5, 6])\n",
            "    \n",
            "    This function will not preserve masking of MaskedArray inputs.\n",
            "    \n",
            "    >>> a = np.ma.arange(3)\n",
            "    >>> a[1] = np.ma.masked\n",
            "    >>> b = np.arange(2, 5)\n",
            "    >>> a\n",
            "    masked_array(data=[0, --, 2],\n",
            "                 mask=[False,  True, False],\n",
            "           fill_value=999999)\n",
            "    >>> b\n",
            "    array([2, 3, 4])\n",
            "    >>> np.concatenate([a, b])\n",
            "    masked_array(data=[0, 1, 2, 2, 3, 4],\n",
            "                 mask=False,\n",
            "           fill_value=999999)\n",
            "    >>> np.ma.concatenate([a, b])\n",
            "    masked_array(data=[0, --, 2, 2, 3, 4],\n",
            "                 mask=[False,  True, False, False, False, False],\n",
            "           fill_value=999999)\n",
            "\n"
          ]
        }
      ]
    },
    {
      "cell_type": "code",
      "source": [
        "import numpy as np\n",
        "\n",
        "a = np.array([1,2])\n",
        "b = np.array([3,4])\n",
        "c = np.array([5,6])\n",
        "np.concatenate((a,b,c))"
      ],
      "metadata": {
        "colab": {
          "base_uri": "https://localhost:8080/"
        },
        "id": "CQgJjxq8cEKF",
        "outputId": "74c6705b-5f83-4b65-c0f9-3c703eaf15ed"
      },
      "execution_count": null,
      "outputs": [
        {
          "output_type": "execute_result",
          "data": {
            "text/plain": [
              "array([1, 2, 3, 4, 5, 6])"
            ]
          },
          "metadata": {},
          "execution_count": 47
        }
      ]
    },
    {
      "cell_type": "code",
      "source": [
        "np.concatenate((a,b,c), axis=0)"
      ],
      "metadata": {
        "colab": {
          "base_uri": "https://localhost:8080/"
        },
        "id": "1LsTNmZtcOcG",
        "outputId": "3a0fb244-1599-46fa-9fdf-3050cc60750a"
      },
      "execution_count": null,
      "outputs": [
        {
          "output_type": "execute_result",
          "data": {
            "text/plain": [
              "array([1, 2, 3, 4, 5, 6])"
            ]
          },
          "metadata": {},
          "execution_count": 48
        }
      ]
    },
    {
      "cell_type": "code",
      "source": [
        "np.concatenate((a,b,c), axis=None)"
      ],
      "metadata": {
        "colab": {
          "base_uri": "https://localhost:8080/"
        },
        "id": "Ycp2mZ8UcUkp",
        "outputId": "684491e4-f1b8-47b7-e879-9f25b54b7d5f"
      },
      "execution_count": null,
      "outputs": [
        {
          "output_type": "execute_result",
          "data": {
            "text/plain": [
              "array([1, 2, 3, 4, 5, 6])"
            ]
          },
          "metadata": {},
          "execution_count": 49
        }
      ]
    },
    {
      "cell_type": "code",
      "source": [
        "import numpy as np\n",
        "\n",
        "x = np.arange(6).reshape(2,3)\n",
        "x"
      ],
      "metadata": {
        "colab": {
          "base_uri": "https://localhost:8080/"
        },
        "id": "S6OUz6p-cV3g",
        "outputId": "b170dcac-ca5e-4be1-fd23-8c4ebb80746c"
      },
      "execution_count": null,
      "outputs": [
        {
          "output_type": "execute_result",
          "data": {
            "text/plain": [
              "array([[0, 1, 2],\n",
              "       [3, 4, 5]])"
            ]
          },
          "metadata": {},
          "execution_count": 51
        }
      ]
    },
    {
      "cell_type": "code",
      "source": [
        "y = np.arange(10,16).reshape(2,3)\n",
        "y"
      ],
      "metadata": {
        "colab": {
          "base_uri": "https://localhost:8080/"
        },
        "id": "5mA5KECYdDlx",
        "outputId": "9d6a5268-465d-4257-c025-af911c030ab5"
      },
      "execution_count": null,
      "outputs": [
        {
          "output_type": "execute_result",
          "data": {
            "text/plain": [
              "array([[10, 11, 12],\n",
              "       [13, 14, 15]])"
            ]
          },
          "metadata": {},
          "execution_count": 54
        }
      ]
    },
    {
      "cell_type": "code",
      "source": [
        "z = np.arange(20,24).reshape(2,2)\n",
        "z"
      ],
      "metadata": {
        "colab": {
          "base_uri": "https://localhost:8080/"
        },
        "id": "mkaX1QRldFW2",
        "outputId": "53305920-4e7a-423e-ac9d-e05faf44366e"
      },
      "execution_count": null,
      "outputs": [
        {
          "output_type": "execute_result",
          "data": {
            "text/plain": [
              "array([[20, 21],\n",
              "       [22, 23]])"
            ]
          },
          "metadata": {},
          "execution_count": 55
        }
      ]
    },
    {
      "cell_type": "code",
      "source": [
        "np.concatenate((x,y))"
      ],
      "metadata": {
        "colab": {
          "base_uri": "https://localhost:8080/"
        },
        "id": "7GuEqv2ldLDQ",
        "outputId": "ed0124d6-b43d-4a50-ae31-325b27185ccd"
      },
      "execution_count": null,
      "outputs": [
        {
          "output_type": "execute_result",
          "data": {
            "text/plain": [
              "array([[ 0,  1,  2],\n",
              "       [ 3,  4,  5],\n",
              "       [10, 11, 12],\n",
              "       [13, 14, 15]])"
            ]
          },
          "metadata": {},
          "execution_count": 57
        }
      ]
    },
    {
      "cell_type": "code",
      "source": [
        "np.concatenate((x,y,z))"
      ],
      "metadata": {
        "colab": {
          "base_uri": "https://localhost:8080/",
          "height": 147
        },
        "id": "rEF0r4dTeVOY",
        "outputId": "e2fd6523-50c9-473c-dfc1-d517684beb5f"
      },
      "execution_count": null,
      "outputs": [
        {
          "output_type": "error",
          "ename": "ValueError",
          "evalue": "all the input array dimensions except for the concatenation axis must match exactly, but along dimension 1, the array at index 0 has size 3 and the array at index 2 has size 2",
          "traceback": [
            "\u001b[0;31m---------------------------------------------------------------------------\u001b[0m",
            "\u001b[0;31mValueError\u001b[0m                                Traceback (most recent call last)",
            "\u001b[0;32m<ipython-input-58-b44059068f00>\u001b[0m in \u001b[0;36m<cell line: 1>\u001b[0;34m()\u001b[0m\n\u001b[0;32m----> 1\u001b[0;31m \u001b[0mnp\u001b[0m\u001b[0;34m.\u001b[0m\u001b[0mconcatenate\u001b[0m\u001b[0;34m(\u001b[0m\u001b[0;34m(\u001b[0m\u001b[0mx\u001b[0m\u001b[0;34m,\u001b[0m\u001b[0my\u001b[0m\u001b[0;34m,\u001b[0m\u001b[0mz\u001b[0m\u001b[0;34m)\u001b[0m\u001b[0;34m)\u001b[0m\u001b[0;34m\u001b[0m\u001b[0;34m\u001b[0m\u001b[0m\n\u001b[0m",
            "\u001b[0;31mValueError\u001b[0m: all the input array dimensions except for the concatenation axis must match exactly, but along dimension 1, the array at index 0 has size 3 and the array at index 2 has size 2"
          ]
        }
      ]
    },
    {
      "cell_type": "code",
      "source": [
        "np.concatenate((x,y,z),axis=1)"
      ],
      "metadata": {
        "colab": {
          "base_uri": "https://localhost:8080/"
        },
        "id": "uja4b0wYebZL",
        "outputId": "d6f2be1d-a44c-41fe-9ab6-12c314bfca74"
      },
      "execution_count": null,
      "outputs": [
        {
          "output_type": "execute_result",
          "data": {
            "text/plain": [
              "array([[ 0,  1,  2, 10, 11, 12, 20, 21],\n",
              "       [ 3,  4,  5, 13, 14, 15, 22, 23]])"
            ]
          },
          "metadata": {},
          "execution_count": 60
        }
      ]
    },
    {
      "cell_type": "code",
      "source": [
        "np.concatenate((x,y),axis=None)"
      ],
      "metadata": {
        "colab": {
          "base_uri": "https://localhost:8080/"
        },
        "id": "fS0BHYgGeeEB",
        "outputId": "4494e876-047c-4fee-8374-f7e0f01cfae8"
      },
      "execution_count": null,
      "outputs": [
        {
          "output_type": "execute_result",
          "data": {
            "text/plain": [
              "array([ 0,  1,  2,  3,  4,  5, 10, 11, 12, 13, 14, 15])"
            ]
          },
          "metadata": {},
          "execution_count": 61
        }
      ]
    },
    {
      "cell_type": "markdown",
      "source": [
        "##numpy.stack()"
      ],
      "metadata": {
        "id": "cYbCkJn0f4l6"
      }
    },
    {
      "cell_type": "code",
      "source": [
        "import numpy as np\n",
        "\n",
        "a = np.array([1,2,3])\n",
        "a"
      ],
      "metadata": {
        "id": "eArH9N9egGMU",
        "colab": {
          "base_uri": "https://localhost:8080/"
        },
        "outputId": "bf6be5fc-9082-4c17-d0cd-06d6a1a80f74"
      },
      "execution_count": 3,
      "outputs": [
        {
          "output_type": "execute_result",
          "data": {
            "text/plain": [
              "array([1, 2, 3])"
            ]
          },
          "metadata": {},
          "execution_count": 3
        }
      ]
    },
    {
      "cell_type": "code",
      "source": [
        "b = np.array([4,5,6])\n",
        "b"
      ],
      "metadata": {
        "colab": {
          "base_uri": "https://localhost:8080/"
        },
        "id": "_FDCnB1jwWT8",
        "outputId": "124db14e-c4c2-4002-91b5-cec6f4a07d19"
      },
      "execution_count": 2,
      "outputs": [
        {
          "output_type": "execute_result",
          "data": {
            "text/plain": [
              "array([4, 5, 6])"
            ]
          },
          "metadata": {},
          "execution_count": 2
        }
      ]
    },
    {
      "cell_type": "code",
      "source": [
        "np.stack((a,b))"
      ],
      "metadata": {
        "colab": {
          "base_uri": "https://localhost:8080/"
        },
        "id": "RBTxB67vwbpq",
        "outputId": "5021fc04-e37d-449f-ce82-46c44b75be21"
      },
      "execution_count": 4,
      "outputs": [
        {
          "output_type": "execute_result",
          "data": {
            "text/plain": [
              "array([[1, 2, 3],\n",
              "       [4, 5, 6]])"
            ]
          },
          "metadata": {},
          "execution_count": 4
        }
      ]
    },
    {
      "cell_type": "code",
      "source": [
        "np.stack((a,b),axis=1)"
      ],
      "metadata": {
        "colab": {
          "base_uri": "https://localhost:8080/"
        },
        "id": "UsyPguFCwcnb",
        "outputId": "6fd6250f-118f-4f0b-d0c2-9d6779628861"
      },
      "execution_count": 5,
      "outputs": [
        {
          "output_type": "execute_result",
          "data": {
            "text/plain": [
              "array([[1, 4],\n",
              "       [2, 5],\n",
              "       [3, 6]])"
            ]
          },
          "metadata": {},
          "execution_count": 5
        }
      ]
    },
    {
      "cell_type": "code",
      "source": [
        "x = np.arange(6).reshape(2,3)\n",
        "x"
      ],
      "metadata": {
        "colab": {
          "base_uri": "https://localhost:8080/"
        },
        "id": "3qKHT33_wfWL",
        "outputId": "20eafeb2-344a-4701-f42b-f9bd30462434"
      },
      "execution_count": 6,
      "outputs": [
        {
          "output_type": "execute_result",
          "data": {
            "text/plain": [
              "array([[0, 1, 2],\n",
              "       [3, 4, 5]])"
            ]
          },
          "metadata": {},
          "execution_count": 6
        }
      ]
    },
    {
      "cell_type": "code",
      "source": [
        "y = np.arange(10,16).reshape(2,3)\n",
        "y"
      ],
      "metadata": {
        "colab": {
          "base_uri": "https://localhost:8080/"
        },
        "id": "OOa_TJNfwhXT",
        "outputId": "52ca87b8-afd9-404c-e6f2-e9262196bc9b"
      },
      "execution_count": 7,
      "outputs": [
        {
          "output_type": "execute_result",
          "data": {
            "text/plain": [
              "array([[10, 11, 12],\n",
              "       [13, 14, 15]])"
            ]
          },
          "metadata": {},
          "execution_count": 7
        }
      ]
    },
    {
      "cell_type": "code",
      "source": [
        "z = np.arange(20,26).reshape(2,3)\n",
        "z"
      ],
      "metadata": {
        "colab": {
          "base_uri": "https://localhost:8080/"
        },
        "id": "Si8Ae1NEwlC6",
        "outputId": "a7d0a63d-80a3-4167-c606-6bdc4b3823bb"
      },
      "execution_count": 8,
      "outputs": [
        {
          "output_type": "execute_result",
          "data": {
            "text/plain": [
              "array([[20, 21, 22],\n",
              "       [23, 24, 25]])"
            ]
          },
          "metadata": {},
          "execution_count": 8
        }
      ]
    },
    {
      "cell_type": "markdown",
      "source": [
        "## np stack()로 배열 x,y,z를 0번 축 방향으로 합치기"
      ],
      "metadata": {
        "id": "3iTFmE5JwoF7"
      }
    },
    {
      "cell_type": "code",
      "source": [
        "ax0 = np.stack((x,y,z),axis=0)\n",
        "ax0"
      ],
      "metadata": {
        "colab": {
          "base_uri": "https://localhost:8080/"
        },
        "id": "iVIXYrMbws3i",
        "outputId": "6ae2876b-b285-4916-fe34-c98c55e72447"
      },
      "execution_count": 10,
      "outputs": [
        {
          "output_type": "execute_result",
          "data": {
            "text/plain": [
              "array([[[ 0,  1,  2],\n",
              "        [ 3,  4,  5]],\n",
              "\n",
              "       [[10, 11, 12],\n",
              "        [13, 14, 15]],\n",
              "\n",
              "       [[20, 21, 22],\n",
              "        [23, 24, 25]]])"
            ]
          },
          "metadata": {},
          "execution_count": 10
        }
      ]
    },
    {
      "cell_type": "code",
      "source": [
        "ax0.shape"
      ],
      "metadata": {
        "colab": {
          "base_uri": "https://localhost:8080/"
        },
        "id": "cV2Hnfpswv0T",
        "outputId": "c63f660b-e9c3-4264-d463-892dbf750080"
      },
      "execution_count": 11,
      "outputs": [
        {
          "output_type": "execute_result",
          "data": {
            "text/plain": [
              "(3, 2, 3)"
            ]
          },
          "metadata": {},
          "execution_count": 11
        }
      ]
    },
    {
      "cell_type": "code",
      "source": [
        "ax1 = np.stack((x,y,z),axis=1)\n",
        "ax1"
      ],
      "metadata": {
        "colab": {
          "base_uri": "https://localhost:8080/"
        },
        "id": "lvd-kJVjwyrp",
        "outputId": "5d30293d-7a19-4173-9906-122b915272f3"
      },
      "execution_count": 12,
      "outputs": [
        {
          "output_type": "execute_result",
          "data": {
            "text/plain": [
              "array([[[ 0,  1,  2],\n",
              "        [10, 11, 12],\n",
              "        [20, 21, 22]],\n",
              "\n",
              "       [[ 3,  4,  5],\n",
              "        [13, 14, 15],\n",
              "        [23, 24, 25]]])"
            ]
          },
          "metadata": {},
          "execution_count": 12
        }
      ]
    },
    {
      "cell_type": "code",
      "source": [
        "ax1.shape #책 오류! p158"
      ],
      "metadata": {
        "colab": {
          "base_uri": "https://localhost:8080/"
        },
        "id": "fSKxfshxw7GK",
        "outputId": "b6bdc36e-21e1-4fd2-ebf1-39025040a1c1"
      },
      "execution_count": 14,
      "outputs": [
        {
          "output_type": "execute_result",
          "data": {
            "text/plain": [
              "(2, 3, 3)"
            ]
          },
          "metadata": {},
          "execution_count": 14
        }
      ]
    },
    {
      "cell_type": "code",
      "source": [
        "ax2 = np.stack((x,y,z),axis=2)\n",
        "ax2"
      ],
      "metadata": {
        "colab": {
          "base_uri": "https://localhost:8080/"
        },
        "id": "G1X6EzuNw9MA",
        "outputId": "b041799c-4124-49d9-df77-46d7fe1b67f0"
      },
      "execution_count": 15,
      "outputs": [
        {
          "output_type": "execute_result",
          "data": {
            "text/plain": [
              "array([[[ 0, 10, 20],\n",
              "        [ 1, 11, 21],\n",
              "        [ 2, 12, 22]],\n",
              "\n",
              "       [[ 3, 13, 23],\n",
              "        [ 4, 14, 24],\n",
              "        [ 5, 15, 25]]])"
            ]
          },
          "metadata": {},
          "execution_count": 15
        }
      ]
    },
    {
      "cell_type": "code",
      "source": [
        "ax2.shape #이것도 책 오류.. p159"
      ],
      "metadata": {
        "colab": {
          "base_uri": "https://localhost:8080/"
        },
        "id": "dIHmwFdtxD1J",
        "outputId": "7c04ab4d-e4ad-4c7c-9a6d-1fff623e5293"
      },
      "execution_count": 17,
      "outputs": [
        {
          "output_type": "execute_result",
          "data": {
            "text/plain": [
              "(2, 3, 3)"
            ]
          },
          "metadata": {},
          "execution_count": 17
        }
      ]
    },
    {
      "cell_type": "markdown",
      "source": [
        "## np.stack(axis=2) 분해"
      ],
      "metadata": {
        "id": "r9Ov2WFzxorr"
      }
    },
    {
      "cell_type": "code",
      "source": [
        "x"
      ],
      "metadata": {
        "colab": {
          "base_uri": "https://localhost:8080/"
        },
        "id": "KyzqudizxEZC",
        "outputId": "1d5363b8-8dc5-4740-a1c3-a36a98efad77"
      },
      "execution_count": 18,
      "outputs": [
        {
          "output_type": "execute_result",
          "data": {
            "text/plain": [
              "array([[0, 1, 2],\n",
              "       [3, 4, 5]])"
            ]
          },
          "metadata": {},
          "execution_count": 18
        }
      ]
    },
    {
      "cell_type": "code",
      "source": [
        "x[:,:,np.newaxis]"
      ],
      "metadata": {
        "colab": {
          "base_uri": "https://localhost:8080/"
        },
        "id": "GJYNImEExKdJ",
        "outputId": "b66acb45-f610-4d9c-a5f7-8fd06b682b8c"
      },
      "execution_count": 19,
      "outputs": [
        {
          "output_type": "execute_result",
          "data": {
            "text/plain": [
              "array([[[0],\n",
              "        [1],\n",
              "        [2]],\n",
              "\n",
              "       [[3],\n",
              "        [4],\n",
              "        [5]]])"
            ]
          },
          "metadata": {},
          "execution_count": 19
        }
      ]
    },
    {
      "cell_type": "code",
      "source": [
        "np.expand_dims(x, axis=2)"
      ],
      "metadata": {
        "colab": {
          "base_uri": "https://localhost:8080/"
        },
        "id": "P2x8JTHMxMJh",
        "outputId": "ee133879-00f8-4fca-d5b4-37e2a1164ae7"
      },
      "execution_count": 20,
      "outputs": [
        {
          "output_type": "execute_result",
          "data": {
            "text/plain": [
              "array([[[0],\n",
              "        [1],\n",
              "        [2]],\n",
              "\n",
              "       [[3],\n",
              "        [4],\n",
              "        [5]]])"
            ]
          },
          "metadata": {},
          "execution_count": 20
        }
      ]
    },
    {
      "cell_type": "code",
      "source": [
        "y"
      ],
      "metadata": {
        "colab": {
          "base_uri": "https://localhost:8080/"
        },
        "id": "3rBON1PbxUor",
        "outputId": "854f24be-5e42-4d84-936a-b98aaebdbbc4"
      },
      "execution_count": 21,
      "outputs": [
        {
          "output_type": "execute_result",
          "data": {
            "text/plain": [
              "array([[10, 11, 12],\n",
              "       [13, 14, 15]])"
            ]
          },
          "metadata": {},
          "execution_count": 21
        }
      ]
    },
    {
      "cell_type": "code",
      "source": [
        "y[:,:,np.newaxis]"
      ],
      "metadata": {
        "colab": {
          "base_uri": "https://localhost:8080/"
        },
        "id": "zS5VilTWxU_R",
        "outputId": "93ae6a7d-cb51-4f9d-c5ce-50e567ee35cd"
      },
      "execution_count": 22,
      "outputs": [
        {
          "output_type": "execute_result",
          "data": {
            "text/plain": [
              "array([[[10],\n",
              "        [11],\n",
              "        [12]],\n",
              "\n",
              "       [[13],\n",
              "        [14],\n",
              "        [15]]])"
            ]
          },
          "metadata": {},
          "execution_count": 22
        }
      ]
    },
    {
      "cell_type": "code",
      "source": [
        "z"
      ],
      "metadata": {
        "colab": {
          "base_uri": "https://localhost:8080/"
        },
        "id": "gIcbH_6KxZ7e",
        "outputId": "4197df43-5cdb-46e7-af3a-d2e4d65fbefd"
      },
      "execution_count": 23,
      "outputs": [
        {
          "output_type": "execute_result",
          "data": {
            "text/plain": [
              "array([[20, 21, 22],\n",
              "       [23, 24, 25]])"
            ]
          },
          "metadata": {},
          "execution_count": 23
        }
      ]
    },
    {
      "cell_type": "code",
      "source": [
        "np.expand_dims(z,axis=2)"
      ],
      "metadata": {
        "colab": {
          "base_uri": "https://localhost:8080/"
        },
        "id": "-IxE-UDAxgYV",
        "outputId": "944de7be-8652-451e-c4a3-64e205afcea1"
      },
      "execution_count": 24,
      "outputs": [
        {
          "output_type": "execute_result",
          "data": {
            "text/plain": [
              "array([[[20],\n",
              "        [21],\n",
              "        [22]],\n",
              "\n",
              "       [[23],\n",
              "        [24],\n",
              "        [25]]])"
            ]
          },
          "metadata": {},
          "execution_count": 24
        }
      ]
    },
    {
      "cell_type": "code",
      "source": [
        "np.stack((x,y,z), axis=2)"
      ],
      "metadata": {
        "colab": {
          "base_uri": "https://localhost:8080/"
        },
        "id": "0W7J7POJxjAV",
        "outputId": "946e3df7-675f-403d-822c-0260aea33942"
      },
      "execution_count": 25,
      "outputs": [
        {
          "output_type": "execute_result",
          "data": {
            "text/plain": [
              "array([[[ 0, 10, 20],\n",
              "        [ 1, 11, 21],\n",
              "        [ 2, 12, 22]],\n",
              "\n",
              "       [[ 3, 13, 23],\n",
              "        [ 4, 14, 24],\n",
              "        [ 5, 15, 25]]])"
            ]
          },
          "metadata": {},
          "execution_count": 25
        }
      ]
    },
    {
      "cell_type": "markdown",
      "source": [
        "## 배열의 결합 비교 column_stack()과 hstack()"
      ],
      "metadata": {
        "id": "Gi6Ddc3zx4a3"
      }
    },
    {
      "cell_type": "code",
      "source": [
        "import numpy as np\n",
        "\n",
        "a = np.arange(1,13).reshape(3,4)\n",
        "a"
      ],
      "metadata": {
        "colab": {
          "base_uri": "https://localhost:8080/"
        },
        "id": "DeEfJuHix7I0",
        "outputId": "6ae49474-9ce3-4615-d822-162e289c6eba"
      },
      "execution_count": 26,
      "outputs": [
        {
          "output_type": "execute_result",
          "data": {
            "text/plain": [
              "array([[ 1,  2,  3,  4],\n",
              "       [ 5,  6,  7,  8],\n",
              "       [ 9, 10, 11, 12]])"
            ]
          },
          "metadata": {},
          "execution_count": 26
        }
      ]
    },
    {
      "cell_type": "code",
      "source": [
        "c= np.arange(1,6,2)\n",
        "c"
      ],
      "metadata": {
        "colab": {
          "base_uri": "https://localhost:8080/"
        },
        "id": "TEWdZ4OoyFfB",
        "outputId": "b96857e0-8f80-4168-9b42-d1001c094fae"
      },
      "execution_count": 27,
      "outputs": [
        {
          "output_type": "execute_result",
          "data": {
            "text/plain": [
              "array([1, 3, 5])"
            ]
          },
          "metadata": {},
          "execution_count": 27
        }
      ]
    },
    {
      "cell_type": "code",
      "source": [
        "c[:,np.newaxis]"
      ],
      "metadata": {
        "colab": {
          "base_uri": "https://localhost:8080/"
        },
        "id": "zCwsHnhzyHQm",
        "outputId": "fc7bb3d2-29b6-44d6-8975-e701436bb752"
      },
      "execution_count": 33,
      "outputs": [
        {
          "output_type": "execute_result",
          "data": {
            "text/plain": [
              "array([[1],\n",
              "       [3],\n",
              "       [5]])"
            ]
          },
          "metadata": {},
          "execution_count": 33
        }
      ]
    },
    {
      "cell_type": "code",
      "source": [
        "np.hstack((a,c[:,np.newaxis]))"
      ],
      "metadata": {
        "colab": {
          "base_uri": "https://localhost:8080/"
        },
        "id": "Vsv3KYw_yK-p",
        "outputId": "85e55414-877e-483f-ab36-a587096a8a32"
      },
      "execution_count": 29,
      "outputs": [
        {
          "output_type": "execute_result",
          "data": {
            "text/plain": [
              "array([[ 1,  2,  3,  4,  1],\n",
              "       [ 5,  6,  7,  8,  3],\n",
              "       [ 9, 10, 11, 12,  5]])"
            ]
          },
          "metadata": {},
          "execution_count": 29
        }
      ]
    },
    {
      "cell_type": "code",
      "source": [
        "np.hstack((a,c)) #2차원 배열이랑 1차원 배열을 합치려 하여 에러 c[:,np.newaxis]는 출력만 형상 바꿔서 출력하는거지 변수를 수정하는것이 아님"
      ],
      "metadata": {
        "colab": {
          "base_uri": "https://localhost:8080/",
          "height": 291
        },
        "id": "0VI152OpyPXv",
        "outputId": "4acb8771-b707-4ad9-e913-c8dce72277ae"
      },
      "execution_count": 30,
      "outputs": [
        {
          "output_type": "error",
          "ename": "ValueError",
          "evalue": "all the input arrays must have same number of dimensions, but the array at index 0 has 2 dimension(s) and the array at index 1 has 1 dimension(s)",
          "traceback": [
            "\u001b[0;31m---------------------------------------------------------------------------\u001b[0m",
            "\u001b[0;31mValueError\u001b[0m                                Traceback (most recent call last)",
            "\u001b[0;32m<ipython-input-30-8b9936bb800b>\u001b[0m in \u001b[0;36m<cell line: 1>\u001b[0;34m()\u001b[0m\n\u001b[0;32m----> 1\u001b[0;31m \u001b[0mnp\u001b[0m\u001b[0;34m.\u001b[0m\u001b[0mhstack\u001b[0m\u001b[0;34m(\u001b[0m\u001b[0;34m(\u001b[0m\u001b[0ma\u001b[0m\u001b[0;34m,\u001b[0m\u001b[0mc\u001b[0m\u001b[0;34m)\u001b[0m\u001b[0;34m)\u001b[0m\u001b[0;34m\u001b[0m\u001b[0;34m\u001b[0m\u001b[0m\n\u001b[0m",
            "\u001b[0;32m/usr/local/lib/python3.10/dist-packages/numpy/core/shape_base.py\u001b[0m in \u001b[0;36mhstack\u001b[0;34m(tup, dtype, casting)\u001b[0m\n\u001b[1;32m    357\u001b[0m         \u001b[0;32mreturn\u001b[0m \u001b[0m_nx\u001b[0m\u001b[0;34m.\u001b[0m\u001b[0mconcatenate\u001b[0m\u001b[0;34m(\u001b[0m\u001b[0marrs\u001b[0m\u001b[0;34m,\u001b[0m \u001b[0;36m0\u001b[0m\u001b[0;34m,\u001b[0m \u001b[0mdtype\u001b[0m\u001b[0;34m=\u001b[0m\u001b[0mdtype\u001b[0m\u001b[0;34m,\u001b[0m \u001b[0mcasting\u001b[0m\u001b[0;34m=\u001b[0m\u001b[0mcasting\u001b[0m\u001b[0;34m)\u001b[0m\u001b[0;34m\u001b[0m\u001b[0;34m\u001b[0m\u001b[0m\n\u001b[1;32m    358\u001b[0m     \u001b[0;32melse\u001b[0m\u001b[0;34m:\u001b[0m\u001b[0;34m\u001b[0m\u001b[0;34m\u001b[0m\u001b[0m\n\u001b[0;32m--> 359\u001b[0;31m         \u001b[0;32mreturn\u001b[0m \u001b[0m_nx\u001b[0m\u001b[0;34m.\u001b[0m\u001b[0mconcatenate\u001b[0m\u001b[0;34m(\u001b[0m\u001b[0marrs\u001b[0m\u001b[0;34m,\u001b[0m \u001b[0;36m1\u001b[0m\u001b[0;34m,\u001b[0m \u001b[0mdtype\u001b[0m\u001b[0;34m=\u001b[0m\u001b[0mdtype\u001b[0m\u001b[0;34m,\u001b[0m \u001b[0mcasting\u001b[0m\u001b[0;34m=\u001b[0m\u001b[0mcasting\u001b[0m\u001b[0;34m)\u001b[0m\u001b[0;34m\u001b[0m\u001b[0;34m\u001b[0m\u001b[0m\n\u001b[0m\u001b[1;32m    360\u001b[0m \u001b[0;34m\u001b[0m\u001b[0m\n\u001b[1;32m    361\u001b[0m \u001b[0;34m\u001b[0m\u001b[0m\n",
            "\u001b[0;31mValueError\u001b[0m: all the input arrays must have same number of dimensions, but the array at index 0 has 2 dimension(s) and the array at index 1 has 1 dimension(s)"
          ]
        }
      ]
    },
    {
      "cell_type": "code",
      "source": [
        "np.hstack((a,np.expand_dims(c,axis=1))) # np.expand_dims(c,axis=1)은 그냥 2차원 배열의 c로 보면 됨"
      ],
      "metadata": {
        "colab": {
          "base_uri": "https://localhost:8080/"
        },
        "id": "mia3GUuOyVNJ",
        "outputId": "6308639c-ae93-46c9-e485-09dd4befd333"
      },
      "execution_count": 34,
      "outputs": [
        {
          "output_type": "execute_result",
          "data": {
            "text/plain": [
              "array([[ 1,  2,  3,  4,  1],\n",
              "       [ 5,  6,  7,  8,  3],\n",
              "       [ 9, 10, 11, 12,  5]])"
            ]
          },
          "metadata": {},
          "execution_count": 34
        }
      ]
    },
    {
      "cell_type": "code",
      "source": [
        "np.column_stack((a,c))"
      ],
      "metadata": {
        "colab": {
          "base_uri": "https://localhost:8080/"
        },
        "id": "oou-PQ8Qyu-R",
        "outputId": "aa80ae81-3826-430d-a5ee-0250530a07b9"
      },
      "execution_count": 35,
      "outputs": [
        {
          "output_type": "execute_result",
          "data": {
            "text/plain": [
              "array([[ 1,  2,  3,  4,  1],\n",
              "       [ 5,  6,  7,  8,  3],\n",
              "       [ 9, 10, 11, 12,  5]])"
            ]
          },
          "metadata": {},
          "execution_count": 35
        }
      ]
    },
    {
      "cell_type": "markdown",
      "source": [
        "## row_stack()과 vstack()"
      ],
      "metadata": {
        "id": "FfgG8cbVyyI4"
      }
    },
    {
      "cell_type": "code",
      "source": [
        "np.row_stack==np.vstack #책에는 없다 row_stack과 vstack은 완전히 같은 함수이다. (O, X)"
      ],
      "metadata": {
        "colab": {
          "base_uri": "https://localhost:8080/"
        },
        "id": "EuNifUEezJGK",
        "outputId": "6ce8216f-b514-47f6-bfcd-b826205e9654"
      },
      "execution_count": 44,
      "outputs": [
        {
          "output_type": "execute_result",
          "data": {
            "text/plain": [
              "True"
            ]
          },
          "metadata": {},
          "execution_count": 44
        }
      ]
    },
    {
      "cell_type": "code",
      "source": [
        "import numpy as np\n",
        "\n",
        "a = np.arange(1,13).reshape(3,4)\n",
        "a"
      ],
      "metadata": {
        "colab": {
          "base_uri": "https://localhost:8080/"
        },
        "id": "zdf734XOy4mi",
        "outputId": "71348c10-b029-46c0-e8ba-cb6094547048"
      },
      "execution_count": 36,
      "outputs": [
        {
          "output_type": "execute_result",
          "data": {
            "text/plain": [
              "array([[ 1,  2,  3,  4],\n",
              "       [ 5,  6,  7,  8],\n",
              "       [ 9, 10, 11, 12]])"
            ]
          },
          "metadata": {},
          "execution_count": 36
        }
      ]
    },
    {
      "cell_type": "code",
      "source": [
        "b = np.arange(1,5)\n",
        "b"
      ],
      "metadata": {
        "colab": {
          "base_uri": "https://localhost:8080/"
        },
        "id": "8SkcZ-hxy7Nj",
        "outputId": "9da8b6ee-0288-4ce5-a9ac-65505400331f"
      },
      "execution_count": 37,
      "outputs": [
        {
          "output_type": "execute_result",
          "data": {
            "text/plain": [
              "array([1, 2, 3, 4])"
            ]
          },
          "metadata": {},
          "execution_count": 37
        }
      ]
    },
    {
      "cell_type": "code",
      "source": [
        "np.row_stack((a,b)) #괄호 안에 괄호 있는것은 인자값이 n개 들어가는 경우에 데이터 묶음 형태로 집어넣나봄"
      ],
      "metadata": {
        "colab": {
          "base_uri": "https://localhost:8080/"
        },
        "id": "W0boWuhdy9PK",
        "outputId": "26c9c27a-b9c6-4ee0-ac98-9d00924463a0"
      },
      "execution_count": 38,
      "outputs": [
        {
          "output_type": "execute_result",
          "data": {
            "text/plain": [
              "array([[ 1,  2,  3,  4],\n",
              "       [ 5,  6,  7,  8],\n",
              "       [ 9, 10, 11, 12],\n",
              "       [ 1,  2,  3,  4]])"
            ]
          },
          "metadata": {},
          "execution_count": 38
        }
      ]
    },
    {
      "cell_type": "code",
      "source": [
        "np.vstack((a,b))"
      ],
      "metadata": {
        "colab": {
          "base_uri": "https://localhost:8080/"
        },
        "id": "sI-dGbOxzHZq",
        "outputId": "61b8ab82-bb74-43f4-af40-348f50246a1d"
      },
      "execution_count": 39,
      "outputs": [
        {
          "output_type": "execute_result",
          "data": {
            "text/plain": [
              "array([[ 1,  2,  3,  4],\n",
              "       [ 5,  6,  7,  8],\n",
              "       [ 9, 10, 11, 12],\n",
              "       [ 1,  2,  3,  4]])"
            ]
          },
          "metadata": {},
          "execution_count": 39
        }
      ]
    },
    {
      "cell_type": "markdown",
      "source": [
        "## np.c_[]와 np.column_stack()"
      ],
      "metadata": {
        "id": "Iak_oI7yzMLl"
      }
    },
    {
      "cell_type": "code",
      "source": [
        "help(np.c_)"
      ],
      "metadata": {
        "colab": {
          "base_uri": "https://localhost:8080/"
        },
        "id": "Gv54wGkGz3Na",
        "outputId": "a241d1a2-a512-43b7-a94e-ff2496a44f9f"
      },
      "execution_count": 45,
      "outputs": [
        {
          "output_type": "stream",
          "name": "stdout",
          "text": [
            "Help on CClass in module numpy.lib.index_tricks object:\n",
            "\n",
            "class CClass(AxisConcatenator)\n",
            " |  Translates slice objects to concatenation along the second axis.\n",
            " |  \n",
            " |  This is short-hand for ``np.r_['-1,2,0', index expression]``, which is\n",
            " |  useful because of its common occurrence. In particular, arrays will be\n",
            " |  stacked along their last axis after being upgraded to at least 2-D with\n",
            " |  1's post-pended to the shape (column vectors made out of 1-D arrays).\n",
            " |  \n",
            " |  See Also\n",
            " |  --------\n",
            " |  column_stack : Stack 1-D arrays as columns into a 2-D array.\n",
            " |  r_ : For more detailed documentation.\n",
            " |  \n",
            " |  Examples\n",
            " |  --------\n",
            " |  >>> np.c_[np.array([1,2,3]), np.array([4,5,6])]\n",
            " |  array([[1, 4],\n",
            " |         [2, 5],\n",
            " |         [3, 6]])\n",
            " |  >>> np.c_[np.array([[1,2,3]]), 0, 0, np.array([[4,5,6]])]\n",
            " |  array([[1, 2, 3, ..., 4, 5, 6]])\n",
            " |  \n",
            " |  Method resolution order:\n",
            " |      CClass\n",
            " |      AxisConcatenator\n",
            " |      builtins.object\n",
            " |  \n",
            " |  Methods defined here:\n",
            " |  \n",
            " |  __init__(self)\n",
            " |      Initialize self.  See help(type(self)) for accurate signature.\n",
            " |  \n",
            " |  ----------------------------------------------------------------------\n",
            " |  Methods inherited from AxisConcatenator:\n",
            " |  \n",
            " |  __getitem__(self, key)\n",
            " |  \n",
            " |  __len__(self)\n",
            " |  \n",
            " |  ----------------------------------------------------------------------\n",
            " |  Static methods inherited from AxisConcatenator:\n",
            " |  \n",
            " |  concatenate(...)\n",
            " |      concatenate((a1, a2, ...), axis=0, out=None, dtype=None, casting=\"same_kind\")\n",
            " |      \n",
            " |      Join a sequence of arrays along an existing axis.\n",
            " |      \n",
            " |      Parameters\n",
            " |      ----------\n",
            " |      a1, a2, ... : sequence of array_like\n",
            " |          The arrays must have the same shape, except in the dimension\n",
            " |          corresponding to `axis` (the first, by default).\n",
            " |      axis : int, optional\n",
            " |          The axis along which the arrays will be joined.  If axis is None,\n",
            " |          arrays are flattened before use.  Default is 0.\n",
            " |      out : ndarray, optional\n",
            " |          If provided, the destination to place the result. The shape must be\n",
            " |          correct, matching that of what concatenate would have returned if no\n",
            " |          out argument were specified.\n",
            " |      dtype : str or dtype\n",
            " |          If provided, the destination array will have this dtype. Cannot be\n",
            " |          provided together with `out`.\n",
            " |      \n",
            " |          .. versionadded:: 1.20.0\n",
            " |      \n",
            " |      casting : {'no', 'equiv', 'safe', 'same_kind', 'unsafe'}, optional\n",
            " |          Controls what kind of data casting may occur. Defaults to 'same_kind'.\n",
            " |      \n",
            " |          .. versionadded:: 1.20.0\n",
            " |      \n",
            " |      Returns\n",
            " |      -------\n",
            " |      res : ndarray\n",
            " |          The concatenated array.\n",
            " |      \n",
            " |      See Also\n",
            " |      --------\n",
            " |      ma.concatenate : Concatenate function that preserves input masks.\n",
            " |      array_split : Split an array into multiple sub-arrays of equal or\n",
            " |                    near-equal size.\n",
            " |      split : Split array into a list of multiple sub-arrays of equal size.\n",
            " |      hsplit : Split array into multiple sub-arrays horizontally (column wise).\n",
            " |      vsplit : Split array into multiple sub-arrays vertically (row wise).\n",
            " |      dsplit : Split array into multiple sub-arrays along the 3rd axis (depth).\n",
            " |      stack : Stack a sequence of arrays along a new axis.\n",
            " |      block : Assemble arrays from blocks.\n",
            " |      hstack : Stack arrays in sequence horizontally (column wise).\n",
            " |      vstack : Stack arrays in sequence vertically (row wise).\n",
            " |      dstack : Stack arrays in sequence depth wise (along third dimension).\n",
            " |      column_stack : Stack 1-D arrays as columns into a 2-D array.\n",
            " |      \n",
            " |      Notes\n",
            " |      -----\n",
            " |      When one or more of the arrays to be concatenated is a MaskedArray,\n",
            " |      this function will return a MaskedArray object instead of an ndarray,\n",
            " |      but the input masks are *not* preserved. In cases where a MaskedArray\n",
            " |      is expected as input, use the ma.concatenate function from the masked\n",
            " |      array module instead.\n",
            " |      \n",
            " |      Examples\n",
            " |      --------\n",
            " |      >>> a = np.array([[1, 2], [3, 4]])\n",
            " |      >>> b = np.array([[5, 6]])\n",
            " |      >>> np.concatenate((a, b), axis=0)\n",
            " |      array([[1, 2],\n",
            " |             [3, 4],\n",
            " |             [5, 6]])\n",
            " |      >>> np.concatenate((a, b.T), axis=1)\n",
            " |      array([[1, 2, 5],\n",
            " |             [3, 4, 6]])\n",
            " |      >>> np.concatenate((a, b), axis=None)\n",
            " |      array([1, 2, 3, 4, 5, 6])\n",
            " |      \n",
            " |      This function will not preserve masking of MaskedArray inputs.\n",
            " |      \n",
            " |      >>> a = np.ma.arange(3)\n",
            " |      >>> a[1] = np.ma.masked\n",
            " |      >>> b = np.arange(2, 5)\n",
            " |      >>> a\n",
            " |      masked_array(data=[0, --, 2],\n",
            " |                   mask=[False,  True, False],\n",
            " |             fill_value=999999)\n",
            " |      >>> b\n",
            " |      array([2, 3, 4])\n",
            " |      >>> np.concatenate([a, b])\n",
            " |      masked_array(data=[0, 1, 2, 2, 3, 4],\n",
            " |                   mask=False,\n",
            " |             fill_value=999999)\n",
            " |      >>> np.ma.concatenate([a, b])\n",
            " |      masked_array(data=[0, --, 2, 2, 3, 4],\n",
            " |                   mask=[False,  True, False, False, False, False],\n",
            " |             fill_value=999999)\n",
            " |  \n",
            " |  makemat = class matrix(ndarray)\n",
            " |   |  makemat(data, dtype=None, copy=True)\n",
            " |   |  \n",
            " |   |  matrix(data, dtype=None, copy=True)\n",
            " |   |  \n",
            " |   |  .. note:: It is no longer recommended to use this class, even for linear\n",
            " |   |            algebra. Instead use regular arrays. The class may be removed\n",
            " |   |            in the future.\n",
            " |   |  \n",
            " |   |  Returns a matrix from an array-like object, or from a string of data.\n",
            " |   |  A matrix is a specialized 2-D array that retains its 2-D nature\n",
            " |   |  through operations.  It has certain special operators, such as ``*``\n",
            " |   |  (matrix multiplication) and ``**`` (matrix power).\n",
            " |   |  \n",
            " |   |  Parameters\n",
            " |   |  ----------\n",
            " |   |  data : array_like or string\n",
            " |   |     If `data` is a string, it is interpreted as a matrix with commas\n",
            " |   |     or spaces separating columns, and semicolons separating rows.\n",
            " |   |  dtype : data-type\n",
            " |   |     Data-type of the output matrix.\n",
            " |   |  copy : bool\n",
            " |   |     If `data` is already an `ndarray`, then this flag determines\n",
            " |   |     whether the data is copied (the default), or whether a view is\n",
            " |   |     constructed.\n",
            " |   |  \n",
            " |   |  See Also\n",
            " |   |  --------\n",
            " |   |  array\n",
            " |   |  \n",
            " |   |  Examples\n",
            " |   |  --------\n",
            " |   |  >>> a = np.matrix('1 2; 3 4')\n",
            " |   |  >>> a\n",
            " |   |  matrix([[1, 2],\n",
            " |   |          [3, 4]])\n",
            " |   |  \n",
            " |   |  >>> np.matrix([[1, 2], [3, 4]])\n",
            " |   |  matrix([[1, 2],\n",
            " |   |          [3, 4]])\n",
            " |   |  \n",
            " |   |  Method resolution order:\n",
            " |   |      matrix\n",
            " |   |      ndarray\n",
            " |   |      builtins.object\n",
            " |   |  \n",
            " |   |  Methods defined here:\n",
            " |   |  \n",
            " |   |  __array_finalize__(self, obj)\n",
            " |   |      a.__array_finalize__(obj, /)\n",
            " |   |      \n",
            " |   |      Present so subclasses can call super. Does nothing.\n",
            " |   |  \n",
            " |   |  __getitem__(self, index)\n",
            " |   |      Return self[key].\n",
            " |   |  \n",
            " |   |  __imul__(self, other)\n",
            " |   |      Return self*=value.\n",
            " |   |  \n",
            " |   |  __ipow__(self, other)\n",
            " |   |      Return self**=value.\n",
            " |   |  \n",
            " |   |  __mul__(self, other)\n",
            " |   |      Return self*value.\n",
            " |   |  \n",
            " |   |  __pow__(self, other)\n",
            " |   |      Return pow(self, value, mod).\n",
            " |   |  \n",
            " |   |  __rmul__(self, other)\n",
            " |   |      Return value*self.\n",
            " |   |  \n",
            " |   |  __rpow__(self, other)\n",
            " |   |      Return pow(value, self, mod).\n",
            " |   |  \n",
            " |   |  all(self, axis=None, out=None)\n",
            " |   |      Test whether all matrix elements along a given axis evaluate to True.\n",
            " |   |      \n",
            " |   |      Parameters\n",
            " |   |      ----------\n",
            " |   |      See `numpy.all` for complete descriptions\n",
            " |   |      \n",
            " |   |      See Also\n",
            " |   |      --------\n",
            " |   |      numpy.all\n",
            " |   |      \n",
            " |   |      Notes\n",
            " |   |      -----\n",
            " |   |      This is the same as `ndarray.all`, but it returns a `matrix` object.\n",
            " |   |      \n",
            " |   |      Examples\n",
            " |   |      --------\n",
            " |   |      >>> x = np.matrix(np.arange(12).reshape((3,4))); x\n",
            " |   |      matrix([[ 0,  1,  2,  3],\n",
            " |   |              [ 4,  5,  6,  7],\n",
            " |   |              [ 8,  9, 10, 11]])\n",
            " |   |      >>> y = x[0]; y\n",
            " |   |      matrix([[0, 1, 2, 3]])\n",
            " |   |      >>> (x == y)\n",
            " |   |      matrix([[ True,  True,  True,  True],\n",
            " |   |              [False, False, False, False],\n",
            " |   |              [False, False, False, False]])\n",
            " |   |      >>> (x == y).all()\n",
            " |   |      False\n",
            " |   |      >>> (x == y).all(0)\n",
            " |   |      matrix([[False, False, False, False]])\n",
            " |   |      >>> (x == y).all(1)\n",
            " |   |      matrix([[ True],\n",
            " |   |              [False],\n",
            " |   |              [False]])\n",
            " |   |  \n",
            " |   |  any(self, axis=None, out=None)\n",
            " |   |      Test whether any array element along a given axis evaluates to True.\n",
            " |   |      \n",
            " |   |      Refer to `numpy.any` for full documentation.\n",
            " |   |      \n",
            " |   |      Parameters\n",
            " |   |      ----------\n",
            " |   |      axis : int, optional\n",
            " |   |          Axis along which logical OR is performed\n",
            " |   |      out : ndarray, optional\n",
            " |   |          Output to existing array instead of creating new one, must have\n",
            " |   |          same shape as expected output\n",
            " |   |      \n",
            " |   |      Returns\n",
            " |   |      -------\n",
            " |   |          any : bool, ndarray\n",
            " |   |              Returns a single bool if `axis` is ``None``; otherwise,\n",
            " |   |              returns `ndarray`\n",
            " |   |  \n",
            " |   |  argmax(self, axis=None, out=None)\n",
            " |   |      Indexes of the maximum values along an axis.\n",
            " |   |      \n",
            " |   |      Return the indexes of the first occurrences of the maximum values\n",
            " |   |      along the specified axis.  If axis is None, the index is for the\n",
            " |   |      flattened matrix.\n",
            " |   |      \n",
            " |   |      Parameters\n",
            " |   |      ----------\n",
            " |   |      See `numpy.argmax` for complete descriptions\n",
            " |   |      \n",
            " |   |      See Also\n",
            " |   |      --------\n",
            " |   |      numpy.argmax\n",
            " |   |      \n",
            " |   |      Notes\n",
            " |   |      -----\n",
            " |   |      This is the same as `ndarray.argmax`, but returns a `matrix` object\n",
            " |   |      where `ndarray.argmax` would return an `ndarray`.\n",
            " |   |      \n",
            " |   |      Examples\n",
            " |   |      --------\n",
            " |   |      >>> x = np.matrix(np.arange(12).reshape((3,4))); x\n",
            " |   |      matrix([[ 0,  1,  2,  3],\n",
            " |   |              [ 4,  5,  6,  7],\n",
            " |   |              [ 8,  9, 10, 11]])\n",
            " |   |      >>> x.argmax()\n",
            " |   |      11\n",
            " |   |      >>> x.argmax(0)\n",
            " |   |      matrix([[2, 2, 2, 2]])\n",
            " |   |      >>> x.argmax(1)\n",
            " |   |      matrix([[3],\n",
            " |   |              [3],\n",
            " |   |              [3]])\n",
            " |   |  \n",
            " |   |  argmin(self, axis=None, out=None)\n",
            " |   |      Indexes of the minimum values along an axis.\n",
            " |   |      \n",
            " |   |      Return the indexes of the first occurrences of the minimum values\n",
            " |   |      along the specified axis.  If axis is None, the index is for the\n",
            " |   |      flattened matrix.\n",
            " |   |      \n",
            " |   |      Parameters\n",
            " |   |      ----------\n",
            " |   |      See `numpy.argmin` for complete descriptions.\n",
            " |   |      \n",
            " |   |      See Also\n",
            " |   |      --------\n",
            " |   |      numpy.argmin\n",
            " |   |      \n",
            " |   |      Notes\n",
            " |   |      -----\n",
            " |   |      This is the same as `ndarray.argmin`, but returns a `matrix` object\n",
            " |   |      where `ndarray.argmin` would return an `ndarray`.\n",
            " |   |      \n",
            " |   |      Examples\n",
            " |   |      --------\n",
            " |   |      >>> x = -np.matrix(np.arange(12).reshape((3,4))); x\n",
            " |   |      matrix([[  0,  -1,  -2,  -3],\n",
            " |   |              [ -4,  -5,  -6,  -7],\n",
            " |   |              [ -8,  -9, -10, -11]])\n",
            " |   |      >>> x.argmin()\n",
            " |   |      11\n",
            " |   |      >>> x.argmin(0)\n",
            " |   |      matrix([[2, 2, 2, 2]])\n",
            " |   |      >>> x.argmin(1)\n",
            " |   |      matrix([[3],\n",
            " |   |              [3],\n",
            " |   |              [3]])\n",
            " |   |  \n",
            " |   |  flatten(self, order='C')\n",
            " |   |      Return a flattened copy of the matrix.\n",
            " |   |      \n",
            " |   |      All `N` elements of the matrix are placed into a single row.\n",
            " |   |      \n",
            " |   |      Parameters\n",
            " |   |      ----------\n",
            " |   |      order : {'C', 'F', 'A', 'K'}, optional\n",
            " |   |          'C' means to flatten in row-major (C-style) order. 'F' means to\n",
            " |   |          flatten in column-major (Fortran-style) order. 'A' means to\n",
            " |   |          flatten in column-major order if `m` is Fortran *contiguous* in\n",
            " |   |          memory, row-major order otherwise. 'K' means to flatten `m` in\n",
            " |   |          the order the elements occur in memory. The default is 'C'.\n",
            " |   |      \n",
            " |   |      Returns\n",
            " |   |      -------\n",
            " |   |      y : matrix\n",
            " |   |          A copy of the matrix, flattened to a `(1, N)` matrix where `N`\n",
            " |   |          is the number of elements in the original matrix.\n",
            " |   |      \n",
            " |   |      See Also\n",
            " |   |      --------\n",
            " |   |      ravel : Return a flattened array.\n",
            " |   |      flat : A 1-D flat iterator over the matrix.\n",
            " |   |      \n",
            " |   |      Examples\n",
            " |   |      --------\n",
            " |   |      >>> m = np.matrix([[1,2], [3,4]])\n",
            " |   |      >>> m.flatten()\n",
            " |   |      matrix([[1, 2, 3, 4]])\n",
            " |   |      >>> m.flatten('F')\n",
            " |   |      matrix([[1, 3, 2, 4]])\n",
            " |   |  \n",
            " |   |  getA = A(self)\n",
            " |   |      Return `self` as an `ndarray` object.\n",
            " |   |      \n",
            " |   |      Equivalent to ``np.asarray(self)``.\n",
            " |   |      \n",
            " |   |      Parameters\n",
            " |   |      ----------\n",
            " |   |      None\n",
            " |   |      \n",
            " |   |      Returns\n",
            " |   |      -------\n",
            " |   |      ret : ndarray\n",
            " |   |          `self` as an `ndarray`\n",
            " |   |      \n",
            " |   |      Examples\n",
            " |   |      --------\n",
            " |   |      >>> x = np.matrix(np.arange(12).reshape((3,4))); x\n",
            " |   |      matrix([[ 0,  1,  2,  3],\n",
            " |   |              [ 4,  5,  6,  7],\n",
            " |   |              [ 8,  9, 10, 11]])\n",
            " |   |      >>> x.getA()\n",
            " |   |      array([[ 0,  1,  2,  3],\n",
            " |   |             [ 4,  5,  6,  7],\n",
            " |   |             [ 8,  9, 10, 11]])\n",
            " |   |  \n",
            " |   |  getA1 = A1(self)\n",
            " |   |      Return `self` as a flattened `ndarray`.\n",
            " |   |      \n",
            " |   |      Equivalent to ``np.asarray(x).ravel()``\n",
            " |   |      \n",
            " |   |      Parameters\n",
            " |   |      ----------\n",
            " |   |      None\n",
            " |   |      \n",
            " |   |      Returns\n",
            " |   |      -------\n",
            " |   |      ret : ndarray\n",
            " |   |          `self`, 1-D, as an `ndarray`\n",
            " |   |      \n",
            " |   |      Examples\n",
            " |   |      --------\n",
            " |   |      >>> x = np.matrix(np.arange(12).reshape((3,4))); x\n",
            " |   |      matrix([[ 0,  1,  2,  3],\n",
            " |   |              [ 4,  5,  6,  7],\n",
            " |   |              [ 8,  9, 10, 11]])\n",
            " |   |      >>> x.getA1()\n",
            " |   |      array([ 0,  1,  2, ...,  9, 10, 11])\n",
            " |   |  \n",
            " |   |  getH = H(self)\n",
            " |   |      Returns the (complex) conjugate transpose of `self`.\n",
            " |   |      \n",
            " |   |      Equivalent to ``np.transpose(self)`` if `self` is real-valued.\n",
            " |   |      \n",
            " |   |      Parameters\n",
            " |   |      ----------\n",
            " |   |      None\n",
            " |   |      \n",
            " |   |      Returns\n",
            " |   |      -------\n",
            " |   |      ret : matrix object\n",
            " |   |          complex conjugate transpose of `self`\n",
            " |   |      \n",
            " |   |      Examples\n",
            " |   |      --------\n",
            " |   |      >>> x = np.matrix(np.arange(12).reshape((3,4)))\n",
            " |   |      >>> z = x - 1j*x; z\n",
            " |   |      matrix([[  0. +0.j,   1. -1.j,   2. -2.j,   3. -3.j],\n",
            " |   |              [  4. -4.j,   5. -5.j,   6. -6.j,   7. -7.j],\n",
            " |   |              [  8. -8.j,   9. -9.j,  10.-10.j,  11.-11.j]])\n",
            " |   |      >>> z.getH()\n",
            " |   |      matrix([[ 0. -0.j,  4. +4.j,  8. +8.j],\n",
            " |   |              [ 1. +1.j,  5. +5.j,  9. +9.j],\n",
            " |   |              [ 2. +2.j,  6. +6.j, 10.+10.j],\n",
            " |   |              [ 3. +3.j,  7. +7.j, 11.+11.j]])\n",
            " |   |  \n",
            " |   |  getI = I(self)\n",
            " |   |      Returns the (multiplicative) inverse of invertible `self`.\n",
            " |   |      \n",
            " |   |      Parameters\n",
            " |   |      ----------\n",
            " |   |      None\n",
            " |   |      \n",
            " |   |      Returns\n",
            " |   |      -------\n",
            " |   |      ret : matrix object\n",
            " |   |          If `self` is non-singular, `ret` is such that ``ret * self`` ==\n",
            " |   |          ``self * ret`` == ``np.matrix(np.eye(self[0,:].size))`` all return\n",
            " |   |          ``True``.\n",
            " |   |      \n",
            " |   |      Raises\n",
            " |   |      ------\n",
            " |   |      numpy.linalg.LinAlgError: Singular matrix\n",
            " |   |          If `self` is singular.\n",
            " |   |      \n",
            " |   |      See Also\n",
            " |   |      --------\n",
            " |   |      linalg.inv\n",
            " |   |      \n",
            " |   |      Examples\n",
            " |   |      --------\n",
            " |   |      >>> m = np.matrix('[1, 2; 3, 4]'); m\n",
            " |   |      matrix([[1, 2],\n",
            " |   |              [3, 4]])\n",
            " |   |      >>> m.getI()\n",
            " |   |      matrix([[-2. ,  1. ],\n",
            " |   |              [ 1.5, -0.5]])\n",
            " |   |      >>> m.getI() * m\n",
            " |   |      matrix([[ 1.,  0.], # may vary\n",
            " |   |              [ 0.,  1.]])\n",
            " |   |  \n",
            " |   |  getT = T(self)\n",
            " |   |      Returns the transpose of the matrix.\n",
            " |   |      \n",
            " |   |      Does *not* conjugate!  For the complex conjugate transpose, use ``.H``.\n",
            " |   |      \n",
            " |   |      Parameters\n",
            " |   |      ----------\n",
            " |   |      None\n",
            " |   |      \n",
            " |   |      Returns\n",
            " |   |      -------\n",
            " |   |      ret : matrix object\n",
            " |   |          The (non-conjugated) transpose of the matrix.\n",
            " |   |      \n",
            " |   |      See Also\n",
            " |   |      --------\n",
            " |   |      transpose, getH\n",
            " |   |      \n",
            " |   |      Examples\n",
            " |   |      --------\n",
            " |   |      >>> m = np.matrix('[1, 2; 3, 4]')\n",
            " |   |      >>> m\n",
            " |   |      matrix([[1, 2],\n",
            " |   |              [3, 4]])\n",
            " |   |      >>> m.getT()\n",
            " |   |      matrix([[1, 3],\n",
            " |   |              [2, 4]])\n",
            " |   |  \n",
            " |   |  max(self, axis=None, out=None)\n",
            " |   |      Return the maximum value along an axis.\n",
            " |   |      \n",
            " |   |      Parameters\n",
            " |   |      ----------\n",
            " |   |      See `amax` for complete descriptions\n",
            " |   |      \n",
            " |   |      See Also\n",
            " |   |      --------\n",
            " |   |      amax, ndarray.max\n",
            " |   |      \n",
            " |   |      Notes\n",
            " |   |      -----\n",
            " |   |      This is the same as `ndarray.max`, but returns a `matrix` object\n",
            " |   |      where `ndarray.max` would return an ndarray.\n",
            " |   |      \n",
            " |   |      Examples\n",
            " |   |      --------\n",
            " |   |      >>> x = np.matrix(np.arange(12).reshape((3,4))); x\n",
            " |   |      matrix([[ 0,  1,  2,  3],\n",
            " |   |              [ 4,  5,  6,  7],\n",
            " |   |              [ 8,  9, 10, 11]])\n",
            " |   |      >>> x.max()\n",
            " |   |      11\n",
            " |   |      >>> x.max(0)\n",
            " |   |      matrix([[ 8,  9, 10, 11]])\n",
            " |   |      >>> x.max(1)\n",
            " |   |      matrix([[ 3],\n",
            " |   |              [ 7],\n",
            " |   |              [11]])\n",
            " |   |  \n",
            " |   |  mean(self, axis=None, dtype=None, out=None)\n",
            " |   |      Returns the average of the matrix elements along the given axis.\n",
            " |   |      \n",
            " |   |      Refer to `numpy.mean` for full documentation.\n",
            " |   |      \n",
            " |   |      See Also\n",
            " |   |      --------\n",
            " |   |      numpy.mean\n",
            " |   |      \n",
            " |   |      Notes\n",
            " |   |      -----\n",
            " |   |      Same as `ndarray.mean` except that, where that returns an `ndarray`,\n",
            " |   |      this returns a `matrix` object.\n",
            " |   |      \n",
            " |   |      Examples\n",
            " |   |      --------\n",
            " |   |      >>> x = np.matrix(np.arange(12).reshape((3, 4)))\n",
            " |   |      >>> x\n",
            " |   |      matrix([[ 0,  1,  2,  3],\n",
            " |   |              [ 4,  5,  6,  7],\n",
            " |   |              [ 8,  9, 10, 11]])\n",
            " |   |      >>> x.mean()\n",
            " |   |      5.5\n",
            " |   |      >>> x.mean(0)\n",
            " |   |      matrix([[4., 5., 6., 7.]])\n",
            " |   |      >>> x.mean(1)\n",
            " |   |      matrix([[ 1.5],\n",
            " |   |              [ 5.5],\n",
            " |   |              [ 9.5]])\n",
            " |   |  \n",
            " |   |  min(self, axis=None, out=None)\n",
            " |   |      Return the minimum value along an axis.\n",
            " |   |      \n",
            " |   |      Parameters\n",
            " |   |      ----------\n",
            " |   |      See `amin` for complete descriptions.\n",
            " |   |      \n",
            " |   |      See Also\n",
            " |   |      --------\n",
            " |   |      amin, ndarray.min\n",
            " |   |      \n",
            " |   |      Notes\n",
            " |   |      -----\n",
            " |   |      This is the same as `ndarray.min`, but returns a `matrix` object\n",
            " |   |      where `ndarray.min` would return an ndarray.\n",
            " |   |      \n",
            " |   |      Examples\n",
            " |   |      --------\n",
            " |   |      >>> x = -np.matrix(np.arange(12).reshape((3,4))); x\n",
            " |   |      matrix([[  0,  -1,  -2,  -3],\n",
            " |   |              [ -4,  -5,  -6,  -7],\n",
            " |   |              [ -8,  -9, -10, -11]])\n",
            " |   |      >>> x.min()\n",
            " |   |      -11\n",
            " |   |      >>> x.min(0)\n",
            " |   |      matrix([[ -8,  -9, -10, -11]])\n",
            " |   |      >>> x.min(1)\n",
            " |   |      matrix([[ -3],\n",
            " |   |              [ -7],\n",
            " |   |              [-11]])\n",
            " |   |  \n",
            " |   |  prod(self, axis=None, dtype=None, out=None)\n",
            " |   |      Return the product of the array elements over the given axis.\n",
            " |   |      \n",
            " |   |      Refer to `prod` for full documentation.\n",
            " |   |      \n",
            " |   |      See Also\n",
            " |   |      --------\n",
            " |   |      prod, ndarray.prod\n",
            " |   |      \n",
            " |   |      Notes\n",
            " |   |      -----\n",
            " |   |      Same as `ndarray.prod`, except, where that returns an `ndarray`, this\n",
            " |   |      returns a `matrix` object instead.\n",
            " |   |      \n",
            " |   |      Examples\n",
            " |   |      --------\n",
            " |   |      >>> x = np.matrix(np.arange(12).reshape((3,4))); x\n",
            " |   |      matrix([[ 0,  1,  2,  3],\n",
            " |   |              [ 4,  5,  6,  7],\n",
            " |   |              [ 8,  9, 10, 11]])\n",
            " |   |      >>> x.prod()\n",
            " |   |      0\n",
            " |   |      >>> x.prod(0)\n",
            " |   |      matrix([[  0,  45, 120, 231]])\n",
            " |   |      >>> x.prod(1)\n",
            " |   |      matrix([[   0],\n",
            " |   |              [ 840],\n",
            " |   |              [7920]])\n",
            " |   |  \n",
            " |   |  ptp(self, axis=None, out=None)\n",
            " |   |      Peak-to-peak (maximum - minimum) value along the given axis.\n",
            " |   |      \n",
            " |   |      Refer to `numpy.ptp` for full documentation.\n",
            " |   |      \n",
            " |   |      See Also\n",
            " |   |      --------\n",
            " |   |      numpy.ptp\n",
            " |   |      \n",
            " |   |      Notes\n",
            " |   |      -----\n",
            " |   |      Same as `ndarray.ptp`, except, where that would return an `ndarray` object,\n",
            " |   |      this returns a `matrix` object.\n",
            " |   |      \n",
            " |   |      Examples\n",
            " |   |      --------\n",
            " |   |      >>> x = np.matrix(np.arange(12).reshape((3,4))); x\n",
            " |   |      matrix([[ 0,  1,  2,  3],\n",
            " |   |              [ 4,  5,  6,  7],\n",
            " |   |              [ 8,  9, 10, 11]])\n",
            " |   |      >>> x.ptp()\n",
            " |   |      11\n",
            " |   |      >>> x.ptp(0)\n",
            " |   |      matrix([[8, 8, 8, 8]])\n",
            " |   |      >>> x.ptp(1)\n",
            " |   |      matrix([[3],\n",
            " |   |              [3],\n",
            " |   |              [3]])\n",
            " |   |  \n",
            " |   |  ravel(self, order='C')\n",
            " |   |      Return a flattened matrix.\n",
            " |   |      \n",
            " |   |      Refer to `numpy.ravel` for more documentation.\n",
            " |   |      \n",
            " |   |      Parameters\n",
            " |   |      ----------\n",
            " |   |      order : {'C', 'F', 'A', 'K'}, optional\n",
            " |   |          The elements of `m` are read using this index order. 'C' means to\n",
            " |   |          index the elements in C-like order, with the last axis index\n",
            " |   |          changing fastest, back to the first axis index changing slowest.\n",
            " |   |          'F' means to index the elements in Fortran-like index order, with\n",
            " |   |          the first index changing fastest, and the last index changing\n",
            " |   |          slowest. Note that the 'C' and 'F' options take no account of the\n",
            " |   |          memory layout of the underlying array, and only refer to the order\n",
            " |   |          of axis indexing.  'A' means to read the elements in Fortran-like\n",
            " |   |          index order if `m` is Fortran *contiguous* in memory, C-like order\n",
            " |   |          otherwise.  'K' means to read the elements in the order they occur\n",
            " |   |          in memory, except for reversing the data when strides are negative.\n",
            " |   |          By default, 'C' index order is used.\n",
            " |   |      \n",
            " |   |      Returns\n",
            " |   |      -------\n",
            " |   |      ret : matrix\n",
            " |   |          Return the matrix flattened to shape `(1, N)` where `N`\n",
            " |   |          is the number of elements in the original matrix.\n",
            " |   |          A copy is made only if necessary.\n",
            " |   |      \n",
            " |   |      See Also\n",
            " |   |      --------\n",
            " |   |      matrix.flatten : returns a similar output matrix but always a copy\n",
            " |   |      matrix.flat : a flat iterator on the array.\n",
            " |   |      numpy.ravel : related function which returns an ndarray\n",
            " |   |  \n",
            " |   |  squeeze(self, axis=None)\n",
            " |   |      Return a possibly reshaped matrix.\n",
            " |   |      \n",
            " |   |      Refer to `numpy.squeeze` for more documentation.\n",
            " |   |      \n",
            " |   |      Parameters\n",
            " |   |      ----------\n",
            " |   |      axis : None or int or tuple of ints, optional\n",
            " |   |          Selects a subset of the axes of length one in the shape.\n",
            " |   |          If an axis is selected with shape entry greater than one,\n",
            " |   |          an error is raised.\n",
            " |   |      \n",
            " |   |      Returns\n",
            " |   |      -------\n",
            " |   |      squeezed : matrix\n",
            " |   |          The matrix, but as a (1, N) matrix if it had shape (N, 1).\n",
            " |   |      \n",
            " |   |      See Also\n",
            " |   |      --------\n",
            " |   |      numpy.squeeze : related function\n",
            " |   |      \n",
            " |   |      Notes\n",
            " |   |      -----\n",
            " |   |      If `m` has a single column then that column is returned\n",
            " |   |      as the single row of a matrix.  Otherwise `m` is returned.\n",
            " |   |      The returned matrix is always either `m` itself or a view into `m`.\n",
            " |   |      Supplying an axis keyword argument will not affect the returned matrix\n",
            " |   |      but it may cause an error to be raised.\n",
            " |   |      \n",
            " |   |      Examples\n",
            " |   |      --------\n",
            " |   |      >>> c = np.matrix([[1], [2]])\n",
            " |   |      >>> c\n",
            " |   |      matrix([[1],\n",
            " |   |              [2]])\n",
            " |   |      >>> c.squeeze()\n",
            " |   |      matrix([[1, 2]])\n",
            " |   |      >>> r = c.T\n",
            " |   |      >>> r\n",
            " |   |      matrix([[1, 2]])\n",
            " |   |      >>> r.squeeze()\n",
            " |   |      matrix([[1, 2]])\n",
            " |   |      >>> m = np.matrix([[1, 2], [3, 4]])\n",
            " |   |      >>> m.squeeze()\n",
            " |   |      matrix([[1, 2],\n",
            " |   |              [3, 4]])\n",
            " |   |  \n",
            " |   |  std(self, axis=None, dtype=None, out=None, ddof=0)\n",
            " |   |      Return the standard deviation of the array elements along the given axis.\n",
            " |   |      \n",
            " |   |      Refer to `numpy.std` for full documentation.\n",
            " |   |      \n",
            " |   |      See Also\n",
            " |   |      --------\n",
            " |   |      numpy.std\n",
            " |   |      \n",
            " |   |      Notes\n",
            " |   |      -----\n",
            " |   |      This is the same as `ndarray.std`, except that where an `ndarray` would\n",
            " |   |      be returned, a `matrix` object is returned instead.\n",
            " |   |      \n",
            " |   |      Examples\n",
            " |   |      --------\n",
            " |   |      >>> x = np.matrix(np.arange(12).reshape((3, 4)))\n",
            " |   |      >>> x\n",
            " |   |      matrix([[ 0,  1,  2,  3],\n",
            " |   |              [ 4,  5,  6,  7],\n",
            " |   |              [ 8,  9, 10, 11]])\n",
            " |   |      >>> x.std()\n",
            " |   |      3.4520525295346629 # may vary\n",
            " |   |      >>> x.std(0)\n",
            " |   |      matrix([[ 3.26598632,  3.26598632,  3.26598632,  3.26598632]]) # may vary\n",
            " |   |      >>> x.std(1)\n",
            " |   |      matrix([[ 1.11803399],\n",
            " |   |              [ 1.11803399],\n",
            " |   |              [ 1.11803399]])\n",
            " |   |  \n",
            " |   |  sum(self, axis=None, dtype=None, out=None)\n",
            " |   |      Returns the sum of the matrix elements, along the given axis.\n",
            " |   |      \n",
            " |   |      Refer to `numpy.sum` for full documentation.\n",
            " |   |      \n",
            " |   |      See Also\n",
            " |   |      --------\n",
            " |   |      numpy.sum\n",
            " |   |      \n",
            " |   |      Notes\n",
            " |   |      -----\n",
            " |   |      This is the same as `ndarray.sum`, except that where an `ndarray` would\n",
            " |   |      be returned, a `matrix` object is returned instead.\n",
            " |   |      \n",
            " |   |      Examples\n",
            " |   |      --------\n",
            " |   |      >>> x = np.matrix([[1, 2], [4, 3]])\n",
            " |   |      >>> x.sum()\n",
            " |   |      10\n",
            " |   |      >>> x.sum(axis=1)\n",
            " |   |      matrix([[3],\n",
            " |   |              [7]])\n",
            " |   |      >>> x.sum(axis=1, dtype='float')\n",
            " |   |      matrix([[3.],\n",
            " |   |              [7.]])\n",
            " |   |      >>> out = np.zeros((2, 1), dtype='float')\n",
            " |   |      >>> x.sum(axis=1, dtype='float', out=np.asmatrix(out))\n",
            " |   |      matrix([[3.],\n",
            " |   |              [7.]])\n",
            " |   |  \n",
            " |   |  tolist(self)\n",
            " |   |      Return the matrix as a (possibly nested) list.\n",
            " |   |      \n",
            " |   |      See `ndarray.tolist` for full documentation.\n",
            " |   |      \n",
            " |   |      See Also\n",
            " |   |      --------\n",
            " |   |      ndarray.tolist\n",
            " |   |      \n",
            " |   |      Examples\n",
            " |   |      --------\n",
            " |   |      >>> x = np.matrix(np.arange(12).reshape((3,4))); x\n",
            " |   |      matrix([[ 0,  1,  2,  3],\n",
            " |   |              [ 4,  5,  6,  7],\n",
            " |   |              [ 8,  9, 10, 11]])\n",
            " |   |      >>> x.tolist()\n",
            " |   |      [[0, 1, 2, 3], [4, 5, 6, 7], [8, 9, 10, 11]]\n",
            " |   |  \n",
            " |   |  var(self, axis=None, dtype=None, out=None, ddof=0)\n",
            " |   |      Returns the variance of the matrix elements, along the given axis.\n",
            " |   |      \n",
            " |   |      Refer to `numpy.var` for full documentation.\n",
            " |   |      \n",
            " |   |      See Also\n",
            " |   |      --------\n",
            " |   |      numpy.var\n",
            " |   |      \n",
            " |   |      Notes\n",
            " |   |      -----\n",
            " |   |      This is the same as `ndarray.var`, except that where an `ndarray` would\n",
            " |   |      be returned, a `matrix` object is returned instead.\n",
            " |   |      \n",
            " |   |      Examples\n",
            " |   |      --------\n",
            " |   |      >>> x = np.matrix(np.arange(12).reshape((3, 4)))\n",
            " |   |      >>> x\n",
            " |   |      matrix([[ 0,  1,  2,  3],\n",
            " |   |              [ 4,  5,  6,  7],\n",
            " |   |              [ 8,  9, 10, 11]])\n",
            " |   |      >>> x.var()\n",
            " |   |      11.916666666666666\n",
            " |   |      >>> x.var(0)\n",
            " |   |      matrix([[ 10.66666667,  10.66666667,  10.66666667,  10.66666667]]) # may vary\n",
            " |   |      >>> x.var(1)\n",
            " |   |      matrix([[1.25],\n",
            " |   |              [1.25],\n",
            " |   |              [1.25]])\n",
            " |   |  \n",
            " |   |  ----------------------------------------------------------------------\n",
            " |   |  Static methods defined here:\n",
            " |   |  \n",
            " |   |  __new__(subtype, data, dtype=None, copy=True)\n",
            " |   |      Create and return a new object.  See help(type) for accurate signature.\n",
            " |   |  \n",
            " |   |  ----------------------------------------------------------------------\n",
            " |   |  Readonly properties defined here:\n",
            " |   |  \n",
            " |   |  A\n",
            " |   |      Return `self` as an `ndarray` object.\n",
            " |   |      \n",
            " |   |      Equivalent to ``np.asarray(self)``.\n",
            " |   |      \n",
            " |   |      Parameters\n",
            " |   |      ----------\n",
            " |   |      None\n",
            " |   |      \n",
            " |   |      Returns\n",
            " |   |      -------\n",
            " |   |      ret : ndarray\n",
            " |   |          `self` as an `ndarray`\n",
            " |   |      \n",
            " |   |      Examples\n",
            " |   |      --------\n",
            " |   |      >>> x = np.matrix(np.arange(12).reshape((3,4))); x\n",
            " |   |      matrix([[ 0,  1,  2,  3],\n",
            " |   |              [ 4,  5,  6,  7],\n",
            " |   |              [ 8,  9, 10, 11]])\n",
            " |   |      >>> x.getA()\n",
            " |   |      array([[ 0,  1,  2,  3],\n",
            " |   |             [ 4,  5,  6,  7],\n",
            " |   |             [ 8,  9, 10, 11]])\n",
            " |   |  \n",
            " |   |  A1\n",
            " |   |      Return `self` as a flattened `ndarray`.\n",
            " |   |      \n",
            " |   |      Equivalent to ``np.asarray(x).ravel()``\n",
            " |   |      \n",
            " |   |      Parameters\n",
            " |   |      ----------\n",
            " |   |      None\n",
            " |   |      \n",
            " |   |      Returns\n",
            " |   |      -------\n",
            " |   |      ret : ndarray\n",
            " |   |          `self`, 1-D, as an `ndarray`\n",
            " |   |      \n",
            " |   |      Examples\n",
            " |   |      --------\n",
            " |   |      >>> x = np.matrix(np.arange(12).reshape((3,4))); x\n",
            " |   |      matrix([[ 0,  1,  2,  3],\n",
            " |   |              [ 4,  5,  6,  7],\n",
            " |   |              [ 8,  9, 10, 11]])\n",
            " |   |      >>> x.getA1()\n",
            " |   |      array([ 0,  1,  2, ...,  9, 10, 11])\n",
            " |   |  \n",
            " |   |  H\n",
            " |   |      Returns the (complex) conjugate transpose of `self`.\n",
            " |   |      \n",
            " |   |      Equivalent to ``np.transpose(self)`` if `self` is real-valued.\n",
            " |   |      \n",
            " |   |      Parameters\n",
            " |   |      ----------\n",
            " |   |      None\n",
            " |   |      \n",
            " |   |      Returns\n",
            " |   |      -------\n",
            " |   |      ret : matrix object\n",
            " |   |          complex conjugate transpose of `self`\n",
            " |   |      \n",
            " |   |      Examples\n",
            " |   |      --------\n",
            " |   |      >>> x = np.matrix(np.arange(12).reshape((3,4)))\n",
            " |   |      >>> z = x - 1j*x; z\n",
            " |   |      matrix([[  0. +0.j,   1. -1.j,   2. -2.j,   3. -3.j],\n",
            " |   |              [  4. -4.j,   5. -5.j,   6. -6.j,   7. -7.j],\n",
            " |   |              [  8. -8.j,   9. -9.j,  10.-10.j,  11.-11.j]])\n",
            " |   |      >>> z.getH()\n",
            " |   |      matrix([[ 0. -0.j,  4. +4.j,  8. +8.j],\n",
            " |   |              [ 1. +1.j,  5. +5.j,  9. +9.j],\n",
            " |   |              [ 2. +2.j,  6. +6.j, 10.+10.j],\n",
            " |   |              [ 3. +3.j,  7. +7.j, 11.+11.j]])\n",
            " |   |  \n",
            " |   |  I\n",
            " |   |      Returns the (multiplicative) inverse of invertible `self`.\n",
            " |   |      \n",
            " |   |      Parameters\n",
            " |   |      ----------\n",
            " |   |      None\n",
            " |   |      \n",
            " |   |      Returns\n",
            " |   |      -------\n",
            " |   |      ret : matrix object\n",
            " |   |          If `self` is non-singular, `ret` is such that ``ret * self`` ==\n",
            " |   |          ``self * ret`` == ``np.matrix(np.eye(self[0,:].size))`` all return\n",
            " |   |          ``True``.\n",
            " |   |      \n",
            " |   |      Raises\n",
            " |   |      ------\n",
            " |   |      numpy.linalg.LinAlgError: Singular matrix\n",
            " |   |          If `self` is singular.\n",
            " |   |      \n",
            " |   |      See Also\n",
            " |   |      --------\n",
            " |   |      linalg.inv\n",
            " |   |      \n",
            " |   |      Examples\n",
            " |   |      --------\n",
            " |   |      >>> m = np.matrix('[1, 2; 3, 4]'); m\n",
            " |   |      matrix([[1, 2],\n",
            " |   |              [3, 4]])\n",
            " |   |      >>> m.getI()\n",
            " |   |      matrix([[-2. ,  1. ],\n",
            " |   |              [ 1.5, -0.5]])\n",
            " |   |      >>> m.getI() * m\n",
            " |   |      matrix([[ 1.,  0.], # may vary\n",
            " |   |              [ 0.,  1.]])\n",
            " |   |  \n",
            " |   |  T\n",
            " |   |      Returns the transpose of the matrix.\n",
            " |   |      \n",
            " |   |      Does *not* conjugate!  For the complex conjugate transpose, use ``.H``.\n",
            " |   |      \n",
            " |   |      Parameters\n",
            " |   |      ----------\n",
            " |   |      None\n",
            " |   |      \n",
            " |   |      Returns\n",
            " |   |      -------\n",
            " |   |      ret : matrix object\n",
            " |   |          The (non-conjugated) transpose of the matrix.\n",
            " |   |      \n",
            " |   |      See Also\n",
            " |   |      --------\n",
            " |   |      transpose, getH\n",
            " |   |      \n",
            " |   |      Examples\n",
            " |   |      --------\n",
            " |   |      >>> m = np.matrix('[1, 2; 3, 4]')\n",
            " |   |      >>> m\n",
            " |   |      matrix([[1, 2],\n",
            " |   |              [3, 4]])\n",
            " |   |      >>> m.getT()\n",
            " |   |      matrix([[1, 3],\n",
            " |   |              [2, 4]])\n",
            " |   |  \n",
            " |   |  ----------------------------------------------------------------------\n",
            " |   |  Data descriptors defined here:\n",
            " |   |  \n",
            " |   |  __dict__\n",
            " |   |      dictionary for instance variables (if defined)\n",
            " |   |  \n",
            " |   |  ----------------------------------------------------------------------\n",
            " |   |  Data and other attributes defined here:\n",
            " |   |  \n",
            " |   |  __annotations__ = {}\n",
            " |   |  \n",
            " |   |  __array_priority__ = 10.0\n",
            " |   |  \n",
            " |   |  ----------------------------------------------------------------------\n",
            " |   |  Methods inherited from ndarray:\n",
            " |   |  \n",
            " |   |  __abs__(self, /)\n",
            " |   |      abs(self)\n",
            " |   |  \n",
            " |   |  __add__(self, value, /)\n",
            " |   |      Return self+value.\n",
            " |   |  \n",
            " |   |  __and__(self, value, /)\n",
            " |   |      Return self&value.\n",
            " |   |  \n",
            " |   |  __array__(...)\n",
            " |   |      a.__array__([dtype], /)\n",
            " |   |      \n",
            " |   |      Returns either a new reference to self if dtype is not given or a new array\n",
            " |   |      of provided data type if dtype is different from the current dtype of the\n",
            " |   |      array.\n",
            " |   |  \n",
            " |   |  __array_function__(...)\n",
            " |   |  \n",
            " |   |  __array_prepare__(...)\n",
            " |   |      a.__array_prepare__(array[, context], /)\n",
            " |   |      \n",
            " |   |      Returns a view of `array` with the same type as self.\n",
            " |   |  \n",
            " |   |  __array_ufunc__(...)\n",
            " |   |  \n",
            " |   |  __array_wrap__(...)\n",
            " |   |      a.__array_wrap__(array[, context], /)\n",
            " |   |      \n",
            " |   |      Returns a view of `array` with the same type as self.\n",
            " |   |  \n",
            " |   |  __bool__(self, /)\n",
            " |   |      True if self else False\n",
            " |   |  \n",
            " |   |  __complex__(...)\n",
            " |   |  \n",
            " |   |  __contains__(self, key, /)\n",
            " |   |      Return key in self.\n",
            " |   |  \n",
            " |   |  __copy__(...)\n",
            " |   |      a.__copy__()\n",
            " |   |      \n",
            " |   |      Used if :func:`copy.copy` is called on an array. Returns a copy of the array.\n",
            " |   |      \n",
            " |   |      Equivalent to ``a.copy(order='K')``.\n",
            " |   |  \n",
            " |   |  __deepcopy__(...)\n",
            " |   |      a.__deepcopy__(memo, /)\n",
            " |   |      \n",
            " |   |      Used if :func:`copy.deepcopy` is called on an array.\n",
            " |   |  \n",
            " |   |  __delitem__(self, key, /)\n",
            " |   |      Delete self[key].\n",
            " |   |  \n",
            " |   |  __divmod__(self, value, /)\n",
            " |   |      Return divmod(self, value).\n",
            " |   |  \n",
            " |   |  __dlpack__(...)\n",
            " |   |      a.__dlpack__(*, stream=None)\n",
            " |   |      \n",
            " |   |      DLPack Protocol: Part of the Array API.\n",
            " |   |  \n",
            " |   |  __dlpack_device__(...)\n",
            " |   |      a.__dlpack_device__()\n",
            " |   |      \n",
            " |   |      DLPack Protocol: Part of the Array API.\n",
            " |   |  \n",
            " |   |  __eq__(self, value, /)\n",
            " |   |      Return self==value.\n",
            " |   |  \n",
            " |   |  __float__(self, /)\n",
            " |   |      float(self)\n",
            " |   |  \n",
            " |   |  __floordiv__(self, value, /)\n",
            " |   |      Return self//value.\n",
            " |   |  \n",
            " |   |  __format__(...)\n",
            " |   |      Default object formatter.\n",
            " |   |  \n",
            " |   |  __ge__(self, value, /)\n",
            " |   |      Return self>=value.\n",
            " |   |  \n",
            " |   |  __gt__(self, value, /)\n",
            " |   |      Return self>value.\n",
            " |   |  \n",
            " |   |  __iadd__(self, value, /)\n",
            " |   |      Return self+=value.\n",
            " |   |  \n",
            " |   |  __iand__(self, value, /)\n",
            " |   |      Return self&=value.\n",
            " |   |  \n",
            " |   |  __ifloordiv__(self, value, /)\n",
            " |   |      Return self//=value.\n",
            " |   |  \n",
            " |   |  __ilshift__(self, value, /)\n",
            " |   |      Return self<<=value.\n",
            " |   |  \n",
            " |   |  __imatmul__(self, value, /)\n",
            " |   |      Return self@=value.\n",
            " |   |  \n",
            " |   |  __imod__(self, value, /)\n",
            " |   |      Return self%=value.\n",
            " |   |  \n",
            " |   |  __index__(self, /)\n",
            " |   |      Return self converted to an integer, if self is suitable for use as an index into a list.\n",
            " |   |  \n",
            " |   |  __int__(self, /)\n",
            " |   |      int(self)\n",
            " |   |  \n",
            " |   |  __invert__(self, /)\n",
            " |   |      ~self\n",
            " |   |  \n",
            " |   |  __ior__(self, value, /)\n",
            " |   |      Return self|=value.\n",
            " |   |  \n",
            " |   |  __irshift__(self, value, /)\n",
            " |   |      Return self>>=value.\n",
            " |   |  \n",
            " |   |  __isub__(self, value, /)\n",
            " |   |      Return self-=value.\n",
            " |   |  \n",
            " |   |  __iter__(self, /)\n",
            " |   |      Implement iter(self).\n",
            " |   |  \n",
            " |   |  __itruediv__(self, value, /)\n",
            " |   |      Return self/=value.\n",
            " |   |  \n",
            " |   |  __ixor__(self, value, /)\n",
            " |   |      Return self^=value.\n",
            " |   |  \n",
            " |   |  __le__(self, value, /)\n",
            " |   |      Return self<=value.\n",
            " |   |  \n",
            " |   |  __len__(self, /)\n",
            " |   |      Return len(self).\n",
            " |   |  \n",
            " |   |  __lshift__(self, value, /)\n",
            " |   |      Return self<<value.\n",
            " |   |  \n",
            " |   |  __lt__(self, value, /)\n",
            " |   |      Return self<value.\n",
            " |   |  \n",
            " |   |  __matmul__(self, value, /)\n",
            " |   |      Return self@value.\n",
            " |   |  \n",
            " |   |  __mod__(self, value, /)\n",
            " |   |      Return self%value.\n",
            " |   |  \n",
            " |   |  __ne__(self, value, /)\n",
            " |   |      Return self!=value.\n",
            " |   |  \n",
            " |   |  __neg__(self, /)\n",
            " |   |      -self\n",
            " |   |  \n",
            " |   |  __or__(self, value, /)\n",
            " |   |      Return self|value.\n",
            " |   |  \n",
            " |   |  __pos__(self, /)\n",
            " |   |      +self\n",
            " |   |  \n",
            " |   |  __radd__(self, value, /)\n",
            " |   |      Return value+self.\n",
            " |   |  \n",
            " |   |  __rand__(self, value, /)\n",
            " |   |      Return value&self.\n",
            " |   |  \n",
            " |   |  __rdivmod__(self, value, /)\n",
            " |   |      Return divmod(value, self).\n",
            " |   |  \n",
            " |   |  __reduce__(...)\n",
            " |   |      a.__reduce__()\n",
            " |   |      \n",
            " |   |      For pickling.\n",
            " |   |  \n",
            " |   |  __reduce_ex__(...)\n",
            " |   |      Helper for pickle.\n",
            " |   |  \n",
            " |   |  __repr__(self, /)\n",
            " |   |      Return repr(self).\n",
            " |   |  \n",
            " |   |  __rfloordiv__(self, value, /)\n",
            " |   |      Return value//self.\n",
            " |   |  \n",
            " |   |  __rlshift__(self, value, /)\n",
            " |   |      Return value<<self.\n",
            " |   |  \n",
            " |   |  __rmatmul__(self, value, /)\n",
            " |   |      Return value@self.\n",
            " |   |  \n",
            " |   |  __rmod__(self, value, /)\n",
            " |   |      Return value%self.\n",
            " |   |  \n",
            " |   |  __ror__(self, value, /)\n",
            " |   |      Return value|self.\n",
            " |   |  \n",
            " |   |  __rrshift__(self, value, /)\n",
            " |   |      Return value>>self.\n",
            " |   |  \n",
            " |   |  __rshift__(self, value, /)\n",
            " |   |      Return self>>value.\n",
            " |   |  \n",
            " |   |  __rsub__(self, value, /)\n",
            " |   |      Return value-self.\n",
            " |   |  \n",
            " |   |  __rtruediv__(self, value, /)\n",
            " |   |      Return value/self.\n",
            " |   |  \n",
            " |   |  __rxor__(self, value, /)\n",
            " |   |      Return value^self.\n",
            " |   |  \n",
            " |   |  __setitem__(self, key, value, /)\n",
            " |   |      Set self[key] to value.\n",
            " |   |  \n",
            " |   |  __setstate__(...)\n",
            " |   |      a.__setstate__(state, /)\n",
            " |   |      \n",
            " |   |      For unpickling.\n",
            " |   |      \n",
            " |   |      The `state` argument must be a sequence that contains the following\n",
            " |   |      elements:\n",
            " |   |      \n",
            " |   |      Parameters\n",
            " |   |      ----------\n",
            " |   |      version : int\n",
            " |   |          optional pickle version. If omitted defaults to 0.\n",
            " |   |      shape : tuple\n",
            " |   |      dtype : data-type\n",
            " |   |      isFortran : bool\n",
            " |   |      rawdata : string or list\n",
            " |   |          a binary string with the data (or a list if 'a' is an object array)\n",
            " |   |  \n",
            " |   |  __sizeof__(...)\n",
            " |   |      Size of object in memory, in bytes.\n",
            " |   |  \n",
            " |   |  __str__(self, /)\n",
            " |   |      Return str(self).\n",
            " |   |  \n",
            " |   |  __sub__(self, value, /)\n",
            " |   |      Return self-value.\n",
            " |   |  \n",
            " |   |  __truediv__(self, value, /)\n",
            " |   |      Return self/value.\n",
            " |   |  \n",
            " |   |  __xor__(self, value, /)\n",
            " |   |      Return self^value.\n",
            " |   |  \n",
            " |   |  argpartition(...)\n",
            " |   |      a.argpartition(kth, axis=-1, kind='introselect', order=None)\n",
            " |   |      \n",
            " |   |      Returns the indices that would partition this array.\n",
            " |   |      \n",
            " |   |      Refer to `numpy.argpartition` for full documentation.\n",
            " |   |      \n",
            " |   |      .. versionadded:: 1.8.0\n",
            " |   |      \n",
            " |   |      See Also\n",
            " |   |      --------\n",
            " |   |      numpy.argpartition : equivalent function\n",
            " |   |  \n",
            " |   |  argsort(...)\n",
            " |   |      a.argsort(axis=-1, kind=None, order=None)\n",
            " |   |      \n",
            " |   |      Returns the indices that would sort this array.\n",
            " |   |      \n",
            " |   |      Refer to `numpy.argsort` for full documentation.\n",
            " |   |      \n",
            " |   |      See Also\n",
            " |   |      --------\n",
            " |   |      numpy.argsort : equivalent function\n",
            " |   |  \n",
            " |   |  astype(...)\n",
            " |   |      a.astype(dtype, order='K', casting='unsafe', subok=True, copy=True)\n",
            " |   |      \n",
            " |   |      Copy of the array, cast to a specified type.\n",
            " |   |      \n",
            " |   |      Parameters\n",
            " |   |      ----------\n",
            " |   |      dtype : str or dtype\n",
            " |   |          Typecode or data-type to which the array is cast.\n",
            " |   |      order : {'C', 'F', 'A', 'K'}, optional\n",
            " |   |          Controls the memory layout order of the result.\n",
            " |   |          'C' means C order, 'F' means Fortran order, 'A'\n",
            " |   |          means 'F' order if all the arrays are Fortran contiguous,\n",
            " |   |          'C' order otherwise, and 'K' means as close to the\n",
            " |   |          order the array elements appear in memory as possible.\n",
            " |   |          Default is 'K'.\n",
            " |   |      casting : {'no', 'equiv', 'safe', 'same_kind', 'unsafe'}, optional\n",
            " |   |          Controls what kind of data casting may occur. Defaults to 'unsafe'\n",
            " |   |          for backwards compatibility.\n",
            " |   |      \n",
            " |   |            * 'no' means the data types should not be cast at all.\n",
            " |   |            * 'equiv' means only byte-order changes are allowed.\n",
            " |   |            * 'safe' means only casts which can preserve values are allowed.\n",
            " |   |            * 'same_kind' means only safe casts or casts within a kind,\n",
            " |   |              like float64 to float32, are allowed.\n",
            " |   |            * 'unsafe' means any data conversions may be done.\n",
            " |   |      subok : bool, optional\n",
            " |   |          If True, then sub-classes will be passed-through (default), otherwise\n",
            " |   |          the returned array will be forced to be a base-class array.\n",
            " |   |      copy : bool, optional\n",
            " |   |          By default, astype always returns a newly allocated array. If this\n",
            " |   |          is set to false, and the `dtype`, `order`, and `subok`\n",
            " |   |          requirements are satisfied, the input array is returned instead\n",
            " |   |          of a copy.\n",
            " |   |      \n",
            " |   |      Returns\n",
            " |   |      -------\n",
            " |   |      arr_t : ndarray\n",
            " |   |          Unless `copy` is False and the other conditions for returning the input\n",
            " |   |          array are satisfied (see description for `copy` input parameter), `arr_t`\n",
            " |   |          is a new array of the same shape as the input array, with dtype, order\n",
            " |   |          given by `dtype`, `order`.\n",
            " |   |      \n",
            " |   |      Notes\n",
            " |   |      -----\n",
            " |   |      .. versionchanged:: 1.17.0\n",
            " |   |         Casting between a simple data type and a structured one is possible only\n",
            " |   |         for \"unsafe\" casting.  Casting to multiple fields is allowed, but\n",
            " |   |         casting from multiple fields is not.\n",
            " |   |      \n",
            " |   |      .. versionchanged:: 1.9.0\n",
            " |   |         Casting from numeric to string types in 'safe' casting mode requires\n",
            " |   |         that the string dtype length is long enough to store the max\n",
            " |   |         integer/float value converted.\n",
            " |   |      \n",
            " |   |      Raises\n",
            " |   |      ------\n",
            " |   |      ComplexWarning\n",
            " |   |          When casting from complex to float or int. To avoid this,\n",
            " |   |          one should use ``a.real.astype(t)``.\n",
            " |   |      \n",
            " |   |      Examples\n",
            " |   |      --------\n",
            " |   |      >>> x = np.array([1, 2, 2.5])\n",
            " |   |      >>> x\n",
            " |   |      array([1. ,  2. ,  2.5])\n",
            " |   |      \n",
            " |   |      >>> x.astype(int)\n",
            " |   |      array([1, 2, 2])\n",
            " |   |  \n",
            " |   |  byteswap(...)\n",
            " |   |      a.byteswap(inplace=False)\n",
            " |   |      \n",
            " |   |      Swap the bytes of the array elements\n",
            " |   |      \n",
            " |   |      Toggle between low-endian and big-endian data representation by\n",
            " |   |      returning a byteswapped array, optionally swapped in-place.\n",
            " |   |      Arrays of byte-strings are not swapped. The real and imaginary\n",
            " |   |      parts of a complex number are swapped individually.\n",
            " |   |      \n",
            " |   |      Parameters\n",
            " |   |      ----------\n",
            " |   |      inplace : bool, optional\n",
            " |   |          If ``True``, swap bytes in-place, default is ``False``.\n",
            " |   |      \n",
            " |   |      Returns\n",
            " |   |      -------\n",
            " |   |      out : ndarray\n",
            " |   |          The byteswapped array. If `inplace` is ``True``, this is\n",
            " |   |          a view to self.\n",
            " |   |      \n",
            " |   |      Examples\n",
            " |   |      --------\n",
            " |   |      >>> A = np.array([1, 256, 8755], dtype=np.int16)\n",
            " |   |      >>> list(map(hex, A))\n",
            " |   |      ['0x1', '0x100', '0x2233']\n",
            " |   |      >>> A.byteswap(inplace=True)\n",
            " |   |      array([  256,     1, 13090], dtype=int16)\n",
            " |   |      >>> list(map(hex, A))\n",
            " |   |      ['0x100', '0x1', '0x3322']\n",
            " |   |      \n",
            " |   |      Arrays of byte-strings are not swapped\n",
            " |   |      \n",
            " |   |      >>> A = np.array([b'ceg', b'fac'])\n",
            " |   |      >>> A.byteswap()\n",
            " |   |      array([b'ceg', b'fac'], dtype='|S3')\n",
            " |   |      \n",
            " |   |      ``A.newbyteorder().byteswap()`` produces an array with the same values\n",
            " |   |        but different representation in memory\n",
            " |   |      \n",
            " |   |      >>> A = np.array([1, 2, 3])\n",
            " |   |      >>> A.view(np.uint8)\n",
            " |   |      array([1, 0, 0, 0, 0, 0, 0, 0, 2, 0, 0, 0, 0, 0, 0, 0, 3, 0, 0, 0, 0, 0,\n",
            " |   |             0, 0], dtype=uint8)\n",
            " |   |      >>> A.newbyteorder().byteswap(inplace=True)\n",
            " |   |      array([1, 2, 3])\n",
            " |   |      >>> A.view(np.uint8)\n",
            " |   |      array([0, 0, 0, 0, 0, 0, 0, 1, 0, 0, 0, 0, 0, 0, 0, 2, 0, 0, 0, 0, 0, 0,\n",
            " |   |             0, 3], dtype=uint8)\n",
            " |   |  \n",
            " |   |  choose(...)\n",
            " |   |      a.choose(choices, out=None, mode='raise')\n",
            " |   |      \n",
            " |   |      Use an index array to construct a new array from a set of choices.\n",
            " |   |      \n",
            " |   |      Refer to `numpy.choose` for full documentation.\n",
            " |   |      \n",
            " |   |      See Also\n",
            " |   |      --------\n",
            " |   |      numpy.choose : equivalent function\n",
            " |   |  \n",
            " |   |  clip(...)\n",
            " |   |      a.clip(min=None, max=None, out=None, **kwargs)\n",
            " |   |      \n",
            " |   |      Return an array whose values are limited to ``[min, max]``.\n",
            " |   |      One of max or min must be given.\n",
            " |   |      \n",
            " |   |      Refer to `numpy.clip` for full documentation.\n",
            " |   |      \n",
            " |   |      See Also\n",
            " |   |      --------\n",
            " |   |      numpy.clip : equivalent function\n",
            " |   |  \n",
            " |   |  compress(...)\n",
            " |   |      a.compress(condition, axis=None, out=None)\n",
            " |   |      \n",
            " |   |      Return selected slices of this array along given axis.\n",
            " |   |      \n",
            " |   |      Refer to `numpy.compress` for full documentation.\n",
            " |   |      \n",
            " |   |      See Also\n",
            " |   |      --------\n",
            " |   |      numpy.compress : equivalent function\n",
            " |   |  \n",
            " |   |  conj(...)\n",
            " |   |      a.conj()\n",
            " |   |      \n",
            " |   |      Complex-conjugate all elements.\n",
            " |   |      \n",
            " |   |      Refer to `numpy.conjugate` for full documentation.\n",
            " |   |      \n",
            " |   |      See Also\n",
            " |   |      --------\n",
            " |   |      numpy.conjugate : equivalent function\n",
            " |   |  \n",
            " |   |  conjugate(...)\n",
            " |   |      a.conjugate()\n",
            " |   |      \n",
            " |   |      Return the complex conjugate, element-wise.\n",
            " |   |      \n",
            " |   |      Refer to `numpy.conjugate` for full documentation.\n",
            " |   |      \n",
            " |   |      See Also\n",
            " |   |      --------\n",
            " |   |      numpy.conjugate : equivalent function\n",
            " |   |  \n",
            " |   |  copy(...)\n",
            " |   |      a.copy(order='C')\n",
            " |   |      \n",
            " |   |      Return a copy of the array.\n",
            " |   |      \n",
            " |   |      Parameters\n",
            " |   |      ----------\n",
            " |   |      order : {'C', 'F', 'A', 'K'}, optional\n",
            " |   |          Controls the memory layout of the copy. 'C' means C-order,\n",
            " |   |          'F' means F-order, 'A' means 'F' if `a` is Fortran contiguous,\n",
            " |   |          'C' otherwise. 'K' means match the layout of `a` as closely\n",
            " |   |          as possible. (Note that this function and :func:`numpy.copy` are very\n",
            " |   |          similar but have different default values for their order=\n",
            " |   |          arguments, and this function always passes sub-classes through.)\n",
            " |   |      \n",
            " |   |      See also\n",
            " |   |      --------\n",
            " |   |      numpy.copy : Similar function with different default behavior\n",
            " |   |      numpy.copyto\n",
            " |   |      \n",
            " |   |      Notes\n",
            " |   |      -----\n",
            " |   |      This function is the preferred method for creating an array copy.  The\n",
            " |   |      function :func:`numpy.copy` is similar, but it defaults to using order 'K',\n",
            " |   |      and will not pass sub-classes through by default.\n",
            " |   |      \n",
            " |   |      Examples\n",
            " |   |      --------\n",
            " |   |      >>> x = np.array([[1,2,3],[4,5,6]], order='F')\n",
            " |   |      \n",
            " |   |      >>> y = x.copy()\n",
            " |   |      \n",
            " |   |      >>> x.fill(0)\n",
            " |   |      \n",
            " |   |      >>> x\n",
            " |   |      array([[0, 0, 0],\n",
            " |   |             [0, 0, 0]])\n",
            " |   |      \n",
            " |   |      >>> y\n",
            " |   |      array([[1, 2, 3],\n",
            " |   |             [4, 5, 6]])\n",
            " |   |      \n",
            " |   |      >>> y.flags['C_CONTIGUOUS']\n",
            " |   |      True\n",
            " |   |  \n",
            " |   |  cumprod(...)\n",
            " |   |      a.cumprod(axis=None, dtype=None, out=None)\n",
            " |   |      \n",
            " |   |      Return the cumulative product of the elements along the given axis.\n",
            " |   |      \n",
            " |   |      Refer to `numpy.cumprod` for full documentation.\n",
            " |   |      \n",
            " |   |      See Also\n",
            " |   |      --------\n",
            " |   |      numpy.cumprod : equivalent function\n",
            " |   |  \n",
            " |   |  cumsum(...)\n",
            " |   |      a.cumsum(axis=None, dtype=None, out=None)\n",
            " |   |      \n",
            " |   |      Return the cumulative sum of the elements along the given axis.\n",
            " |   |      \n",
            " |   |      Refer to `numpy.cumsum` for full documentation.\n",
            " |   |      \n",
            " |   |      See Also\n",
            " |   |      --------\n",
            " |   |      numpy.cumsum : equivalent function\n",
            " |   |  \n",
            " |   |  diagonal(...)\n",
            " |   |      a.diagonal(offset=0, axis1=0, axis2=1)\n",
            " |   |      \n",
            " |   |      Return specified diagonals. In NumPy 1.9 the returned array is a\n",
            " |   |      read-only view instead of a copy as in previous NumPy versions.  In\n",
            " |   |      a future version the read-only restriction will be removed.\n",
            " |   |      \n",
            " |   |      Refer to :func:`numpy.diagonal` for full documentation.\n",
            " |   |      \n",
            " |   |      See Also\n",
            " |   |      --------\n",
            " |   |      numpy.diagonal : equivalent function\n",
            " |   |  \n",
            " |   |  dot(...)\n",
            " |   |  \n",
            " |   |  dump(...)\n",
            " |   |      a.dump(file)\n",
            " |   |      \n",
            " |   |      Dump a pickle of the array to the specified file.\n",
            " |   |      The array can be read back with pickle.load or numpy.load.\n",
            " |   |      \n",
            " |   |      Parameters\n",
            " |   |      ----------\n",
            " |   |      file : str or Path\n",
            " |   |          A string naming the dump file.\n",
            " |   |      \n",
            " |   |          .. versionchanged:: 1.17.0\n",
            " |   |              `pathlib.Path` objects are now accepted.\n",
            " |   |  \n",
            " |   |  dumps(...)\n",
            " |   |      a.dumps()\n",
            " |   |      \n",
            " |   |      Returns the pickle of the array as a string.\n",
            " |   |      pickle.loads will convert the string back to an array.\n",
            " |   |      \n",
            " |   |      Parameters\n",
            " |   |      ----------\n",
            " |   |      None\n",
            " |   |  \n",
            " |   |  fill(...)\n",
            " |   |      a.fill(value)\n",
            " |   |      \n",
            " |   |      Fill the array with a scalar value.\n",
            " |   |      \n",
            " |   |      Parameters\n",
            " |   |      ----------\n",
            " |   |      value : scalar\n",
            " |   |          All elements of `a` will be assigned this value.\n",
            " |   |      \n",
            " |   |      Examples\n",
            " |   |      --------\n",
            " |   |      >>> a = np.array([1, 2])\n",
            " |   |      >>> a.fill(0)\n",
            " |   |      >>> a\n",
            " |   |      array([0, 0])\n",
            " |   |      >>> a = np.empty(2)\n",
            " |   |      >>> a.fill(1)\n",
            " |   |      >>> a\n",
            " |   |      array([1.,  1.])\n",
            " |   |      \n",
            " |   |      Fill expects a scalar value and always behaves the same as assigning\n",
            " |   |      to a single array element.  The following is a rare example where this\n",
            " |   |      distinction is important:\n",
            " |   |      \n",
            " |   |      >>> a = np.array([None, None], dtype=object)\n",
            " |   |      >>> a[0] = np.array(3)\n",
            " |   |      >>> a\n",
            " |   |      array([array(3), None], dtype=object)\n",
            " |   |      >>> a.fill(np.array(3))\n",
            " |   |      >>> a\n",
            " |   |      array([array(3), array(3)], dtype=object)\n",
            " |   |      \n",
            " |   |      Where other forms of assignments will unpack the array being assigned:\n",
            " |   |      \n",
            " |   |      >>> a[...] = np.array(3)\n",
            " |   |      >>> a\n",
            " |   |      array([3, 3], dtype=object)\n",
            " |   |  \n",
            " |   |  getfield(...)\n",
            " |   |      a.getfield(dtype, offset=0)\n",
            " |   |      \n",
            " |   |      Returns a field of the given array as a certain type.\n",
            " |   |      \n",
            " |   |      A field is a view of the array data with a given data-type. The values in\n",
            " |   |      the view are determined by the given type and the offset into the current\n",
            " |   |      array in bytes. The offset needs to be such that the view dtype fits in the\n",
            " |   |      array dtype; for example an array of dtype complex128 has 16-byte elements.\n",
            " |   |      If taking a view with a 32-bit integer (4 bytes), the offset needs to be\n",
            " |   |      between 0 and 12 bytes.\n",
            " |   |      \n",
            " |   |      Parameters\n",
            " |   |      ----------\n",
            " |   |      dtype : str or dtype\n",
            " |   |          The data type of the view. The dtype size of the view can not be larger\n",
            " |   |          than that of the array itself.\n",
            " |   |      offset : int\n",
            " |   |          Number of bytes to skip before beginning the element view.\n",
            " |   |      \n",
            " |   |      Examples\n",
            " |   |      --------\n",
            " |   |      >>> x = np.diag([1.+1.j]*2)\n",
            " |   |      >>> x[1, 1] = 2 + 4.j\n",
            " |   |      >>> x\n",
            " |   |      array([[1.+1.j,  0.+0.j],\n",
            " |   |             [0.+0.j,  2.+4.j]])\n",
            " |   |      >>> x.getfield(np.float64)\n",
            " |   |      array([[1.,  0.],\n",
            " |   |             [0.,  2.]])\n",
            " |   |      \n",
            " |   |      By choosing an offset of 8 bytes we can select the complex part of the\n",
            " |   |      array for our view:\n",
            " |   |      \n",
            " |   |      >>> x.getfield(np.float64, offset=8)\n",
            " |   |      array([[1.,  0.],\n",
            " |   |             [0.,  4.]])\n",
            " |   |  \n",
            " |   |  item(...)\n",
            " |   |      a.item(*args)\n",
            " |   |      \n",
            " |   |      Copy an element of an array to a standard Python scalar and return it.\n",
            " |   |      \n",
            " |   |      Parameters\n",
            " |   |      ----------\n",
            " |   |      \\*args : Arguments (variable number and type)\n",
            " |   |      \n",
            " |   |          * none: in this case, the method only works for arrays\n",
            " |   |            with one element (`a.size == 1`), which element is\n",
            " |   |            copied into a standard Python scalar object and returned.\n",
            " |   |      \n",
            " |   |          * int_type: this argument is interpreted as a flat index into\n",
            " |   |            the array, specifying which element to copy and return.\n",
            " |   |      \n",
            " |   |          * tuple of int_types: functions as does a single int_type argument,\n",
            " |   |            except that the argument is interpreted as an nd-index into the\n",
            " |   |            array.\n",
            " |   |      \n",
            " |   |      Returns\n",
            " |   |      -------\n",
            " |   |      z : Standard Python scalar object\n",
            " |   |          A copy of the specified element of the array as a suitable\n",
            " |   |          Python scalar\n",
            " |   |      \n",
            " |   |      Notes\n",
            " |   |      -----\n",
            " |   |      When the data type of `a` is longdouble or clongdouble, item() returns\n",
            " |   |      a scalar array object because there is no available Python scalar that\n",
            " |   |      would not lose information. Void arrays return a buffer object for item(),\n",
            " |   |      unless fields are defined, in which case a tuple is returned.\n",
            " |   |      \n",
            " |   |      `item` is very similar to a[args], except, instead of an array scalar,\n",
            " |   |      a standard Python scalar is returned. This can be useful for speeding up\n",
            " |   |      access to elements of the array and doing arithmetic on elements of the\n",
            " |   |      array using Python's optimized math.\n",
            " |   |      \n",
            " |   |      Examples\n",
            " |   |      --------\n",
            " |   |      >>> np.random.seed(123)\n",
            " |   |      >>> x = np.random.randint(9, size=(3, 3))\n",
            " |   |      >>> x\n",
            " |   |      array([[2, 2, 6],\n",
            " |   |             [1, 3, 6],\n",
            " |   |             [1, 0, 1]])\n",
            " |   |      >>> x.item(3)\n",
            " |   |      1\n",
            " |   |      >>> x.item(7)\n",
            " |   |      0\n",
            " |   |      >>> x.item((0, 1))\n",
            " |   |      2\n",
            " |   |      >>> x.item((2, 2))\n",
            " |   |      1\n",
            " |   |  \n",
            " |   |  itemset(...)\n",
            " |   |      a.itemset(*args)\n",
            " |   |      \n",
            " |   |      Insert scalar into an array (scalar is cast to array's dtype, if possible)\n",
            " |   |      \n",
            " |   |      There must be at least 1 argument, and define the last argument\n",
            " |   |      as *item*.  Then, ``a.itemset(*args)`` is equivalent to but faster\n",
            " |   |      than ``a[args] = item``.  The item should be a scalar value and `args`\n",
            " |   |      must select a single item in the array `a`.\n",
            " |   |      \n",
            " |   |      Parameters\n",
            " |   |      ----------\n",
            " |   |      \\*args : Arguments\n",
            " |   |          If one argument: a scalar, only used in case `a` is of size 1.\n",
            " |   |          If two arguments: the last argument is the value to be set\n",
            " |   |          and must be a scalar, the first argument specifies a single array\n",
            " |   |          element location. It is either an int or a tuple.\n",
            " |   |      \n",
            " |   |      Notes\n",
            " |   |      -----\n",
            " |   |      Compared to indexing syntax, `itemset` provides some speed increase\n",
            " |   |      for placing a scalar into a particular location in an `ndarray`,\n",
            " |   |      if you must do this.  However, generally this is discouraged:\n",
            " |   |      among other problems, it complicates the appearance of the code.\n",
            " |   |      Also, when using `itemset` (and `item`) inside a loop, be sure\n",
            " |   |      to assign the methods to a local variable to avoid the attribute\n",
            " |   |      look-up at each loop iteration.\n",
            " |   |      \n",
            " |   |      Examples\n",
            " |   |      --------\n",
            " |   |      >>> np.random.seed(123)\n",
            " |   |      >>> x = np.random.randint(9, size=(3, 3))\n",
            " |   |      >>> x\n",
            " |   |      array([[2, 2, 6],\n",
            " |   |             [1, 3, 6],\n",
            " |   |             [1, 0, 1]])\n",
            " |   |      >>> x.itemset(4, 0)\n",
            " |   |      >>> x.itemset((2, 2), 9)\n",
            " |   |      >>> x\n",
            " |   |      array([[2, 2, 6],\n",
            " |   |             [1, 0, 6],\n",
            " |   |             [1, 0, 9]])\n",
            " |   |  \n",
            " |   |  newbyteorder(...)\n",
            " |   |      arr.newbyteorder(new_order='S', /)\n",
            " |   |      \n",
            " |   |      Return the array with the same data viewed with a different byte order.\n",
            " |   |      \n",
            " |   |      Equivalent to::\n",
            " |   |      \n",
            " |   |          arr.view(arr.dtype.newbytorder(new_order))\n",
            " |   |      \n",
            " |   |      Changes are also made in all fields and sub-arrays of the array data\n",
            " |   |      type.\n",
            " |   |      \n",
            " |   |      \n",
            " |   |      \n",
            " |   |      Parameters\n",
            " |   |      ----------\n",
            " |   |      new_order : string, optional\n",
            " |   |          Byte order to force; a value from the byte order specifications\n",
            " |   |          below. `new_order` codes can be any of:\n",
            " |   |      \n",
            " |   |          * 'S' - swap dtype from current to opposite endian\n",
            " |   |          * {'<', 'little'} - little endian\n",
            " |   |          * {'>', 'big'} - big endian\n",
            " |   |          * {'=', 'native'} - native order, equivalent to `sys.byteorder`\n",
            " |   |          * {'|', 'I'} - ignore (no change to byte order)\n",
            " |   |      \n",
            " |   |          The default value ('S') results in swapping the current\n",
            " |   |          byte order.\n",
            " |   |      \n",
            " |   |      \n",
            " |   |      Returns\n",
            " |   |      -------\n",
            " |   |      new_arr : array\n",
            " |   |          New array object with the dtype reflecting given change to the\n",
            " |   |          byte order.\n",
            " |   |  \n",
            " |   |  nonzero(...)\n",
            " |   |      a.nonzero()\n",
            " |   |      \n",
            " |   |      Return the indices of the elements that are non-zero.\n",
            " |   |      \n",
            " |   |      Refer to `numpy.nonzero` for full documentation.\n",
            " |   |      \n",
            " |   |      See Also\n",
            " |   |      --------\n",
            " |   |      numpy.nonzero : equivalent function\n",
            " |   |  \n",
            " |   |  partition(...)\n",
            " |   |      a.partition(kth, axis=-1, kind='introselect', order=None)\n",
            " |   |      \n",
            " |   |      Rearranges the elements in the array in such a way that the value of the\n",
            " |   |      element in kth position is in the position it would be in a sorted array.\n",
            " |   |      All elements smaller than the kth element are moved before this element and\n",
            " |   |      all equal or greater are moved behind it. The ordering of the elements in\n",
            " |   |      the two partitions is undefined.\n",
            " |   |      \n",
            " |   |      .. versionadded:: 1.8.0\n",
            " |   |      \n",
            " |   |      Parameters\n",
            " |   |      ----------\n",
            " |   |      kth : int or sequence of ints\n",
            " |   |          Element index to partition by. The kth element value will be in its\n",
            " |   |          final sorted position and all smaller elements will be moved before it\n",
            " |   |          and all equal or greater elements behind it.\n",
            " |   |          The order of all elements in the partitions is undefined.\n",
            " |   |          If provided with a sequence of kth it will partition all elements\n",
            " |   |          indexed by kth of them into their sorted position at once.\n",
            " |   |      \n",
            " |   |          .. deprecated:: 1.22.0\n",
            " |   |              Passing booleans as index is deprecated.\n",
            " |   |      axis : int, optional\n",
            " |   |          Axis along which to sort. Default is -1, which means sort along the\n",
            " |   |          last axis.\n",
            " |   |      kind : {'introselect'}, optional\n",
            " |   |          Selection algorithm. Default is 'introselect'.\n",
            " |   |      order : str or list of str, optional\n",
            " |   |          When `a` is an array with fields defined, this argument specifies\n",
            " |   |          which fields to compare first, second, etc. A single field can\n",
            " |   |          be specified as a string, and not all fields need to be specified,\n",
            " |   |          but unspecified fields will still be used, in the order in which\n",
            " |   |          they come up in the dtype, to break ties.\n",
            " |   |      \n",
            " |   |      See Also\n",
            " |   |      --------\n",
            " |   |      numpy.partition : Return a partitioned copy of an array.\n",
            " |   |      argpartition : Indirect partition.\n",
            " |   |      sort : Full sort.\n",
            " |   |      \n",
            " |   |      Notes\n",
            " |   |      -----\n",
            " |   |      See ``np.partition`` for notes on the different algorithms.\n",
            " |   |      \n",
            " |   |      Examples\n",
            " |   |      --------\n",
            " |   |      >>> a = np.array([3, 4, 2, 1])\n",
            " |   |      >>> a.partition(3)\n",
            " |   |      >>> a\n",
            " |   |      array([2, 1, 3, 4])\n",
            " |   |      \n",
            " |   |      >>> a.partition((1, 3))\n",
            " |   |      >>> a\n",
            " |   |      array([1, 2, 3, 4])\n",
            " |   |  \n",
            " |   |  put(...)\n",
            " |   |      a.put(indices, values, mode='raise')\n",
            " |   |      \n",
            " |   |      Set ``a.flat[n] = values[n]`` for all `n` in indices.\n",
            " |   |      \n",
            " |   |      Refer to `numpy.put` for full documentation.\n",
            " |   |      \n",
            " |   |      See Also\n",
            " |   |      --------\n",
            " |   |      numpy.put : equivalent function\n",
            " |   |  \n",
            " |   |  repeat(...)\n",
            " |   |      a.repeat(repeats, axis=None)\n",
            " |   |      \n",
            " |   |      Repeat elements of an array.\n",
            " |   |      \n",
            " |   |      Refer to `numpy.repeat` for full documentation.\n",
            " |   |      \n",
            " |   |      See Also\n",
            " |   |      --------\n",
            " |   |      numpy.repeat : equivalent function\n",
            " |   |  \n",
            " |   |  reshape(...)\n",
            " |   |      a.reshape(shape, order='C')\n",
            " |   |      \n",
            " |   |      Returns an array containing the same data with a new shape.\n",
            " |   |      \n",
            " |   |      Refer to `numpy.reshape` for full documentation.\n",
            " |   |      \n",
            " |   |      See Also\n",
            " |   |      --------\n",
            " |   |      numpy.reshape : equivalent function\n",
            " |   |      \n",
            " |   |      Notes\n",
            " |   |      -----\n",
            " |   |      Unlike the free function `numpy.reshape`, this method on `ndarray` allows\n",
            " |   |      the elements of the shape parameter to be passed in as separate arguments.\n",
            " |   |      For example, ``a.reshape(10, 11)`` is equivalent to\n",
            " |   |      ``a.reshape((10, 11))``.\n",
            " |   |  \n",
            " |   |  resize(...)\n",
            " |   |      a.resize(new_shape, refcheck=True)\n",
            " |   |      \n",
            " |   |      Change shape and size of array in-place.\n",
            " |   |      \n",
            " |   |      Parameters\n",
            " |   |      ----------\n",
            " |   |      new_shape : tuple of ints, or `n` ints\n",
            " |   |          Shape of resized array.\n",
            " |   |      refcheck : bool, optional\n",
            " |   |          If False, reference count will not be checked. Default is True.\n",
            " |   |      \n",
            " |   |      Returns\n",
            " |   |      -------\n",
            " |   |      None\n",
            " |   |      \n",
            " |   |      Raises\n",
            " |   |      ------\n",
            " |   |      ValueError\n",
            " |   |          If `a` does not own its own data or references or views to it exist,\n",
            " |   |          and the data memory must be changed.\n",
            " |   |          PyPy only: will always raise if the data memory must be changed, since\n",
            " |   |          there is no reliable way to determine if references or views to it\n",
            " |   |          exist.\n",
            " |   |      \n",
            " |   |      SystemError\n",
            " |   |          If the `order` keyword argument is specified. This behaviour is a\n",
            " |   |          bug in NumPy.\n",
            " |   |      \n",
            " |   |      See Also\n",
            " |   |      --------\n",
            " |   |      resize : Return a new array with the specified shape.\n",
            " |   |      \n",
            " |   |      Notes\n",
            " |   |      -----\n",
            " |   |      This reallocates space for the data area if necessary.\n",
            " |   |      \n",
            " |   |      Only contiguous arrays (data elements consecutive in memory) can be\n",
            " |   |      resized.\n",
            " |   |      \n",
            " |   |      The purpose of the reference count check is to make sure you\n",
            " |   |      do not use this array as a buffer for another Python object and then\n",
            " |   |      reallocate the memory. However, reference counts can increase in\n",
            " |   |      other ways so if you are sure that you have not shared the memory\n",
            " |   |      for this array with another Python object, then you may safely set\n",
            " |   |      `refcheck` to False.\n",
            " |   |      \n",
            " |   |      Examples\n",
            " |   |      --------\n",
            " |   |      Shrinking an array: array is flattened (in the order that the data are\n",
            " |   |      stored in memory), resized, and reshaped:\n",
            " |   |      \n",
            " |   |      >>> a = np.array([[0, 1], [2, 3]], order='C')\n",
            " |   |      >>> a.resize((2, 1))\n",
            " |   |      >>> a\n",
            " |   |      array([[0],\n",
            " |   |             [1]])\n",
            " |   |      \n",
            " |   |      >>> a = np.array([[0, 1], [2, 3]], order='F')\n",
            " |   |      >>> a.resize((2, 1))\n",
            " |   |      >>> a\n",
            " |   |      array([[0],\n",
            " |   |             [2]])\n",
            " |   |      \n",
            " |   |      Enlarging an array: as above, but missing entries are filled with zeros:\n",
            " |   |      \n",
            " |   |      >>> b = np.array([[0, 1], [2, 3]])\n",
            " |   |      >>> b.resize(2, 3) # new_shape parameter doesn't have to be a tuple\n",
            " |   |      >>> b\n",
            " |   |      array([[0, 1, 2],\n",
            " |   |             [3, 0, 0]])\n",
            " |   |      \n",
            " |   |      Referencing an array prevents resizing...\n",
            " |   |      \n",
            " |   |      >>> c = a\n",
            " |   |      >>> a.resize((1, 1))\n",
            " |   |      Traceback (most recent call last):\n",
            " |   |      ...\n",
            " |   |      ValueError: cannot resize an array that references or is referenced ...\n",
            " |   |      \n",
            " |   |      Unless `refcheck` is False:\n",
            " |   |      \n",
            " |   |      >>> a.resize((1, 1), refcheck=False)\n",
            " |   |      >>> a\n",
            " |   |      array([[0]])\n",
            " |   |      >>> c\n",
            " |   |      array([[0]])\n",
            " |   |  \n",
            " |   |  round(...)\n",
            " |   |      a.round(decimals=0, out=None)\n",
            " |   |      \n",
            " |   |      Return `a` with each element rounded to the given number of decimals.\n",
            " |   |      \n",
            " |   |      Refer to `numpy.around` for full documentation.\n",
            " |   |      \n",
            " |   |      See Also\n",
            " |   |      --------\n",
            " |   |      numpy.around : equivalent function\n",
            " |   |  \n",
            " |   |  searchsorted(...)\n",
            " |   |      a.searchsorted(v, side='left', sorter=None)\n",
            " |   |      \n",
            " |   |      Find indices where elements of v should be inserted in a to maintain order.\n",
            " |   |      \n",
            " |   |      For full documentation, see `numpy.searchsorted`\n",
            " |   |      \n",
            " |   |      See Also\n",
            " |   |      --------\n",
            " |   |      numpy.searchsorted : equivalent function\n",
            " |   |  \n",
            " |   |  setfield(...)\n",
            " |   |      a.setfield(val, dtype, offset=0)\n",
            " |   |      \n",
            " |   |      Put a value into a specified place in a field defined by a data-type.\n",
            " |   |      \n",
            " |   |      Place `val` into `a`'s field defined by `dtype` and beginning `offset`\n",
            " |   |      bytes into the field.\n",
            " |   |      \n",
            " |   |      Parameters\n",
            " |   |      ----------\n",
            " |   |      val : object\n",
            " |   |          Value to be placed in field.\n",
            " |   |      dtype : dtype object\n",
            " |   |          Data-type of the field in which to place `val`.\n",
            " |   |      offset : int, optional\n",
            " |   |          The number of bytes into the field at which to place `val`.\n",
            " |   |      \n",
            " |   |      Returns\n",
            " |   |      -------\n",
            " |   |      None\n",
            " |   |      \n",
            " |   |      See Also\n",
            " |   |      --------\n",
            " |   |      getfield\n",
            " |   |      \n",
            " |   |      Examples\n",
            " |   |      --------\n",
            " |   |      >>> x = np.eye(3)\n",
            " |   |      >>> x.getfield(np.float64)\n",
            " |   |      array([[1.,  0.,  0.],\n",
            " |   |             [0.,  1.,  0.],\n",
            " |   |             [0.,  0.,  1.]])\n",
            " |   |      >>> x.setfield(3, np.int32)\n",
            " |   |      >>> x.getfield(np.int32)\n",
            " |   |      array([[3, 3, 3],\n",
            " |   |             [3, 3, 3],\n",
            " |   |             [3, 3, 3]], dtype=int32)\n",
            " |   |      >>> x\n",
            " |   |      array([[1.0e+000, 1.5e-323, 1.5e-323],\n",
            " |   |             [1.5e-323, 1.0e+000, 1.5e-323],\n",
            " |   |             [1.5e-323, 1.5e-323, 1.0e+000]])\n",
            " |   |      >>> x.setfield(np.eye(3), np.int32)\n",
            " |   |      >>> x\n",
            " |   |      array([[1.,  0.,  0.],\n",
            " |   |             [0.,  1.,  0.],\n",
            " |   |             [0.,  0.,  1.]])\n",
            " |   |  \n",
            " |   |  setflags(...)\n",
            " |   |      a.setflags(write=None, align=None, uic=None)\n",
            " |   |      \n",
            " |   |      Set array flags WRITEABLE, ALIGNED, WRITEBACKIFCOPY,\n",
            " |   |      respectively.\n",
            " |   |      \n",
            " |   |      These Boolean-valued flags affect how numpy interprets the memory\n",
            " |   |      area used by `a` (see Notes below). The ALIGNED flag can only\n",
            " |   |      be set to True if the data is actually aligned according to the type.\n",
            " |   |      The WRITEBACKIFCOPY and flag can never be set\n",
            " |   |      to True. The flag WRITEABLE can only be set to True if the array owns its\n",
            " |   |      own memory, or the ultimate owner of the memory exposes a writeable buffer\n",
            " |   |      interface, or is a string. (The exception for string is made so that\n",
            " |   |      unpickling can be done without copying memory.)\n",
            " |   |      \n",
            " |   |      Parameters\n",
            " |   |      ----------\n",
            " |   |      write : bool, optional\n",
            " |   |          Describes whether or not `a` can be written to.\n",
            " |   |      align : bool, optional\n",
            " |   |          Describes whether or not `a` is aligned properly for its type.\n",
            " |   |      uic : bool, optional\n",
            " |   |          Describes whether or not `a` is a copy of another \"base\" array.\n",
            " |   |      \n",
            " |   |      Notes\n",
            " |   |      -----\n",
            " |   |      Array flags provide information about how the memory area used\n",
            " |   |      for the array is to be interpreted. There are 7 Boolean flags\n",
            " |   |      in use, only four of which can be changed by the user:\n",
            " |   |      WRITEBACKIFCOPY, WRITEABLE, and ALIGNED.\n",
            " |   |      \n",
            " |   |      WRITEABLE (W) the data area can be written to;\n",
            " |   |      \n",
            " |   |      ALIGNED (A) the data and strides are aligned appropriately for the hardware\n",
            " |   |      (as determined by the compiler);\n",
            " |   |      \n",
            " |   |      WRITEBACKIFCOPY (X) this array is a copy of some other array (referenced\n",
            " |   |      by .base). When the C-API function PyArray_ResolveWritebackIfCopy is\n",
            " |   |      called, the base array will be updated with the contents of this array.\n",
            " |   |      \n",
            " |   |      All flags can be accessed using the single (upper case) letter as well\n",
            " |   |      as the full name.\n",
            " |   |      \n",
            " |   |      Examples\n",
            " |   |      --------\n",
            " |   |      >>> y = np.array([[3, 1, 7],\n",
            " |   |      ...               [2, 0, 0],\n",
            " |   |      ...               [8, 5, 9]])\n",
            " |   |      >>> y\n",
            " |   |      array([[3, 1, 7],\n",
            " |   |             [2, 0, 0],\n",
            " |   |             [8, 5, 9]])\n",
            " |   |      >>> y.flags\n",
            " |   |        C_CONTIGUOUS : True\n",
            " |   |        F_CONTIGUOUS : False\n",
            " |   |        OWNDATA : True\n",
            " |   |        WRITEABLE : True\n",
            " |   |        ALIGNED : True\n",
            " |   |        WRITEBACKIFCOPY : False\n",
            " |   |      >>> y.setflags(write=0, align=0)\n",
            " |   |      >>> y.flags\n",
            " |   |        C_CONTIGUOUS : True\n",
            " |   |        F_CONTIGUOUS : False\n",
            " |   |        OWNDATA : True\n",
            " |   |        WRITEABLE : False\n",
            " |   |        ALIGNED : False\n",
            " |   |        WRITEBACKIFCOPY : False\n",
            " |   |      >>> y.setflags(uic=1)\n",
            " |   |      Traceback (most recent call last):\n",
            " |   |        File \"<stdin>\", line 1, in <module>\n",
            " |   |      ValueError: cannot set WRITEBACKIFCOPY flag to True\n",
            " |   |  \n",
            " |   |  sort(...)\n",
            " |   |      a.sort(axis=-1, kind=None, order=None)\n",
            " |   |      \n",
            " |   |      Sort an array in-place. Refer to `numpy.sort` for full documentation.\n",
            " |   |      \n",
            " |   |      Parameters\n",
            " |   |      ----------\n",
            " |   |      axis : int, optional\n",
            " |   |          Axis along which to sort. Default is -1, which means sort along the\n",
            " |   |          last axis.\n",
            " |   |      kind : {'quicksort', 'mergesort', 'heapsort', 'stable'}, optional\n",
            " |   |          Sorting algorithm. The default is 'quicksort'. Note that both 'stable'\n",
            " |   |          and 'mergesort' use timsort under the covers and, in general, the\n",
            " |   |          actual implementation will vary with datatype. The 'mergesort' option\n",
            " |   |          is retained for backwards compatibility.\n",
            " |   |      \n",
            " |   |          .. versionchanged:: 1.15.0\n",
            " |   |             The 'stable' option was added.\n",
            " |   |      \n",
            " |   |      order : str or list of str, optional\n",
            " |   |          When `a` is an array with fields defined, this argument specifies\n",
            " |   |          which fields to compare first, second, etc.  A single field can\n",
            " |   |          be specified as a string, and not all fields need be specified,\n",
            " |   |          but unspecified fields will still be used, in the order in which\n",
            " |   |          they come up in the dtype, to break ties.\n",
            " |   |      \n",
            " |   |      See Also\n",
            " |   |      --------\n",
            " |   |      numpy.sort : Return a sorted copy of an array.\n",
            " |   |      numpy.argsort : Indirect sort.\n",
            " |   |      numpy.lexsort : Indirect stable sort on multiple keys.\n",
            " |   |      numpy.searchsorted : Find elements in sorted array.\n",
            " |   |      numpy.partition: Partial sort.\n",
            " |   |      \n",
            " |   |      Notes\n",
            " |   |      -----\n",
            " |   |      See `numpy.sort` for notes on the different sorting algorithms.\n",
            " |   |      \n",
            " |   |      Examples\n",
            " |   |      --------\n",
            " |   |      >>> a = np.array([[1,4], [3,1]])\n",
            " |   |      >>> a.sort(axis=1)\n",
            " |   |      >>> a\n",
            " |   |      array([[1, 4],\n",
            " |   |             [1, 3]])\n",
            " |   |      >>> a.sort(axis=0)\n",
            " |   |      >>> a\n",
            " |   |      array([[1, 3],\n",
            " |   |             [1, 4]])\n",
            " |   |      \n",
            " |   |      Use the `order` keyword to specify a field to use when sorting a\n",
            " |   |      structured array:\n",
            " |   |      \n",
            " |   |      >>> a = np.array([('a', 2), ('c', 1)], dtype=[('x', 'S1'), ('y', int)])\n",
            " |   |      >>> a.sort(order='y')\n",
            " |   |      >>> a\n",
            " |   |      array([(b'c', 1), (b'a', 2)],\n",
            " |   |            dtype=[('x', 'S1'), ('y', '<i8')])\n",
            " |   |  \n",
            " |   |  swapaxes(...)\n",
            " |   |      a.swapaxes(axis1, axis2)\n",
            " |   |      \n",
            " |   |      Return a view of the array with `axis1` and `axis2` interchanged.\n",
            " |   |      \n",
            " |   |      Refer to `numpy.swapaxes` for full documentation.\n",
            " |   |      \n",
            " |   |      See Also\n",
            " |   |      --------\n",
            " |   |      numpy.swapaxes : equivalent function\n",
            " |   |  \n",
            " |   |  take(...)\n",
            " |   |      a.take(indices, axis=None, out=None, mode='raise')\n",
            " |   |      \n",
            " |   |      Return an array formed from the elements of `a` at the given indices.\n",
            " |   |      \n",
            " |   |      Refer to `numpy.take` for full documentation.\n",
            " |   |      \n",
            " |   |      See Also\n",
            " |   |      --------\n",
            " |   |      numpy.take : equivalent function\n",
            " |   |  \n",
            " |   |  tobytes(...)\n",
            " |   |      a.tobytes(order='C')\n",
            " |   |      \n",
            " |   |      Construct Python bytes containing the raw data bytes in the array.\n",
            " |   |      \n",
            " |   |      Constructs Python bytes showing a copy of the raw contents of\n",
            " |   |      data memory. The bytes object is produced in C-order by default.\n",
            " |   |      This behavior is controlled by the ``order`` parameter.\n",
            " |   |      \n",
            " |   |      .. versionadded:: 1.9.0\n",
            " |   |      \n",
            " |   |      Parameters\n",
            " |   |      ----------\n",
            " |   |      order : {'C', 'F', 'A'}, optional\n",
            " |   |          Controls the memory layout of the bytes object. 'C' means C-order,\n",
            " |   |          'F' means F-order, 'A' (short for *Any*) means 'F' if `a` is\n",
            " |   |          Fortran contiguous, 'C' otherwise. Default is 'C'.\n",
            " |   |      \n",
            " |   |      Returns\n",
            " |   |      -------\n",
            " |   |      s : bytes\n",
            " |   |          Python bytes exhibiting a copy of `a`'s raw data.\n",
            " |   |      \n",
            " |   |      See also\n",
            " |   |      --------\n",
            " |   |      frombuffer\n",
            " |   |          Inverse of this operation, construct a 1-dimensional array from Python\n",
            " |   |          bytes.\n",
            " |   |      \n",
            " |   |      Examples\n",
            " |   |      --------\n",
            " |   |      >>> x = np.array([[0, 1], [2, 3]], dtype='<u2')\n",
            " |   |      >>> x.tobytes()\n",
            " |   |      b'\\x00\\x00\\x01\\x00\\x02\\x00\\x03\\x00'\n",
            " |   |      >>> x.tobytes('C') == x.tobytes()\n",
            " |   |      True\n",
            " |   |      >>> x.tobytes('F')\n",
            " |   |      b'\\x00\\x00\\x02\\x00\\x01\\x00\\x03\\x00'\n",
            " |   |  \n",
            " |   |  tofile(...)\n",
            " |   |      a.tofile(fid, sep=\"\", format=\"%s\")\n",
            " |   |      \n",
            " |   |      Write array to a file as text or binary (default).\n",
            " |   |      \n",
            " |   |      Data is always written in 'C' order, independent of the order of `a`.\n",
            " |   |      The data produced by this method can be recovered using the function\n",
            " |   |      fromfile().\n",
            " |   |      \n",
            " |   |      Parameters\n",
            " |   |      ----------\n",
            " |   |      fid : file or str or Path\n",
            " |   |          An open file object, or a string containing a filename.\n",
            " |   |      \n",
            " |   |          .. versionchanged:: 1.17.0\n",
            " |   |              `pathlib.Path` objects are now accepted.\n",
            " |   |      \n",
            " |   |      sep : str\n",
            " |   |          Separator between array items for text output.\n",
            " |   |          If \"\" (empty), a binary file is written, equivalent to\n",
            " |   |          ``file.write(a.tobytes())``.\n",
            " |   |      format : str\n",
            " |   |          Format string for text file output.\n",
            " |   |          Each entry in the array is formatted to text by first converting\n",
            " |   |          it to the closest Python type, and then using \"format\" % item.\n",
            " |   |      \n",
            " |   |      Notes\n",
            " |   |      -----\n",
            " |   |      This is a convenience function for quick storage of array data.\n",
            " |   |      Information on endianness and precision is lost, so this method is not a\n",
            " |   |      good choice for files intended to archive data or transport data between\n",
            " |   |      machines with different endianness. Some of these problems can be overcome\n",
            " |   |      by outputting the data as text files, at the expense of speed and file\n",
            " |   |      size.\n",
            " |   |      \n",
            " |   |      When fid is a file object, array contents are directly written to the\n",
            " |   |      file, bypassing the file object's ``write`` method. As a result, tofile\n",
            " |   |      cannot be used with files objects supporting compression (e.g., GzipFile)\n",
            " |   |      or file-like objects that do not support ``fileno()`` (e.g., BytesIO).\n",
            " |   |  \n",
            " |   |  tostring(...)\n",
            " |   |      a.tostring(order='C')\n",
            " |   |      \n",
            " |   |      A compatibility alias for `tobytes`, with exactly the same behavior.\n",
            " |   |      \n",
            " |   |      Despite its name, it returns `bytes` not `str`\\ s.\n",
            " |   |      \n",
            " |   |      .. deprecated:: 1.19.0\n",
            " |   |  \n",
            " |   |  trace(...)\n",
            " |   |      a.trace(offset=0, axis1=0, axis2=1, dtype=None, out=None)\n",
            " |   |      \n",
            " |   |      Return the sum along diagonals of the array.\n",
            " |   |      \n",
            " |   |      Refer to `numpy.trace` for full documentation.\n",
            " |   |      \n",
            " |   |      See Also\n",
            " |   |      --------\n",
            " |   |      numpy.trace : equivalent function\n",
            " |   |  \n",
            " |   |  transpose(...)\n",
            " |   |      a.transpose(*axes)\n",
            " |   |      \n",
            " |   |      Returns a view of the array with axes transposed.\n",
            " |   |      \n",
            " |   |      Refer to `numpy.transpose` for full documentation.\n",
            " |   |      \n",
            " |   |      Parameters\n",
            " |   |      ----------\n",
            " |   |      axes : None, tuple of ints, or `n` ints\n",
            " |   |      \n",
            " |   |       * None or no argument: reverses the order of the axes.\n",
            " |   |      \n",
            " |   |       * tuple of ints: `i` in the `j`-th place in the tuple means that the\n",
            " |   |         array's `i`-th axis becomes the transposed array's `j`-th axis.\n",
            " |   |      \n",
            " |   |       * `n` ints: same as an n-tuple of the same ints (this form is\n",
            " |   |         intended simply as a \"convenience\" alternative to the tuple form).\n",
            " |   |      \n",
            " |   |      Returns\n",
            " |   |      -------\n",
            " |   |      p : ndarray\n",
            " |   |          View of the array with its axes suitably permuted.\n",
            " |   |      \n",
            " |   |      See Also\n",
            " |   |      --------\n",
            " |   |      transpose : Equivalent function.\n",
            " |   |      ndarray.T : Array property returning the array transposed.\n",
            " |   |      ndarray.reshape : Give a new shape to an array without changing its data.\n",
            " |   |      \n",
            " |   |      Examples\n",
            " |   |      --------\n",
            " |   |      >>> a = np.array([[1, 2], [3, 4]])\n",
            " |   |      >>> a\n",
            " |   |      array([[1, 2],\n",
            " |   |             [3, 4]])\n",
            " |   |      >>> a.transpose()\n",
            " |   |      array([[1, 3],\n",
            " |   |             [2, 4]])\n",
            " |   |      >>> a.transpose((1, 0))\n",
            " |   |      array([[1, 3],\n",
            " |   |             [2, 4]])\n",
            " |   |      >>> a.transpose(1, 0)\n",
            " |   |      array([[1, 3],\n",
            " |   |             [2, 4]])\n",
            " |   |      \n",
            " |   |      >>> a = np.array([1, 2, 3, 4])\n",
            " |   |      >>> a\n",
            " |   |      array([1, 2, 3, 4])\n",
            " |   |      >>> a.transpose()\n",
            " |   |      array([1, 2, 3, 4])\n",
            " |   |  \n",
            " |   |  view(...)\n",
            " |   |      a.view([dtype][, type])\n",
            " |   |      \n",
            " |   |      New view of array with the same data.\n",
            " |   |      \n",
            " |   |      .. note::\n",
            " |   |          Passing None for ``dtype`` is different from omitting the parameter,\n",
            " |   |          since the former invokes ``dtype(None)`` which is an alias for\n",
            " |   |          ``dtype('float_')``.\n",
            " |   |      \n",
            " |   |      Parameters\n",
            " |   |      ----------\n",
            " |   |      dtype : data-type or ndarray sub-class, optional\n",
            " |   |          Data-type descriptor of the returned view, e.g., float32 or int16.\n",
            " |   |          Omitting it results in the view having the same data-type as `a`.\n",
            " |   |          This argument can also be specified as an ndarray sub-class, which\n",
            " |   |          then specifies the type of the returned object (this is equivalent to\n",
            " |   |          setting the ``type`` parameter).\n",
            " |   |      type : Python type, optional\n",
            " |   |          Type of the returned view, e.g., ndarray or matrix.  Again, omission\n",
            " |   |          of the parameter results in type preservation.\n",
            " |   |      \n",
            " |   |      Notes\n",
            " |   |      -----\n",
            " |   |      ``a.view()`` is used two different ways:\n",
            " |   |      \n",
            " |   |      ``a.view(some_dtype)`` or ``a.view(dtype=some_dtype)`` constructs a view\n",
            " |   |      of the array's memory with a different data-type.  This can cause a\n",
            " |   |      reinterpretation of the bytes of memory.\n",
            " |   |      \n",
            " |   |      ``a.view(ndarray_subclass)`` or ``a.view(type=ndarray_subclass)`` just\n",
            " |   |      returns an instance of `ndarray_subclass` that looks at the same array\n",
            " |   |      (same shape, dtype, etc.)  This does not cause a reinterpretation of the\n",
            " |   |      memory.\n",
            " |   |      \n",
            " |   |      For ``a.view(some_dtype)``, if ``some_dtype`` has a different number of\n",
            " |   |      bytes per entry than the previous dtype (for example, converting a regular\n",
            " |   |      array to a structured array), then the last axis of ``a`` must be\n",
            " |   |      contiguous. This axis will be resized in the result.\n",
            " |   |      \n",
            " |   |      .. versionchanged:: 1.23.0\n",
            " |   |         Only the last axis needs to be contiguous. Previously, the entire array\n",
            " |   |         had to be C-contiguous.\n",
            " |   |      \n",
            " |   |      Examples\n",
            " |   |      --------\n",
            " |   |      >>> x = np.array([(1, 2)], dtype=[('a', np.int8), ('b', np.int8)])\n",
            " |   |      \n",
            " |   |      Viewing array data using a different type and dtype:\n",
            " |   |      \n",
            " |   |      >>> y = x.view(dtype=np.int16, type=np.matrix)\n",
            " |   |      >>> y\n",
            " |   |      matrix([[513]], dtype=int16)\n",
            " |   |      >>> print(type(y))\n",
            " |   |      <class 'numpy.matrix'>\n",
            " |   |      \n",
            " |   |      Creating a view on a structured array so it can be used in calculations\n",
            " |   |      \n",
            " |   |      >>> x = np.array([(1, 2),(3,4)], dtype=[('a', np.int8), ('b', np.int8)])\n",
            " |   |      >>> xv = x.view(dtype=np.int8).reshape(-1,2)\n",
            " |   |      >>> xv\n",
            " |   |      array([[1, 2],\n",
            " |   |             [3, 4]], dtype=int8)\n",
            " |   |      >>> xv.mean(0)\n",
            " |   |      array([2.,  3.])\n",
            " |   |      \n",
            " |   |      Making changes to the view changes the underlying array\n",
            " |   |      \n",
            " |   |      >>> xv[0,1] = 20\n",
            " |   |      >>> x\n",
            " |   |      array([(1, 20), (3,  4)], dtype=[('a', 'i1'), ('b', 'i1')])\n",
            " |   |      \n",
            " |   |      Using a view to convert an array to a recarray:\n",
            " |   |      \n",
            " |   |      >>> z = x.view(np.recarray)\n",
            " |   |      >>> z.a\n",
            " |   |      array([1, 3], dtype=int8)\n",
            " |   |      \n",
            " |   |      Views share data:\n",
            " |   |      \n",
            " |   |      >>> x[0] = (9, 10)\n",
            " |   |      >>> z[0]\n",
            " |   |      (9, 10)\n",
            " |   |      \n",
            " |   |      Views that change the dtype size (bytes per entry) should normally be\n",
            " |   |      avoided on arrays defined by slices, transposes, fortran-ordering, etc.:\n",
            " |   |      \n",
            " |   |      >>> x = np.array([[1, 2, 3], [4, 5, 6]], dtype=np.int16)\n",
            " |   |      >>> y = x[:, ::2]\n",
            " |   |      >>> y\n",
            " |   |      array([[1, 3],\n",
            " |   |             [4, 6]], dtype=int16)\n",
            " |   |      >>> y.view(dtype=[('width', np.int16), ('length', np.int16)])\n",
            " |   |      Traceback (most recent call last):\n",
            " |   |          ...\n",
            " |   |      ValueError: To change to a dtype of a different size, the last axis must be contiguous\n",
            " |   |      >>> z = y.copy()\n",
            " |   |      >>> z.view(dtype=[('width', np.int16), ('length', np.int16)])\n",
            " |   |      array([[(1, 3)],\n",
            " |   |             [(4, 6)]], dtype=[('width', '<i2'), ('length', '<i2')])\n",
            " |   |      \n",
            " |   |      However, views that change dtype are totally fine for arrays with a\n",
            " |   |      contiguous last axis, even if the rest of the axes are not C-contiguous:\n",
            " |   |      \n",
            " |   |      >>> x = np.arange(2 * 3 * 4, dtype=np.int8).reshape(2, 3, 4)\n",
            " |   |      >>> x.transpose(1, 0, 2).view(np.int16)\n",
            " |   |      array([[[ 256,  770],\n",
            " |   |              [3340, 3854]],\n",
            " |   |      <BLANKLINE>\n",
            " |   |             [[1284, 1798],\n",
            " |   |              [4368, 4882]],\n",
            " |   |      <BLANKLINE>\n",
            " |   |             [[2312, 2826],\n",
            " |   |              [5396, 5910]]], dtype=int16)\n",
            " |   |  \n",
            " |   |  ----------------------------------------------------------------------\n",
            " |   |  Class methods inherited from ndarray:\n",
            " |   |  \n",
            " |   |  __class_getitem__(...) from builtins.type\n",
            " |   |      a.__class_getitem__(item, /)\n",
            " |   |      \n",
            " |   |      Return a parametrized wrapper around the `~numpy.ndarray` type.\n",
            " |   |      \n",
            " |   |      .. versionadded:: 1.22\n",
            " |   |      \n",
            " |   |      Returns\n",
            " |   |      -------\n",
            " |   |      alias : types.GenericAlias\n",
            " |   |          A parametrized `~numpy.ndarray` type.\n",
            " |   |      \n",
            " |   |      Examples\n",
            " |   |      --------\n",
            " |   |      >>> from typing import Any\n",
            " |   |      >>> import numpy as np\n",
            " |   |      \n",
            " |   |      >>> np.ndarray[Any, np.dtype[Any]]\n",
            " |   |      numpy.ndarray[typing.Any, numpy.dtype[typing.Any]]\n",
            " |   |      \n",
            " |   |      See Also\n",
            " |   |      --------\n",
            " |   |      :pep:`585` : Type hinting generics in standard collections.\n",
            " |   |      numpy.typing.NDArray : An ndarray alias :term:`generic <generic type>`\n",
            " |   |                          w.r.t. its `dtype.type <numpy.dtype.type>`.\n",
            " |   |  \n",
            " |   |  ----------------------------------------------------------------------\n",
            " |   |  Data descriptors inherited from ndarray:\n",
            " |   |  \n",
            " |   |  __array_interface__\n",
            " |   |      Array protocol: Python side.\n",
            " |   |  \n",
            " |   |  __array_struct__\n",
            " |   |      Array protocol: C-struct side.\n",
            " |   |  \n",
            " |   |  base\n",
            " |   |      Base object if memory is from some other object.\n",
            " |   |      \n",
            " |   |      Examples\n",
            " |   |      --------\n",
            " |   |      The base of an array that owns its memory is None:\n",
            " |   |      \n",
            " |   |      >>> x = np.array([1,2,3,4])\n",
            " |   |      >>> x.base is None\n",
            " |   |      True\n",
            " |   |      \n",
            " |   |      Slicing creates a view, whose memory is shared with x:\n",
            " |   |      \n",
            " |   |      >>> y = x[2:]\n",
            " |   |      >>> y.base is x\n",
            " |   |      True\n",
            " |   |  \n",
            " |   |  ctypes\n",
            " |   |      An object to simplify the interaction of the array with the ctypes\n",
            " |   |      module.\n",
            " |   |      \n",
            " |   |      This attribute creates an object that makes it easier to use arrays\n",
            " |   |      when calling shared libraries with the ctypes module. The returned\n",
            " |   |      object has, among others, data, shape, and strides attributes (see\n",
            " |   |      Notes below) which themselves return ctypes objects that can be used\n",
            " |   |      as arguments to a shared library.\n",
            " |   |      \n",
            " |   |      Parameters\n",
            " |   |      ----------\n",
            " |   |      None\n",
            " |   |      \n",
            " |   |      Returns\n",
            " |   |      -------\n",
            " |   |      c : Python object\n",
            " |   |          Possessing attributes data, shape, strides, etc.\n",
            " |   |      \n",
            " |   |      See Also\n",
            " |   |      --------\n",
            " |   |      numpy.ctypeslib\n",
            " |   |      \n",
            " |   |      Notes\n",
            " |   |      -----\n",
            " |   |      Below are the public attributes of this object which were documented\n",
            " |   |      in \"Guide to NumPy\" (we have omitted undocumented public attributes,\n",
            " |   |      as well as documented private attributes):\n",
            " |   |      \n",
            " |   |      .. autoattribute:: numpy.core._internal._ctypes.data\n",
            " |   |          :noindex:\n",
            " |   |      \n",
            " |   |      .. autoattribute:: numpy.core._internal._ctypes.shape\n",
            " |   |          :noindex:\n",
            " |   |      \n",
            " |   |      .. autoattribute:: numpy.core._internal._ctypes.strides\n",
            " |   |          :noindex:\n",
            " |   |      \n",
            " |   |      .. automethod:: numpy.core._internal._ctypes.data_as\n",
            " |   |          :noindex:\n",
            " |   |      \n",
            " |   |      .. automethod:: numpy.core._internal._ctypes.shape_as\n",
            " |   |          :noindex:\n",
            " |   |      \n",
            " |   |      .. automethod:: numpy.core._internal._ctypes.strides_as\n",
            " |   |          :noindex:\n",
            " |   |      \n",
            " |   |      If the ctypes module is not available, then the ctypes attribute\n",
            " |   |      of array objects still returns something useful, but ctypes objects\n",
            " |   |      are not returned and errors may be raised instead. In particular,\n",
            " |   |      the object will still have the ``as_parameter`` attribute which will\n",
            " |   |      return an integer equal to the data attribute.\n",
            " |   |      \n",
            " |   |      Examples\n",
            " |   |      --------\n",
            " |   |      >>> import ctypes\n",
            " |   |      >>> x = np.array([[0, 1], [2, 3]], dtype=np.int32)\n",
            " |   |      >>> x\n",
            " |   |      array([[0, 1],\n",
            " |   |             [2, 3]], dtype=int32)\n",
            " |   |      >>> x.ctypes.data\n",
            " |   |      31962608 # may vary\n",
            " |   |      >>> x.ctypes.data_as(ctypes.POINTER(ctypes.c_uint32))\n",
            " |   |      <__main__.LP_c_uint object at 0x7ff2fc1fc200> # may vary\n",
            " |   |      >>> x.ctypes.data_as(ctypes.POINTER(ctypes.c_uint32)).contents\n",
            " |   |      c_uint(0)\n",
            " |   |      >>> x.ctypes.data_as(ctypes.POINTER(ctypes.c_uint64)).contents\n",
            " |   |      c_ulong(4294967296)\n",
            " |   |      >>> x.ctypes.shape\n",
            " |   |      <numpy.core._internal.c_long_Array_2 object at 0x7ff2fc1fce60> # may vary\n",
            " |   |      >>> x.ctypes.strides\n",
            " |   |      <numpy.core._internal.c_long_Array_2 object at 0x7ff2fc1ff320> # may vary\n",
            " |   |  \n",
            " |   |  data\n",
            " |   |      Python buffer object pointing to the start of the array's data.\n",
            " |   |  \n",
            " |   |  dtype\n",
            " |   |      Data-type of the array's elements.\n",
            " |   |      \n",
            " |   |      .. warning::\n",
            " |   |      \n",
            " |   |          Setting ``arr.dtype`` is discouraged and may be deprecated in the\n",
            " |   |          future.  Setting will replace the ``dtype`` without modifying the\n",
            " |   |          memory (see also `ndarray.view` and `ndarray.astype`).\n",
            " |   |      \n",
            " |   |      Parameters\n",
            " |   |      ----------\n",
            " |   |      None\n",
            " |   |      \n",
            " |   |      Returns\n",
            " |   |      -------\n",
            " |   |      d : numpy dtype object\n",
            " |   |      \n",
            " |   |      See Also\n",
            " |   |      --------\n",
            " |   |      ndarray.astype : Cast the values contained in the array to a new data-type.\n",
            " |   |      ndarray.view : Create a view of the same data but a different data-type.\n",
            " |   |      numpy.dtype\n",
            " |   |      \n",
            " |   |      Examples\n",
            " |   |      --------\n",
            " |   |      >>> x\n",
            " |   |      array([[0, 1],\n",
            " |   |             [2, 3]])\n",
            " |   |      >>> x.dtype\n",
            " |   |      dtype('int32')\n",
            " |   |      >>> type(x.dtype)\n",
            " |   |      <type 'numpy.dtype'>\n",
            " |   |  \n",
            " |   |  flags\n",
            " |   |      Information about the memory layout of the array.\n",
            " |   |      \n",
            " |   |      Attributes\n",
            " |   |      ----------\n",
            " |   |      C_CONTIGUOUS (C)\n",
            " |   |          The data is in a single, C-style contiguous segment.\n",
            " |   |      F_CONTIGUOUS (F)\n",
            " |   |          The data is in a single, Fortran-style contiguous segment.\n",
            " |   |      OWNDATA (O)\n",
            " |   |          The array owns the memory it uses or borrows it from another object.\n",
            " |   |      WRITEABLE (W)\n",
            " |   |          The data area can be written to.  Setting this to False locks\n",
            " |   |          the data, making it read-only.  A view (slice, etc.) inherits WRITEABLE\n",
            " |   |          from its base array at creation time, but a view of a writeable\n",
            " |   |          array may be subsequently locked while the base array remains writeable.\n",
            " |   |          (The opposite is not true, in that a view of a locked array may not\n",
            " |   |          be made writeable.  However, currently, locking a base object does not\n",
            " |   |          lock any views that already reference it, so under that circumstance it\n",
            " |   |          is possible to alter the contents of a locked array via a previously\n",
            " |   |          created writeable view onto it.)  Attempting to change a non-writeable\n",
            " |   |          array raises a RuntimeError exception.\n",
            " |   |      ALIGNED (A)\n",
            " |   |          The data and all elements are aligned appropriately for the hardware.\n",
            " |   |      WRITEBACKIFCOPY (X)\n",
            " |   |          This array is a copy of some other array. The C-API function\n",
            " |   |          PyArray_ResolveWritebackIfCopy must be called before deallocating\n",
            " |   |          to the base array will be updated with the contents of this array.\n",
            " |   |      FNC\n",
            " |   |          F_CONTIGUOUS and not C_CONTIGUOUS.\n",
            " |   |      FORC\n",
            " |   |          F_CONTIGUOUS or C_CONTIGUOUS (one-segment test).\n",
            " |   |      BEHAVED (B)\n",
            " |   |          ALIGNED and WRITEABLE.\n",
            " |   |      CARRAY (CA)\n",
            " |   |          BEHAVED and C_CONTIGUOUS.\n",
            " |   |      FARRAY (FA)\n",
            " |   |          BEHAVED and F_CONTIGUOUS and not C_CONTIGUOUS.\n",
            " |   |      \n",
            " |   |      Notes\n",
            " |   |      -----\n",
            " |   |      The `flags` object can be accessed dictionary-like (as in ``a.flags['WRITEABLE']``),\n",
            " |   |      or by using lowercased attribute names (as in ``a.flags.writeable``). Short flag\n",
            " |   |      names are only supported in dictionary access.\n",
            " |   |      \n",
            " |   |      Only the WRITEBACKIFCOPY, WRITEABLE, and ALIGNED flags can be\n",
            " |   |      changed by the user, via direct assignment to the attribute or dictionary\n",
            " |   |      entry, or by calling `ndarray.setflags`.\n",
            " |   |      \n",
            " |   |      The array flags cannot be set arbitrarily:\n",
            " |   |      \n",
            " |   |      - WRITEBACKIFCOPY can only be set ``False``.\n",
            " |   |      - ALIGNED can only be set ``True`` if the data is truly aligned.\n",
            " |   |      - WRITEABLE can only be set ``True`` if the array owns its own memory\n",
            " |   |        or the ultimate owner of the memory exposes a writeable buffer\n",
            " |   |        interface or is a string.\n",
            " |   |      \n",
            " |   |      Arrays can be both C-style and Fortran-style contiguous simultaneously.\n",
            " |   |      This is clear for 1-dimensional arrays, but can also be true for higher\n",
            " |   |      dimensional arrays.\n",
            " |   |      \n",
            " |   |      Even for contiguous arrays a stride for a given dimension\n",
            " |   |      ``arr.strides[dim]`` may be *arbitrary* if ``arr.shape[dim] == 1``\n",
            " |   |      or the array has no elements.\n",
            " |   |      It does *not* generally hold that ``self.strides[-1] == self.itemsize``\n",
            " |   |      for C-style contiguous arrays or ``self.strides[0] == self.itemsize`` for\n",
            " |   |      Fortran-style contiguous arrays is true.\n",
            " |   |  \n",
            " |   |  flat\n",
            " |   |      A 1-D iterator over the array.\n",
            " |   |      \n",
            " |   |      This is a `numpy.flatiter` instance, which acts similarly to, but is not\n",
            " |   |      a subclass of, Python's built-in iterator object.\n",
            " |   |      \n",
            " |   |      See Also\n",
            " |   |      --------\n",
            " |   |      flatten : Return a copy of the array collapsed into one dimension.\n",
            " |   |      \n",
            " |   |      flatiter\n",
            " |   |      \n",
            " |   |      Examples\n",
            " |   |      --------\n",
            " |   |      >>> x = np.arange(1, 7).reshape(2, 3)\n",
            " |   |      >>> x\n",
            " |   |      array([[1, 2, 3],\n",
            " |   |             [4, 5, 6]])\n",
            " |   |      >>> x.flat[3]\n",
            " |   |      4\n",
            " |   |      >>> x.T\n",
            " |   |      array([[1, 4],\n",
            " |   |             [2, 5],\n",
            " |   |             [3, 6]])\n",
            " |   |      >>> x.T.flat[3]\n",
            " |   |      5\n",
            " |   |      >>> type(x.flat)\n",
            " |   |      <class 'numpy.flatiter'>\n",
            " |   |      \n",
            " |   |      An assignment example:\n",
            " |   |      \n",
            " |   |      >>> x.flat = 3; x\n",
            " |   |      array([[3, 3, 3],\n",
            " |   |             [3, 3, 3]])\n",
            " |   |      >>> x.flat[[1,4]] = 1; x\n",
            " |   |      array([[3, 1, 3],\n",
            " |   |             [3, 1, 3]])\n",
            " |   |  \n",
            " |   |  imag\n",
            " |   |      The imaginary part of the array.\n",
            " |   |      \n",
            " |   |      Examples\n",
            " |   |      --------\n",
            " |   |      >>> x = np.sqrt([1+0j, 0+1j])\n",
            " |   |      >>> x.imag\n",
            " |   |      array([ 0.        ,  0.70710678])\n",
            " |   |      >>> x.imag.dtype\n",
            " |   |      dtype('float64')\n",
            " |   |  \n",
            " |   |  itemsize\n",
            " |   |      Length of one array element in bytes.\n",
            " |   |      \n",
            " |   |      Examples\n",
            " |   |      --------\n",
            " |   |      >>> x = np.array([1,2,3], dtype=np.float64)\n",
            " |   |      >>> x.itemsize\n",
            " |   |      8\n",
            " |   |      >>> x = np.array([1,2,3], dtype=np.complex128)\n",
            " |   |      >>> x.itemsize\n",
            " |   |      16\n",
            " |   |  \n",
            " |   |  nbytes\n",
            " |   |      Total bytes consumed by the elements of the array.\n",
            " |   |      \n",
            " |   |      Notes\n",
            " |   |      -----\n",
            " |   |      Does not include memory consumed by non-element attributes of the\n",
            " |   |      array object.\n",
            " |   |      \n",
            " |   |      See Also\n",
            " |   |      --------\n",
            " |   |      sys.getsizeof\n",
            " |   |          Memory consumed by the object itself without parents in case view.\n",
            " |   |          This does include memory consumed by non-element attributes.\n",
            " |   |      \n",
            " |   |      Examples\n",
            " |   |      --------\n",
            " |   |      >>> x = np.zeros((3,5,2), dtype=np.complex128)\n",
            " |   |      >>> x.nbytes\n",
            " |   |      480\n",
            " |   |      >>> np.prod(x.shape) * x.itemsize\n",
            " |   |      480\n",
            " |   |  \n",
            " |   |  ndim\n",
            " |   |      Number of array dimensions.\n",
            " |   |      \n",
            " |   |      Examples\n",
            " |   |      --------\n",
            " |   |      >>> x = np.array([1, 2, 3])\n",
            " |   |      >>> x.ndim\n",
            " |   |      1\n",
            " |   |      >>> y = np.zeros((2, 3, 4))\n",
            " |   |      >>> y.ndim\n",
            " |   |      3\n",
            " |   |  \n",
            " |   |  real\n",
            " |   |      The real part of the array.\n",
            " |   |      \n",
            " |   |      Examples\n",
            " |   |      --------\n",
            " |   |      >>> x = np.sqrt([1+0j, 0+1j])\n",
            " |   |      >>> x.real\n",
            " |   |      array([ 1.        ,  0.70710678])\n",
            " |   |      >>> x.real.dtype\n",
            " |   |      dtype('float64')\n",
            " |   |      \n",
            " |   |      See Also\n",
            " |   |      --------\n",
            " |   |      numpy.real : equivalent function\n",
            " |   |  \n",
            " |   |  shape\n",
            " |   |      Tuple of array dimensions.\n",
            " |   |      \n",
            " |   |      The shape property is usually used to get the current shape of an array,\n",
            " |   |      but may also be used to reshape the array in-place by assigning a tuple of\n",
            " |   |      array dimensions to it.  As with `numpy.reshape`, one of the new shape\n",
            " |   |      dimensions can be -1, in which case its value is inferred from the size of\n",
            " |   |      the array and the remaining dimensions. Reshaping an array in-place will\n",
            " |   |      fail if a copy is required.\n",
            " |   |      \n",
            " |   |      .. warning::\n",
            " |   |      \n",
            " |   |          Setting ``arr.shape`` is discouraged and may be deprecated in the\n",
            " |   |          future.  Using `ndarray.reshape` is the preferred approach.\n",
            " |   |      \n",
            " |   |      Examples\n",
            " |   |      --------\n",
            " |   |      >>> x = np.array([1, 2, 3, 4])\n",
            " |   |      >>> x.shape\n",
            " |   |      (4,)\n",
            " |   |      >>> y = np.zeros((2, 3, 4))\n",
            " |   |      >>> y.shape\n",
            " |   |      (2, 3, 4)\n",
            " |   |      >>> y.shape = (3, 8)\n",
            " |   |      >>> y\n",
            " |   |      array([[ 0.,  0.,  0.,  0.,  0.,  0.,  0.,  0.],\n",
            " |   |             [ 0.,  0.,  0.,  0.,  0.,  0.,  0.,  0.],\n",
            " |   |             [ 0.,  0.,  0.,  0.,  0.,  0.,  0.,  0.]])\n",
            " |   |      >>> y.shape = (3, 6)\n",
            " |   |      Traceback (most recent call last):\n",
            " |   |        File \"<stdin>\", line 1, in <module>\n",
            " |   |      ValueError: total size of new array must be unchanged\n",
            " |   |      >>> np.zeros((4,2))[::2].shape = (-1,)\n",
            " |   |      Traceback (most recent call last):\n",
            " |   |        File \"<stdin>\", line 1, in <module>\n",
            " |   |      AttributeError: Incompatible shape for in-place modification. Use\n",
            " |   |      `.reshape()` to make a copy with the desired shape.\n",
            " |   |      \n",
            " |   |      See Also\n",
            " |   |      --------\n",
            " |   |      numpy.shape : Equivalent getter function.\n",
            " |   |      numpy.reshape : Function similar to setting ``shape``.\n",
            " |   |      ndarray.reshape : Method similar to setting ``shape``.\n",
            " |   |  \n",
            " |   |  size\n",
            " |   |      Number of elements in the array.\n",
            " |   |      \n",
            " |   |      Equal to ``np.prod(a.shape)``, i.e., the product of the array's\n",
            " |   |      dimensions.\n",
            " |   |      \n",
            " |   |      Notes\n",
            " |   |      -----\n",
            " |   |      `a.size` returns a standard arbitrary precision Python integer. This\n",
            " |   |      may not be the case with other methods of obtaining the same value\n",
            " |   |      (like the suggested ``np.prod(a.shape)``, which returns an instance\n",
            " |   |      of ``np.int_``), and may be relevant if the value is used further in\n",
            " |   |      calculations that may overflow a fixed size integer type.\n",
            " |   |      \n",
            " |   |      Examples\n",
            " |   |      --------\n",
            " |   |      >>> x = np.zeros((3, 5, 2), dtype=np.complex128)\n",
            " |   |      >>> x.size\n",
            " |   |      30\n",
            " |   |      >>> np.prod(x.shape)\n",
            " |   |      30\n",
            " |   |  \n",
            " |   |  strides\n",
            " |   |      Tuple of bytes to step in each dimension when traversing an array.\n",
            " |   |      \n",
            " |   |      The byte offset of element ``(i[0], i[1], ..., i[n])`` in an array `a`\n",
            " |   |      is::\n",
            " |   |      \n",
            " |   |          offset = sum(np.array(i) * a.strides)\n",
            " |   |      \n",
            " |   |      A more detailed explanation of strides can be found in the\n",
            " |   |      \"ndarray.rst\" file in the NumPy reference guide.\n",
            " |   |      \n",
            " |   |      .. warning::\n",
            " |   |      \n",
            " |   |          Setting ``arr.strides`` is discouraged and may be deprecated in the\n",
            " |   |          future.  `numpy.lib.stride_tricks.as_strided` should be preferred\n",
            " |   |          to create a new view of the same data in a safer way.\n",
            " |   |      \n",
            " |   |      Notes\n",
            " |   |      -----\n",
            " |   |      Imagine an array of 32-bit integers (each 4 bytes)::\n",
            " |   |      \n",
            " |   |        x = np.array([[0, 1, 2, 3, 4],\n",
            " |   |                      [5, 6, 7, 8, 9]], dtype=np.int32)\n",
            " |   |      \n",
            " |   |      This array is stored in memory as 40 bytes, one after the other\n",
            " |   |      (known as a contiguous block of memory).  The strides of an array tell\n",
            " |   |      us how many bytes we have to skip in memory to move to the next position\n",
            " |   |      along a certain axis.  For example, we have to skip 4 bytes (1 value) to\n",
            " |   |      move to the next column, but 20 bytes (5 values) to get to the same\n",
            " |   |      position in the next row.  As such, the strides for the array `x` will be\n",
            " |   |      ``(20, 4)``.\n",
            " |   |      \n",
            " |   |      See Also\n",
            " |   |      --------\n",
            " |   |      numpy.lib.stride_tricks.as_strided\n",
            " |   |      \n",
            " |   |      Examples\n",
            " |   |      --------\n",
            " |   |      >>> y = np.reshape(np.arange(2*3*4), (2,3,4))\n",
            " |   |      >>> y\n",
            " |   |      array([[[ 0,  1,  2,  3],\n",
            " |   |              [ 4,  5,  6,  7],\n",
            " |   |              [ 8,  9, 10, 11]],\n",
            " |   |             [[12, 13, 14, 15],\n",
            " |   |              [16, 17, 18, 19],\n",
            " |   |              [20, 21, 22, 23]]])\n",
            " |   |      >>> y.strides\n",
            " |   |      (48, 16, 4)\n",
            " |   |      >>> y[1,1,1]\n",
            " |   |      17\n",
            " |   |      >>> offset=sum(y.strides * np.array((1,1,1)))\n",
            " |   |      >>> offset/y.itemsize\n",
            " |   |      17\n",
            " |   |      \n",
            " |   |      >>> x = np.reshape(np.arange(5*6*7*8), (5,6,7,8)).transpose(2,3,1,0)\n",
            " |   |      >>> x.strides\n",
            " |   |      (32, 4, 224, 1344)\n",
            " |   |      >>> i = np.array([3,5,2,2])\n",
            " |   |      >>> offset = sum(i * x.strides)\n",
            " |   |      >>> x[3,5,2,2]\n",
            " |   |      813\n",
            " |   |      >>> offset / x.itemsize\n",
            " |   |      813\n",
            " |   |  \n",
            " |   |  ----------------------------------------------------------------------\n",
            " |   |  Data and other attributes inherited from ndarray:\n",
            " |   |  \n",
            " |   |  __hash__ = None\n",
            " |  \n",
            " |  ----------------------------------------------------------------------\n",
            " |  Data descriptors inherited from AxisConcatenator:\n",
            " |  \n",
            " |  __dict__\n",
            " |      dictionary for instance variables (if defined)\n",
            " |  \n",
            " |  __weakref__\n",
            " |      list of weak references to the object (if defined)\n",
            "\n"
          ]
        }
      ]
    },
    {
      "cell_type": "code",
      "source": [
        "np.c_ == np.column_stack #책에는 없음"
      ],
      "metadata": {
        "colab": {
          "base_uri": "https://localhost:8080/"
        },
        "id": "3zXmq2nX0S2G",
        "outputId": "8b81e17d-ab23-46cd-8435-83842a754bd0"
      },
      "execution_count": 50,
      "outputs": [
        {
          "output_type": "execute_result",
          "data": {
            "text/plain": [
              "False"
            ]
          },
          "metadata": {},
          "execution_count": 50
        }
      ]
    },
    {
      "cell_type": "code",
      "source": [
        "import numpy as np\n",
        "a = np.array([1,2,3])\n",
        "b = np.array([4,5,6])"
      ],
      "metadata": {
        "id": "74L5VLpyz4DG"
      },
      "execution_count": 47,
      "outputs": []
    },
    {
      "cell_type": "code",
      "source": [
        "np.c_[a,b]"
      ],
      "metadata": {
        "colab": {
          "base_uri": "https://localhost:8080/"
        },
        "id": "76VbBjiX0NlG",
        "outputId": "04c41cc2-5d70-4388-faff-54e56d2d8573"
      },
      "execution_count": 48,
      "outputs": [
        {
          "output_type": "execute_result",
          "data": {
            "text/plain": [
              "array([[1, 4],\n",
              "       [2, 5],\n",
              "       [3, 6]])"
            ]
          },
          "metadata": {},
          "execution_count": 48
        }
      ]
    },
    {
      "cell_type": "code",
      "source": [
        "np.column_stack((a,b))"
      ],
      "metadata": {
        "colab": {
          "base_uri": "https://localhost:8080/"
        },
        "id": "2VsK7cgG0QmQ",
        "outputId": "4ae4091d-3ea4-49e6-8d0d-98a6da616363"
      },
      "execution_count": 51,
      "outputs": [
        {
          "output_type": "execute_result",
          "data": {
            "text/plain": [
              "array([[1, 4],\n",
              "       [2, 5],\n",
              "       [3, 6]])"
            ]
          },
          "metadata": {},
          "execution_count": 51
        }
      ]
    },
    {
      "cell_type": "code",
      "source": [
        "np.c_[a,b]==np.column_stack((a,b)) #책에는 없음 이렇게 하면 내용끼리 비교하는구나.."
      ],
      "metadata": {
        "colab": {
          "base_uri": "https://localhost:8080/"
        },
        "id": "T0DHifWf0fDA",
        "outputId": "ebdfc81d-6499-4f28-c6b0-1ca0e3aab532"
      },
      "execution_count": 53,
      "outputs": [
        {
          "output_type": "execute_result",
          "data": {
            "text/plain": [
              "array([[ True,  True],\n",
              "       [ True,  True],\n",
              "       [ True,  True]])"
            ]
          },
          "metadata": {},
          "execution_count": 53
        }
      ]
    },
    {
      "cell_type": "code",
      "source": [
        "x = np.array([[1,2,3]])\n",
        "y = np.array([[4,5,6]])"
      ],
      "metadata": {
        "id": "CUpP72jp0h6C"
      },
      "execution_count": 54,
      "outputs": []
    },
    {
      "cell_type": "code",
      "source": [
        "np.c_[x,y]"
      ],
      "metadata": {
        "colab": {
          "base_uri": "https://localhost:8080/"
        },
        "id": "w4krHG1i0wC4",
        "outputId": "114efa65-40fe-4f8f-b3c6-7321c2d24092"
      },
      "execution_count": 55,
      "outputs": [
        {
          "output_type": "execute_result",
          "data": {
            "text/plain": [
              "array([[1, 2, 3, 4, 5, 6]])"
            ]
          },
          "metadata": {},
          "execution_count": 55
        }
      ]
    },
    {
      "cell_type": "markdown",
      "source": [
        "## np.r_[] 개요"
      ],
      "metadata": {
        "id": "Pq1_k28s0xx7"
      }
    },
    {
      "cell_type": "code",
      "source": [
        "import numpy as np\n",
        "a = np.array([1,2,3])\n",
        "b = np.array([4,5,6])\n",
        "np.r_[a,b]"
      ],
      "metadata": {
        "id": "9bNN6lynBOeu"
      },
      "execution_count": null,
      "outputs": []
    },
    {
      "cell_type": "code",
      "source": [
        "np.hstack((a,b))"
      ],
      "metadata": {
        "colab": {
          "base_uri": "https://localhost:8080/"
        },
        "id": "Nh9DfMZ0BXDA",
        "outputId": "b68a9568-25f5-409a-8fd7-5904ea388c4b"
      },
      "execution_count": 56,
      "outputs": [
        {
          "output_type": "execute_result",
          "data": {
            "text/plain": [
              "array([1, 2, 3, 4, 5, 6])"
            ]
          },
          "metadata": {},
          "execution_count": 56
        }
      ]
    },
    {
      "cell_type": "code",
      "source": [
        "np.row_stack((a,b))"
      ],
      "metadata": {
        "colab": {
          "base_uri": "https://localhost:8080/"
        },
        "id": "Ffi3Fw44BY42",
        "outputId": "7cfeeecf-d152-43eb-f113-7bcc66c5b635"
      },
      "execution_count": 57,
      "outputs": [
        {
          "output_type": "execute_result",
          "data": {
            "text/plain": [
              "array([[1, 2, 3],\n",
              "       [4, 5, 6]])"
            ]
          },
          "metadata": {},
          "execution_count": 57
        }
      ]
    },
    {
      "cell_type": "code",
      "source": [
        "np.r_[a,0,0,b]"
      ],
      "metadata": {
        "colab": {
          "base_uri": "https://localhost:8080/"
        },
        "id": "q2K_9d3TBaOu",
        "outputId": "7aaabcd1-92c0-499f-f90d-f94ef0ab9653"
      },
      "execution_count": 58,
      "outputs": [
        {
          "output_type": "execute_result",
          "data": {
            "text/plain": [
              "array([1, 2, 3, 0, 0, 4, 5, 6])"
            ]
          },
          "metadata": {},
          "execution_count": 58
        }
      ]
    },
    {
      "cell_type": "code",
      "source": [
        "np.r_[3:10:3,[0]*2,5,6]"
      ],
      "metadata": {
        "colab": {
          "base_uri": "https://localhost:8080/"
        },
        "id": "ecc9M94EBoP7",
        "outputId": "1ebf312a-6c15-4a8b-ef2a-6859065c0441"
      },
      "execution_count": 59,
      "outputs": [
        {
          "output_type": "execute_result",
          "data": {
            "text/plain": [
              "array([3, 6, 9, 0, 0, 5, 6])"
            ]
          },
          "metadata": {},
          "execution_count": 59
        }
      ]
    },
    {
      "cell_type": "code",
      "source": [
        "np.r_[-1:1:6j, [0]*2,5,6]"
      ],
      "metadata": {
        "colab": {
          "base_uri": "https://localhost:8080/"
        },
        "id": "jt0TnK2fBvFv",
        "outputId": "fc325db9-6056-47a9-83eb-d808b4c1f979"
      },
      "execution_count": 60,
      "outputs": [
        {
          "output_type": "execute_result",
          "data": {
            "text/plain": [
              "array([-1. , -0.6, -0.2,  0.2,  0.6,  1. ,  0. ,  0. ,  5. ,  6. ])"
            ]
          },
          "metadata": {},
          "execution_count": 60
        }
      ]
    },
    {
      "cell_type": "code",
      "source": [
        "np.linspace(-1,1,6)"
      ],
      "metadata": {
        "colab": {
          "base_uri": "https://localhost:8080/"
        },
        "id": "rGDrDJ-tB1aj",
        "outputId": "3f1b16ab-2d60-48da-8a9d-537a92d98cdc"
      },
      "execution_count": 61,
      "outputs": [
        {
          "output_type": "execute_result",
          "data": {
            "text/plain": [
              "array([-1. , -0.6, -0.2,  0.2,  0.6,  1. ])"
            ]
          },
          "metadata": {},
          "execution_count": 61
        }
      ]
    },
    {
      "cell_type": "markdown",
      "source": [
        "## np.r_['i, j, k', a , b]"
      ],
      "metadata": {
        "id": "J3TRmJAhC68f"
      }
    },
    {
      "cell_type": "code",
      "source": [
        "a = np.array([[0,1,2],[3,4,5]])\n",
        "a"
      ],
      "metadata": {
        "colab": {
          "base_uri": "https://localhost:8080/"
        },
        "id": "a8iI6SL5DJJN",
        "outputId": "7463e9bb-fad8-46d2-caa8-fe0319b3edaf"
      },
      "execution_count": 62,
      "outputs": [
        {
          "output_type": "execute_result",
          "data": {
            "text/plain": [
              "array([[0, 1, 2],\n",
              "       [3, 4, 5]])"
            ]
          },
          "metadata": {},
          "execution_count": 62
        }
      ]
    },
    {
      "cell_type": "code",
      "source": [
        "np.r_[a,a,a]"
      ],
      "metadata": {
        "colab": {
          "base_uri": "https://localhost:8080/"
        },
        "id": "P4h00L1GDnJV",
        "outputId": "b2d48a31-6476-4528-9ef1-4c458d6e2517"
      },
      "execution_count": 63,
      "outputs": [
        {
          "output_type": "execute_result",
          "data": {
            "text/plain": [
              "array([[0, 1, 2],\n",
              "       [3, 4, 5],\n",
              "       [0, 1, 2],\n",
              "       [3, 4, 5],\n",
              "       [0, 1, 2],\n",
              "       [3, 4, 5]])"
            ]
          },
          "metadata": {},
          "execution_count": 63
        }
      ]
    },
    {
      "cell_type": "code",
      "source": [
        "np.r_['0',a,a]"
      ],
      "metadata": {
        "colab": {
          "base_uri": "https://localhost:8080/"
        },
        "id": "0TG7U3xuDpcM",
        "outputId": "416cba46-62ce-4192-fbbd-f5f24db8eb67"
      },
      "execution_count": 64,
      "outputs": [
        {
          "output_type": "execute_result",
          "data": {
            "text/plain": [
              "array([[0, 1, 2],\n",
              "       [3, 4, 5],\n",
              "       [0, 1, 2],\n",
              "       [3, 4, 5]])"
            ]
          },
          "metadata": {},
          "execution_count": 64
        }
      ]
    },
    {
      "cell_type": "code",
      "source": [
        "np.r_['-1',a,a]"
      ],
      "metadata": {
        "colab": {
          "base_uri": "https://localhost:8080/"
        },
        "id": "7ucZKyNHDta_",
        "outputId": "6f503b30-b380-4497-88f8-e1d86620e22d"
      },
      "execution_count": 65,
      "outputs": [
        {
          "output_type": "execute_result",
          "data": {
            "text/plain": [
              "array([[0, 1, 2, 0, 1, 2],\n",
              "       [3, 4, 5, 3, 4, 5]])"
            ]
          },
          "metadata": {},
          "execution_count": 65
        }
      ]
    },
    {
      "cell_type": "code",
      "source": [
        "np.r_['1',a,a]"
      ],
      "metadata": {
        "colab": {
          "base_uri": "https://localhost:8080/"
        },
        "id": "NSckO9wND1eH",
        "outputId": "ad55dd81-f4b8-4115-b33b-890d4fad53e4"
      },
      "execution_count": 66,
      "outputs": [
        {
          "output_type": "execute_result",
          "data": {
            "text/plain": [
              "array([[0, 1, 2, 0, 1, 2],\n",
              "       [3, 4, 5, 3, 4, 5]])"
            ]
          },
          "metadata": {},
          "execution_count": 66
        }
      ]
    },
    {
      "cell_type": "code",
      "source": [
        "np.r_['0,2',[1,2,3],[4,5,6]]"
      ],
      "metadata": {
        "colab": {
          "base_uri": "https://localhost:8080/"
        },
        "id": "i1u5EDEmD6-H",
        "outputId": "ce9c8e20-314c-4042-d007-f5247d71bc63"
      },
      "execution_count": 67,
      "outputs": [
        {
          "output_type": "execute_result",
          "data": {
            "text/plain": [
              "array([[1, 2, 3],\n",
              "       [4, 5, 6]])"
            ]
          },
          "metadata": {},
          "execution_count": 67
        }
      ]
    },
    {
      "cell_type": "code",
      "source": [
        "np.r_['0,3',[1,2,3],[4,5,6]]"
      ],
      "metadata": {
        "colab": {
          "base_uri": "https://localhost:8080/"
        },
        "id": "sZek8UCCPPkG",
        "outputId": "7a53da67-96d6-4074-a89b-d5cf61f68499"
      },
      "execution_count": 68,
      "outputs": [
        {
          "output_type": "execute_result",
          "data": {
            "text/plain": [
              "array([[[1, 2, 3]],\n",
              "\n",
              "       [[4, 5, 6]]])"
            ]
          },
          "metadata": {},
          "execution_count": 68
        }
      ]
    },
    {
      "cell_type": "code",
      "source": [
        "np.r_['0,3,0',[1,2,3],[4,5,6]]"
      ],
      "metadata": {
        "colab": {
          "base_uri": "https://localhost:8080/"
        },
        "id": "e2AcQvi0PRsX",
        "outputId": "ce959d83-d882-460d-af6d-d4e8ce18dbd8"
      },
      "execution_count": 69,
      "outputs": [
        {
          "output_type": "execute_result",
          "data": {
            "text/plain": [
              "array([[[1]],\n",
              "\n",
              "       [[2]],\n",
              "\n",
              "       [[3]],\n",
              "\n",
              "       [[4]],\n",
              "\n",
              "       [[5]],\n",
              "\n",
              "       [[6]]])"
            ]
          },
          "metadata": {},
          "execution_count": 69
        }
      ]
    },
    {
      "cell_type": "code",
      "source": [
        "np.r_['0,3,0',[1,2,3],[4,5,6]].shape"
      ],
      "metadata": {
        "colab": {
          "base_uri": "https://localhost:8080/"
        },
        "id": "CMC3QMJbPWrD",
        "outputId": "46418f93-0d3a-4309-f7f3-e8e28d0cb541"
      },
      "execution_count": 70,
      "outputs": [
        {
          "output_type": "execute_result",
          "data": {
            "text/plain": [
              "(6, 1, 1)"
            ]
          },
          "metadata": {},
          "execution_count": 70
        }
      ]
    },
    {
      "cell_type": "code",
      "source": [
        "np.r_['0,3,1',[1,2,3],[4,5,6]]"
      ],
      "metadata": {
        "colab": {
          "base_uri": "https://localhost:8080/"
        },
        "id": "kMxvAJD0Pa2m",
        "outputId": "38eece5e-b5da-4ba5-8e74-49a45d999c5c"
      },
      "execution_count": 71,
      "outputs": [
        {
          "output_type": "execute_result",
          "data": {
            "text/plain": [
              "array([[[1],\n",
              "        [2],\n",
              "        [3]],\n",
              "\n",
              "       [[4],\n",
              "        [5],\n",
              "        [6]]])"
            ]
          },
          "metadata": {},
          "execution_count": 71
        }
      ]
    },
    {
      "cell_type": "code",
      "source": [
        "np.r_['0,3,1',[1,2,3],[4,5,6]].shape"
      ],
      "metadata": {
        "colab": {
          "base_uri": "https://localhost:8080/"
        },
        "id": "8BB-dOhnPdDt",
        "outputId": "5795bed4-8050-4468-8ea0-0074ceaebf70"
      },
      "execution_count": 72,
      "outputs": [
        {
          "output_type": "execute_result",
          "data": {
            "text/plain": [
              "(2, 3, 1)"
            ]
          },
          "metadata": {},
          "execution_count": 72
        }
      ]
    },
    {
      "cell_type": "code",
      "source": [
        "np.r_['0,3,2',[1,2,3],[4,5,6]]"
      ],
      "metadata": {
        "colab": {
          "base_uri": "https://localhost:8080/"
        },
        "id": "AmYFsmCgPd67",
        "outputId": "988c48e9-66d3-497f-d18d-301431020073"
      },
      "execution_count": 73,
      "outputs": [
        {
          "output_type": "execute_result",
          "data": {
            "text/plain": [
              "array([[[1, 2, 3]],\n",
              "\n",
              "       [[4, 5, 6]]])"
            ]
          },
          "metadata": {},
          "execution_count": 73
        }
      ]
    },
    {
      "cell_type": "markdown",
      "source": [
        "## 여러 1차원 배열을 수평 방향으로 합치는 방법"
      ],
      "metadata": {
        "id": "BFDEdGJiPhVp"
      }
    },
    {
      "cell_type": "code",
      "source": [
        "import numpy as np\n",
        "\n",
        "a = np.array([1,2,3])\n",
        "b = np.array([4,5,6])\n",
        "print(a.shape)\n",
        "print(b.shape)"
      ],
      "metadata": {
        "colab": {
          "base_uri": "https://localhost:8080/"
        },
        "id": "Va_lLSD8PosY",
        "outputId": "a1a51e84-67a2-484a-d12a-0829054cc330"
      },
      "execution_count": 74,
      "outputs": [
        {
          "output_type": "stream",
          "name": "stdout",
          "text": [
            "(3,)\n",
            "(3,)\n"
          ]
        }
      ]
    },
    {
      "cell_type": "code",
      "source": [
        "np.hstack((a,b))"
      ],
      "metadata": {
        "colab": {
          "base_uri": "https://localhost:8080/"
        },
        "id": "CuUzH_dRP1Z-",
        "outputId": "f7b36302-d72c-45a2-cdeb-12292c4e330e"
      },
      "execution_count": 75,
      "outputs": [
        {
          "output_type": "execute_result",
          "data": {
            "text/plain": [
              "array([1, 2, 3, 4, 5, 6])"
            ]
          },
          "metadata": {},
          "execution_count": 75
        }
      ]
    },
    {
      "cell_type": "code",
      "source": [
        "np.r_[a,b]"
      ],
      "metadata": {
        "colab": {
          "base_uri": "https://localhost:8080/"
        },
        "id": "bntoz_fzP5DY",
        "outputId": "9b71861f-db28-4018-af13-876f071aca6a"
      },
      "execution_count": 76,
      "outputs": [
        {
          "output_type": "execute_result",
          "data": {
            "text/plain": [
              "array([1, 2, 3, 4, 5, 6])"
            ]
          },
          "metadata": {},
          "execution_count": 76
        }
      ]
    },
    {
      "cell_type": "code",
      "source": [
        "np.concatenate((a,b))"
      ],
      "metadata": {
        "colab": {
          "base_uri": "https://localhost:8080/"
        },
        "id": "k6OEswX_P5nn",
        "outputId": "21f78201-c9cf-44f4-9c81-5916b46e76cf"
      },
      "execution_count": 78,
      "outputs": [
        {
          "output_type": "execute_result",
          "data": {
            "text/plain": [
              "array([1, 2, 3, 4, 5, 6])"
            ]
          },
          "metadata": {},
          "execution_count": 78
        }
      ]
    },
    {
      "cell_type": "markdown",
      "source": [
        "## 여러 1차원 배열을 수직 방향으로 합치는 방법"
      ],
      "metadata": {
        "id": "L-QBC4TnP9wM"
      }
    },
    {
      "cell_type": "code",
      "source": [
        "import numpy as np\n",
        "\n",
        "a = np.array([1,2,3])\n",
        "b = np.array([4,5,6])\n",
        "\n",
        "print(a.shape)\n",
        "print(b.shape)"
      ],
      "metadata": {
        "colab": {
          "base_uri": "https://localhost:8080/"
        },
        "id": "9dfVOcdtQCae",
        "outputId": "d666c858-da9f-42cf-8661-185e62383f1b"
      },
      "execution_count": 79,
      "outputs": [
        {
          "output_type": "stream",
          "name": "stdout",
          "text": [
            "(3,)\n",
            "(3,)\n"
          ]
        }
      ]
    },
    {
      "cell_type": "code",
      "source": [
        "np.vstack((a,b))"
      ],
      "metadata": {
        "colab": {
          "base_uri": "https://localhost:8080/"
        },
        "id": "LTdVn5BEQFGk",
        "outputId": "f2fad0bf-e242-47c4-b0d5-9f72308418e5"
      },
      "execution_count": 80,
      "outputs": [
        {
          "output_type": "execute_result",
          "data": {
            "text/plain": [
              "array([[1, 2, 3],\n",
              "       [4, 5, 6]])"
            ]
          },
          "metadata": {},
          "execution_count": 80
        }
      ]
    },
    {
      "cell_type": "code",
      "source": [
        "np.row_stack((a,b))"
      ],
      "metadata": {
        "colab": {
          "base_uri": "https://localhost:8080/"
        },
        "id": "-4y6LyWuQH3t",
        "outputId": "45de7a51-c065-40f3-dbff-f5d39b6e294d"
      },
      "execution_count": 81,
      "outputs": [
        {
          "output_type": "execute_result",
          "data": {
            "text/plain": [
              "array([[1, 2, 3],\n",
              "       [4, 5, 6]])"
            ]
          },
          "metadata": {},
          "execution_count": 81
        }
      ]
    },
    {
      "cell_type": "code",
      "source": [
        "np.r_[a[np.newaxis,:],b[np.newaxis,:]]"
      ],
      "metadata": {
        "colab": {
          "base_uri": "https://localhost:8080/"
        },
        "id": "jnZa1ssyQKKv",
        "outputId": "e3c0dbe9-c2d9-40ad-8ae3-fa2ff5d75c48"
      },
      "execution_count": 82,
      "outputs": [
        {
          "output_type": "execute_result",
          "data": {
            "text/plain": [
              "array([[1, 2, 3],\n",
              "       [4, 5, 6]])"
            ]
          },
          "metadata": {},
          "execution_count": 82
        }
      ]
    },
    {
      "cell_type": "code",
      "source": [
        "np.concatenate((a[np.newaxis,:],b[np.newaxis,:]))"
      ],
      "metadata": {
        "colab": {
          "base_uri": "https://localhost:8080/"
        },
        "id": "pP7_YZV9QNMs",
        "outputId": "7c353bdd-4a33-4644-e1ac-e4043dafc1cf"
      },
      "execution_count": 83,
      "outputs": [
        {
          "output_type": "execute_result",
          "data": {
            "text/plain": [
              "array([[1, 2, 3],\n",
              "       [4, 5, 6]])"
            ]
          },
          "metadata": {},
          "execution_count": 83
        }
      ]
    },
    {
      "cell_type": "markdown",
      "source": [
        "## 여러 1차원 배열을 행으로 확장해 수평 방향으로 합치는 방법"
      ],
      "metadata": {
        "id": "78g5ic3GQTUL"
      }
    },
    {
      "cell_type": "code",
      "source": [
        "import numpy as np\n",
        "\n",
        "a = np.array([1,2,3])\n",
        "b = np.array([4,5,6])\n",
        "\n",
        "print(a.shape)\n",
        "print(b.shape)"
      ],
      "metadata": {
        "colab": {
          "base_uri": "https://localhost:8080/"
        },
        "id": "IkoPC4xKQbhD",
        "outputId": "c792f1a0-9e63-444f-a486-419837b21297"
      },
      "execution_count": 84,
      "outputs": [
        {
          "output_type": "stream",
          "name": "stdout",
          "text": [
            "(3,)\n",
            "(3,)\n"
          ]
        }
      ]
    },
    {
      "cell_type": "code",
      "source": [
        "np.column_stack((a,b))"
      ],
      "metadata": {
        "colab": {
          "base_uri": "https://localhost:8080/"
        },
        "id": "EpIdPv5VQe_6",
        "outputId": "ee9dba64-441f-4193-b93b-70726f1adf30"
      },
      "execution_count": 85,
      "outputs": [
        {
          "output_type": "execute_result",
          "data": {
            "text/plain": [
              "array([[1, 4],\n",
              "       [2, 5],\n",
              "       [3, 6]])"
            ]
          },
          "metadata": {},
          "execution_count": 85
        }
      ]
    },
    {
      "cell_type": "code",
      "source": [
        "np.hstack((a[:,np.newaxis],b[:,np.newaxis]))"
      ],
      "metadata": {
        "colab": {
          "base_uri": "https://localhost:8080/"
        },
        "id": "xum0Okb1QhM9",
        "outputId": "c7ef333a-a22d-4fa2-bc78-66e15bf34f95"
      },
      "execution_count": 86,
      "outputs": [
        {
          "output_type": "execute_result",
          "data": {
            "text/plain": [
              "array([[1, 4],\n",
              "       [2, 5],\n",
              "       [3, 6]])"
            ]
          },
          "metadata": {},
          "execution_count": 86
        }
      ]
    },
    {
      "cell_type": "code",
      "source": [
        "np.r_[a,b]"
      ],
      "metadata": {
        "colab": {
          "base_uri": "https://localhost:8080/"
        },
        "id": "0VgW8qlDQlz1",
        "outputId": "216188ca-0833-4a04-bf84-612de2a8ba9f"
      },
      "execution_count": 87,
      "outputs": [
        {
          "output_type": "execute_result",
          "data": {
            "text/plain": [
              "array([1, 2, 3, 4, 5, 6])"
            ]
          },
          "metadata": {},
          "execution_count": 87
        }
      ]
    },
    {
      "cell_type": "code",
      "source": [
        "np.concatenate(((a[:,np.newaxis],b[:,np.newaxis])),axis=1)"
      ],
      "metadata": {
        "colab": {
          "base_uri": "https://localhost:8080/"
        },
        "id": "3k9y-CM8QoOy",
        "outputId": "6160c4f1-068c-4b4f-f746-6e5a6642481b"
      },
      "execution_count": 88,
      "outputs": [
        {
          "output_type": "execute_result",
          "data": {
            "text/plain": [
              "array([[1, 4],\n",
              "       [2, 5],\n",
              "       [3, 6]])"
            ]
          },
          "metadata": {},
          "execution_count": 88
        }
      ]
    },
    {
      "cell_type": "code",
      "source": [],
      "metadata": {
        "id": "-AB0J_K5QwNB"
      },
      "execution_count": null,
      "outputs": []
    }
  ]
}